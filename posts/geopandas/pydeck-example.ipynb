{
 "cells": [
  {
   "attachments": {},
   "cell_type": "markdown",
   "metadata": {},
   "source": [
    "### Install"
   ]
  },
  {
   "attachments": {},
   "cell_type": "markdown",
   "metadata": {},
   "source": [
    "pydeck 설치 가이드 - https://deckgl.readthedocs.io/en/latest/installation.html  \n",
    "강의자료 출처 - https://zzsza.github.io/data/2019/11/24/pydeck/"
   ]
  },
  {
   "cell_type": "raw",
   "metadata": {},
   "source": [
    "!pip install pydeck"
   ]
  },
  {
   "cell_type": "code",
   "execution_count": 20,
   "metadata": {},
   "outputs": [
    {
     "name": "stderr",
     "output_type": "stream",
     "text": [
      "Installing C:\\Users\\joppu\\ana\\lib\\site-packages\\pydeck\\nbextension/static -> pydeck\n",
      "Symlinking: C:\\Users\\joppu\\ana\\share\\jupyter\\nbextensions\\pydeck -> C:\\Users\\joppu\\ana\\lib\\site-packages\\pydeck\\nbextension\\static\n",
      "Traceback (most recent call last):\n",
      "  File \"C:\\Users\\joppu\\ana\\Scripts\\jupyter-nbextension-script.py\", line 10, in <module>\n",
      "    sys.exit(main())\n",
      "  File \"C:\\Users\\joppu\\ana\\lib\\site-packages\\jupyter_core\\application.py\", line 277, in launch_instance\n",
      "    return super().launch_instance(argv=argv, **kwargs)\n",
      "  File \"C:\\Users\\joppu\\ana\\lib\\site-packages\\traitlets\\config\\application.py\", line 992, in launch_instance\n",
      "    app.start()\n",
      "  File \"C:\\Users\\joppu\\ana\\lib\\site-packages\\notebook\\nbextensions.py\", line 972, in start\n",
      "    super().start()\n",
      "  File \"C:\\Users\\joppu\\ana\\lib\\site-packages\\jupyter_core\\application.py\", line 266, in start\n",
      "    self.subapp.start()\n",
      "  File \"C:\\Users\\joppu\\ana\\lib\\site-packages\\notebook\\nbextensions.py\", line 702, in start\n",
      "    self.install_extensions()\n",
      "  File \"C:\\Users\\joppu\\ana\\lib\\site-packages\\notebook\\nbextensions.py\", line 675, in install_extensions\n",
      "    full_dests = install(self.extra_args[0],\n",
      "  File \"C:\\Users\\joppu\\ana\\lib\\site-packages\\notebook\\nbextensions.py\", line 214, in install_nbextension_python\n",
      "    full_dest = install_nbextension(\n",
      "  File \"C:\\Users\\joppu\\ana\\lib\\site-packages\\notebook\\nbextensions.py\", line 176, in install_nbextension\n",
      "    os.symlink(path, full_dest)\n",
      "OSError: [WinError 1314] 클라이언트가 필요한 권한을 가지고 있지 않습니다: 'C:\\\\Users\\\\joppu\\\\ana\\\\lib\\\\site-packages\\\\pydeck\\\\nbextension\\\\static' -> 'C:\\\\Users\\\\joppu\\\\ana\\\\share\\\\jupyter\\\\nbextensions\\\\pydeck'\n",
      "Enabling notebook extension pydeck/extensionRequires...\n",
      "      - Validating: problems found:\n",
      "        - require?  X pydeck/extensionRequires\n"
     ]
    }
   ],
   "source": [
    "!jupyter nbextension install --sys-prefix --symlink --overwrite --py pydeck\n",
    "!jupyter nbextension enable --sys-prefix --py pydeck"
   ]
  },
  {
   "cell_type": "code",
   "execution_count": 21,
   "metadata": {},
   "outputs": [],
   "source": [
    "# MAPBOX_API_KEY=\"pk.eyJ1Ijoic3BlYXI1MzA2IiwiYSI6ImNremN5Z2FrOTI0ZGgycm45Mzh3dDV6OWQifQ.kXGWHPRjnVAEHgVgLzXn2g\""
   ]
  },
  {
   "attachments": {},
   "cell_type": "markdown",
   "metadata": {},
   "source": [
    "### 공식 홈페이지 예시"
   ]
  },
  {
   "cell_type": "code",
   "execution_count": 22,
   "metadata": {},
   "outputs": [
    {
     "data": {
      "text/html": [
       "<div>\n",
       "<style scoped>\n",
       "    .dataframe tbody tr th:only-of-type {\n",
       "        vertical-align: middle;\n",
       "    }\n",
       "\n",
       "    .dataframe tbody tr th {\n",
       "        vertical-align: top;\n",
       "    }\n",
       "\n",
       "    .dataframe thead th {\n",
       "        text-align: right;\n",
       "    }\n",
       "</style>\n",
       "<table border=\"1\" class=\"dataframe\">\n",
       "  <thead>\n",
       "    <tr style=\"text-align: right;\">\n",
       "      <th></th>\n",
       "      <th>lng</th>\n",
       "      <th>lat</th>\n",
       "    </tr>\n",
       "  </thead>\n",
       "  <tbody>\n",
       "    <tr>\n",
       "      <th>0</th>\n",
       "      <td>-0.198465</td>\n",
       "      <td>51.505538</td>\n",
       "    </tr>\n",
       "    <tr>\n",
       "      <th>1</th>\n",
       "      <td>-0.178838</td>\n",
       "      <td>51.491836</td>\n",
       "    </tr>\n",
       "    <tr>\n",
       "      <th>2</th>\n",
       "      <td>-0.205590</td>\n",
       "      <td>51.514910</td>\n",
       "    </tr>\n",
       "    <tr>\n",
       "      <th>3</th>\n",
       "      <td>-0.208327</td>\n",
       "      <td>51.514952</td>\n",
       "    </tr>\n",
       "    <tr>\n",
       "      <th>4</th>\n",
       "      <td>-0.206022</td>\n",
       "      <td>51.496572</td>\n",
       "    </tr>\n",
       "  </tbody>\n",
       "</table>\n",
       "</div>"
      ],
      "text/plain": [
       "        lng        lat\n",
       "0 -0.198465  51.505538\n",
       "1 -0.178838  51.491836\n",
       "2 -0.205590  51.514910\n",
       "3 -0.208327  51.514952\n",
       "4 -0.206022  51.496572"
      ]
     },
     "execution_count": 22,
     "metadata": {},
     "output_type": "execute_result"
    }
   ],
   "source": [
    "import pandas as pd\n",
    "import pydeck\n",
    "\n",
    "UK_ACCIDENTS_DATA = 'https://raw.githubusercontent.com/uber-common/deck.gl-data/master/examples/3d-heatmap/heatmap-data.csv'\n",
    "\n",
    "pd.read_csv(UK_ACCIDENTS_DATA).head()\n",
    "#아래의 데이터는 포인트 데이터 라고한다."
   ]
  },
  {
   "cell_type": "code",
   "execution_count": 23,
   "metadata": {},
   "outputs": [
    {
     "data": {
      "text/plain": [
       "'https://raw.githubusercontent.com/uber-common/deck.gl-data/master/examples/3d-heatmap/heatmap-data.csv'"
      ]
     },
     "execution_count": 23,
     "metadata": {},
     "output_type": "execute_result"
    }
   ],
   "source": [
    "UK_ACCIDENTS_DATA"
   ]
  },
  {
   "cell_type": "code",
   "execution_count": 24,
   "metadata": {},
   "outputs": [
    {
     "data": {
      "application/vnd.jupyter.widget-view+json": {
       "model_id": "8d64f1c480d74750a8b78ca94c30ea1a",
       "version_major": 2,
       "version_minor": 0
      },
      "text/plain": [
       "DeckGLWidget(carto_key=None, custom_libraries=[], google_maps_key=None, json_input='{\\n  \"initialViewState\": {…"
      ]
     },
     "metadata": {},
     "output_type": "display_data"
    }
   ],
   "source": [
    "## 영국의 교통사고의 위치를 나타내줌  ## 시각화는 poligon 데이터로 맵핑이 됨 \n",
    "layer = pydeck.Layer(\n",
    "    'HexagonLayer',  # HexagonLayer를 생성하는 레이어 타입\n",
    "    UK_ACCIDENTS_DATA,  # 교통사고 데이터\n",
    "    get_position='[lng,lat]',  # 위치 정보를 가져오는 열 지정\n",
    "    auto_highlight=True,  # 마우스 오버시 자동으로 강조 표시 활성화\n",
    "    elevation_scale=50,  # 육각형의 높이 스케일\n",
    "    pickable=True,  # 육각형 선택 가능\n",
    "    elevation_range=[0, 3000],  # 육각형의 높이 범위\n",
    "    extruded=True,  # 입체적으로 육각형 표현\n",
    "    coverage=0.3)  # 육각형의 범위 조정\n",
    "\n",
    "view_state = pydeck.ViewState(\n",
    "    longitude=-1.415,  # 초기 중심 위치의 경도\n",
    "    latitude=52.2323,  # 초기 중심 위치의 위도\n",
    "    zoom=6,  # 초기 줌 레벨\n",
    "    min_zoom=5,  # 최소 줌 레벨\n",
    "    max_zoom=15,  # 최대 줌 레벨\n",
    "    pitch=40.5,  # 뷰포트의 기울기\n",
    "    bearing=-27.36)  # 뷰포트의 방향\n",
    "\n",
    "r = pydeck.Deck(layers=[layer], initial_view_state=view_state)  # 레이어와 뷰포트 설정으로 Deck 생성\n",
    "r.show()  # 맵을 보여줌\n",
    "# r.to_html('demo.html')  # 맵을 HTML 파일로 내보냄 (현재 주석 처리되어 있음)\n",
    "\n",
    "##텍사곤 자체를 크게 키우는 방법을 알고싶다.HexagonLayer의 크기를 높이는 방법"
   ]
  },
  {
   "cell_type": "code",
   "execution_count": 6,
   "metadata": {},
   "outputs": [],
   "source": [
    "layer.elevation_range = [0, 500]\n",
    "\n",
    "r.update()"
   ]
  },
  {
   "cell_type": "code",
   "execution_count": 7,
   "metadata": {},
   "outputs": [],
   "source": [
    "import pydeck as pdk"
   ]
  },
  {
   "cell_type": "code",
   "execution_count": 20,
   "metadata": {},
   "outputs": [
    {
     "data": {
      "text/plain": [
       "\u001b[1;31mInit signature:\u001b[0m\n",
       "\u001b[0mpdk\u001b[0m\u001b[1;33m.\u001b[0m\u001b[0mDeck\u001b[0m\u001b[1;33m(\u001b[0m\u001b[1;33m\n",
       "\u001b[0m    \u001b[0mlayers\u001b[0m\u001b[1;33m=\u001b[0m\u001b[1;32mNone\u001b[0m\u001b[1;33m,\u001b[0m\u001b[1;33m\n",
       "\u001b[0m    \u001b[0mviews\u001b[0m\u001b[1;33m=\u001b[0m\u001b[1;33m[\u001b[0m\u001b[1;33m{\u001b[0m\u001b[1;34m\"@@type\"\u001b[0m\u001b[1;33m:\u001b[0m \u001b[1;34m\"MapView\"\u001b[0m\u001b[1;33m,\u001b[0m \u001b[1;34m\"controller\"\u001b[0m\u001b[1;33m:\u001b[0m \u001b[0mtrue\u001b[0m\u001b[1;33m}\u001b[0m\u001b[1;33m]\u001b[0m\u001b[1;33m,\u001b[0m\u001b[1;33m\n",
       "\u001b[0m    \u001b[0mmap_style\u001b[0m\u001b[1;33m=\u001b[0m\u001b[1;34m'dark'\u001b[0m\u001b[1;33m,\u001b[0m\u001b[1;33m\n",
       "\u001b[0m    \u001b[0mapi_keys\u001b[0m\u001b[1;33m=\u001b[0m\u001b[1;32mNone\u001b[0m\u001b[1;33m,\u001b[0m\u001b[1;33m\n",
       "\u001b[0m    \u001b[0minitial_view_state\u001b[0m\u001b[1;33m=\u001b[0m\u001b[1;33m{\u001b[0m\u001b[1;34m\"latitude\"\u001b[0m\u001b[1;33m:\u001b[0m \u001b[1;36m0\u001b[0m\u001b[1;33m,\u001b[0m \u001b[1;34m\"longitude\"\u001b[0m\u001b[1;33m:\u001b[0m \u001b[1;36m0\u001b[0m\u001b[1;33m,\u001b[0m \u001b[1;34m\"zoom\"\u001b[0m\u001b[1;33m:\u001b[0m \u001b[1;36m1\u001b[0m\u001b[1;33m}\u001b[0m\u001b[1;33m,\u001b[0m\u001b[1;33m\n",
       "\u001b[0m    \u001b[0mwidth\u001b[0m\u001b[1;33m=\u001b[0m\u001b[1;34m'100%'\u001b[0m\u001b[1;33m,\u001b[0m\u001b[1;33m\n",
       "\u001b[0m    \u001b[0mheight\u001b[0m\u001b[1;33m=\u001b[0m\u001b[1;36m500\u001b[0m\u001b[1;33m,\u001b[0m\u001b[1;33m\n",
       "\u001b[0m    \u001b[0mtooltip\u001b[0m\u001b[1;33m=\u001b[0m\u001b[1;32mTrue\u001b[0m\u001b[1;33m,\u001b[0m\u001b[1;33m\n",
       "\u001b[0m    \u001b[0mdescription\u001b[0m\u001b[1;33m=\u001b[0m\u001b[1;32mNone\u001b[0m\u001b[1;33m,\u001b[0m\u001b[1;33m\n",
       "\u001b[0m    \u001b[0meffects\u001b[0m\u001b[1;33m=\u001b[0m\u001b[1;32mNone\u001b[0m\u001b[1;33m,\u001b[0m\u001b[1;33m\n",
       "\u001b[0m    \u001b[0mmap_provider\u001b[0m\u001b[1;33m=\u001b[0m\u001b[1;34m'carto'\u001b[0m\u001b[1;33m,\u001b[0m\u001b[1;33m\n",
       "\u001b[0m    \u001b[0mparameters\u001b[0m\u001b[1;33m=\u001b[0m\u001b[1;32mNone\u001b[0m\u001b[1;33m,\u001b[0m\u001b[1;33m\n",
       "\u001b[0m\u001b[1;33m)\u001b[0m\u001b[1;33m\u001b[0m\u001b[1;33m\u001b[0m\u001b[0m\n",
       "\u001b[1;31mDocstring:\u001b[0m      <no docstring>\n",
       "\u001b[1;31mInit docstring:\u001b[0m\n",
       "This is the renderer and configuration for a deck.gl visualization, similar to the\n",
       "`Deck <https://deck.gl/#/documentation/deckgl-api-reference/deck>`_ class from deck.gl.\n",
       "Pass `Deck` a Mapbox API token to display a basemap; see the notes below.\n",
       "\n",
       "Parameters\n",
       "----------\n",
       "\n",
       "layers : pydeck.Layer or list of pydeck.Layer, default None\n",
       "    List of :class:`pydeck.bindings.layer.Layer` layers to render.\n",
       "views : list of pydeck.View, default ``[pydeck.View(type=\"MapView\", controller=True)]``\n",
       "    List of :class:`pydeck.bindings.view.View` objects to render.\n",
       "api_keys : dict, default None\n",
       "    Dictionary of geospatial API service providers, where the keys are ``mapbox``, ``google_maps``, or ``carto``\n",
       "    and the values are the API key. Defaults to None if not set. Any of the environment variables\n",
       "    ``MAPBOX_API_KEY``, ``GOOGLE_MAPS_API_KEY``, and ``CARTO_API_KEY`` can be set instead of hardcoding the key here.\n",
       "map_provider : str, default 'carto'\n",
       "    If multiple API keys are set (e.g., both Mapbox and Google Maps), inform pydeck which basemap provider to prefer.\n",
       "    Values can be ``carto``, ``mapbox`` or ``google_maps``\n",
       "map_style : str, default 'dark'\n",
       "    One of 'light', 'dark', 'road', 'satellite', 'dark_no_labels', and 'light_no_labels', or\n",
       "    URI for basemap style, which varies by provider. The default is Carto's Dark Matter map.\n",
       "    For Mapbox examples, see  Mapbox's `gallery <https://www.mapbox.com/gallery/>`_.\n",
       "    If not using a basemap, set ``map_provider=None``.\n",
       "initial_view_state : pydeck.ViewState, default ``pydeck.ViewState(latitude=0, longitude=0, zoom=1)``\n",
       "    Initial camera angle relative to the map, defaults to a fully zoomed out 0, 0-centered map\n",
       "    To compute a viewport from data, see :func:`pydeck.data_utils.viewport_helpers.compute_view`\n",
       "height : int, default 500\n",
       "    Height of Jupyter notebook cell, in pixels.\n",
       "width : int` or string, default '100%'\n",
       "    Width of visualization, in pixels (if a number) or as a CSS value string.\n",
       "tooltip : bool or dict of {str: str}, default True\n",
       "    If ``True``/``False``, toggles a default tooltip on visualization hover.\n",
       "    Layers must have ``pickable=True`` set in order to display a tooltip.\n",
       "    For more advanced usage, the user can pass a dict to configure more custom tooltip features.\n",
       "    Further documentation is `here <tooltip.html>`_.\n",
       "\n",
       ".. _Deck:\n",
       "    https://deck.gl/#/documentation/deckgl-api-reference/deck\n",
       ".. _gallery:\n",
       "    https://www.mapbox.com/gallery/\n",
       "\u001b[1;31mFile:\u001b[0m           c:\\users\\user\\anaconda3\\envs\\pydeck\\lib\\site-packages\\pydeck\\bindings\\deck.py\n",
       "\u001b[1;31mType:\u001b[0m           type\n",
       "\u001b[1;31mSubclasses:\u001b[0m     \n"
      ]
     },
     "metadata": {},
     "output_type": "display_data"
    }
   ],
   "source": [
    "pdk.Deck?"
   ]
  },
  {
   "attachments": {},
   "cell_type": "markdown",
   "metadata": {},
   "source": [
    "### Scatter Plots"
   ]
  },
  {
   "cell_type": "code",
   "execution_count": 10,
   "metadata": {},
   "outputs": [
    {
     "data": {
      "text/html": [
       "<div>\n",
       "<style scoped>\n",
       "    .dataframe tbody tr th:only-of-type {\n",
       "        vertical-align: middle;\n",
       "    }\n",
       "\n",
       "    .dataframe tbody tr th {\n",
       "        vertical-align: top;\n",
       "    }\n",
       "\n",
       "    .dataframe thead th {\n",
       "        text-align: right;\n",
       "    }\n",
       "</style>\n",
       "<table border=\"1\" class=\"dataframe\">\n",
       "  <thead>\n",
       "    <tr style=\"text-align: right;\">\n",
       "      <th></th>\n",
       "      <th>lat</th>\n",
       "      <th>lng</th>\n",
       "      <th>osm_id</th>\n",
       "      <th>station_name</th>\n",
       "      <th>chinese_name</th>\n",
       "      <th>opening_date</th>\n",
       "      <th>color</th>\n",
       "      <th>line_name</th>\n",
       "    </tr>\n",
       "  </thead>\n",
       "  <tbody>\n",
       "    <tr>\n",
       "      <th>0</th>\n",
       "      <td>39.940249</td>\n",
       "      <td>116.456359</td>\n",
       "      <td>1351272524</td>\n",
       "      <td>Agricultural Exhibition Center</td>\n",
       "      <td>农业展览馆</td>\n",
       "      <td>2008-07-19</td>\n",
       "      <td>[0, 146, 188, 255]</td>\n",
       "      <td>Line 10</td>\n",
       "    </tr>\n",
       "    <tr>\n",
       "      <th>1</th>\n",
       "      <td>39.955570</td>\n",
       "      <td>116.388507</td>\n",
       "      <td>5057476994</td>\n",
       "      <td>Andelibeijie</td>\n",
       "      <td>安德里北街</td>\n",
       "      <td>2015-12-26</td>\n",
       "      <td>[0, 155, 119, 255]</td>\n",
       "      <td>Line 8 (North section)</td>\n",
       "    </tr>\n",
       "    <tr>\n",
       "      <th>2</th>\n",
       "      <td>39.947729</td>\n",
       "      <td>116.402067</td>\n",
       "      <td>339088654</td>\n",
       "      <td>Andingmen</td>\n",
       "      <td>安定门</td>\n",
       "      <td>1984-09-20</td>\n",
       "      <td>[0, 75, 135, 255]</td>\n",
       "      <td>Line 2</td>\n",
       "    </tr>\n",
       "    <tr>\n",
       "      <th>3</th>\n",
       "      <td>40.011026</td>\n",
       "      <td>116.263981</td>\n",
       "      <td>1362259113</td>\n",
       "      <td>Anheqiao North</td>\n",
       "      <td>安河桥北</td>\n",
       "      <td>2009-09-28</td>\n",
       "      <td>[0, 140, 149, 255]</td>\n",
       "      <td>Line 4</td>\n",
       "    </tr>\n",
       "    <tr>\n",
       "      <th>4</th>\n",
       "      <td>39.967112</td>\n",
       "      <td>116.388398</td>\n",
       "      <td>5305505996</td>\n",
       "      <td>Anhuaqiao</td>\n",
       "      <td>安华桥</td>\n",
       "      <td>2012-12-30</td>\n",
       "      <td>[0, 155, 119, 255]</td>\n",
       "      <td>Line 8 (North section)</td>\n",
       "    </tr>\n",
       "  </tbody>\n",
       "</table>\n",
       "</div>"
      ],
      "text/plain": [
       "         lat         lng      osm_id                    station_name  \\\n",
       "0  39.940249  116.456359  1351272524  Agricultural Exhibition Center   \n",
       "1  39.955570  116.388507  5057476994                    Andelibeijie   \n",
       "2  39.947729  116.402067   339088654                       Andingmen   \n",
       "3  40.011026  116.263981  1362259113                  Anheqiao North   \n",
       "4  39.967112  116.388398  5305505996                       Anhuaqiao   \n",
       "\n",
       "  chinese_name opening_date               color               line_name  \n",
       "0        农业展览馆   2008-07-19  [0, 146, 188, 255]                 Line 10  \n",
       "1        安德里北街   2015-12-26  [0, 155, 119, 255]  Line 8 (North section)  \n",
       "2          安定门   1984-09-20   [0, 75, 135, 255]                  Line 2  \n",
       "3         安河桥北   2009-09-28  [0, 140, 149, 255]                  Line 4  \n",
       "4          安华桥   2012-12-30  [0, 155, 119, 255]  Line 8 (North section)  "
      ]
     },
     "execution_count": 10,
     "metadata": {},
     "output_type": "execute_result"
    }
   ],
   "source": [
    "import pandas as pd\n",
    "from pydeck import (\n",
    "    data_utils,\n",
    "    Deck,\n",
    "    Layer\n",
    ")\n",
    "\n",
    "# First, let's use Pandas to download our data\n",
    "URL = 'https://raw.githubusercontent.com/ajduberstein/data_sets/master/beijing_subway_station.csv'\n",
    "df = pd.read_csv(URL)\n",
    "df.head()\n",
    "# 위경도가 존재\n",
    "#컬러[rbg맨뒤에는 투명도를 나타낸다.]"
   ]
  },
  {
   "cell_type": "code",
   "execution_count": 17,
   "metadata": {},
   "outputs": [
    {
     "ename": "ValueError",
     "evalue": "malformed node or string: [0, 146, 188, 255]",
     "output_type": "error",
     "traceback": [
      "\u001b[1;31m---------------------------------------------------------------------------\u001b[0m",
      "\u001b[1;31mValueError\u001b[0m                                Traceback (most recent call last)",
      "Cell \u001b[1;32mIn[17], line 4\u001b[0m\n\u001b[0;32m      1\u001b[0m \u001b[39mfrom\u001b[39;00m \u001b[39mast\u001b[39;00m \u001b[39mimport\u001b[39;00m literal_eval  \u001b[39m#텍스트를 리스트 형식으로 바꾸기\u001b[39;00m\n\u001b[0;32m      2\u001b[0m \u001b[39m# We have to re-code position to be one field in a list, so we'll do that here:\u001b[39;00m\n\u001b[0;32m      3\u001b[0m \u001b[39m# The CSV encodes the [R, G, B, A] color values listed in it as a string\u001b[39;00m\n\u001b[1;32m----> 4\u001b[0m df[\u001b[39m'\u001b[39m\u001b[39mcolor\u001b[39m\u001b[39m'\u001b[39m] \u001b[39m=\u001b[39m df\u001b[39m.\u001b[39;49mapply(\u001b[39mlambda\u001b[39;49;00m x: literal_eval(x[\u001b[39m'\u001b[39;49m\u001b[39mcolor\u001b[39;49m\u001b[39m'\u001b[39;49m]), axis\u001b[39m=\u001b[39;49m\u001b[39m1\u001b[39;49m)\n",
      "File \u001b[1;32mc:\\Users\\joppu\\ana\\lib\\site-packages\\pandas\\core\\frame.py:9568\u001b[0m, in \u001b[0;36mDataFrame.apply\u001b[1;34m(self, func, axis, raw, result_type, args, **kwargs)\u001b[0m\n\u001b[0;32m   9557\u001b[0m \u001b[39mfrom\u001b[39;00m \u001b[39mpandas\u001b[39;00m\u001b[39m.\u001b[39;00m\u001b[39mcore\u001b[39;00m\u001b[39m.\u001b[39;00m\u001b[39mapply\u001b[39;00m \u001b[39mimport\u001b[39;00m frame_apply\n\u001b[0;32m   9559\u001b[0m op \u001b[39m=\u001b[39m frame_apply(\n\u001b[0;32m   9560\u001b[0m     \u001b[39mself\u001b[39m,\n\u001b[0;32m   9561\u001b[0m     func\u001b[39m=\u001b[39mfunc,\n\u001b[1;32m   (...)\u001b[0m\n\u001b[0;32m   9566\u001b[0m     kwargs\u001b[39m=\u001b[39mkwargs,\n\u001b[0;32m   9567\u001b[0m )\n\u001b[1;32m-> 9568\u001b[0m \u001b[39mreturn\u001b[39;00m op\u001b[39m.\u001b[39;49mapply()\u001b[39m.\u001b[39m__finalize__(\u001b[39mself\u001b[39m, method\u001b[39m=\u001b[39m\u001b[39m\"\u001b[39m\u001b[39mapply\u001b[39m\u001b[39m\"\u001b[39m)\n",
      "File \u001b[1;32mc:\\Users\\joppu\\ana\\lib\\site-packages\\pandas\\core\\apply.py:764\u001b[0m, in \u001b[0;36mFrameApply.apply\u001b[1;34m(self)\u001b[0m\n\u001b[0;32m    761\u001b[0m \u001b[39melif\u001b[39;00m \u001b[39mself\u001b[39m\u001b[39m.\u001b[39mraw:\n\u001b[0;32m    762\u001b[0m     \u001b[39mreturn\u001b[39;00m \u001b[39mself\u001b[39m\u001b[39m.\u001b[39mapply_raw()\n\u001b[1;32m--> 764\u001b[0m \u001b[39mreturn\u001b[39;00m \u001b[39mself\u001b[39;49m\u001b[39m.\u001b[39;49mapply_standard()\n",
      "File \u001b[1;32mc:\\Users\\joppu\\ana\\lib\\site-packages\\pandas\\core\\apply.py:891\u001b[0m, in \u001b[0;36mFrameApply.apply_standard\u001b[1;34m(self)\u001b[0m\n\u001b[0;32m    890\u001b[0m \u001b[39mdef\u001b[39;00m \u001b[39mapply_standard\u001b[39m(\u001b[39mself\u001b[39m):\n\u001b[1;32m--> 891\u001b[0m     results, res_index \u001b[39m=\u001b[39m \u001b[39mself\u001b[39;49m\u001b[39m.\u001b[39;49mapply_series_generator()\n\u001b[0;32m    893\u001b[0m     \u001b[39m# wrap results\u001b[39;00m\n\u001b[0;32m    894\u001b[0m     \u001b[39mreturn\u001b[39;00m \u001b[39mself\u001b[39m\u001b[39m.\u001b[39mwrap_results(results, res_index)\n",
      "File \u001b[1;32mc:\\Users\\joppu\\ana\\lib\\site-packages\\pandas\\core\\apply.py:907\u001b[0m, in \u001b[0;36mFrameApply.apply_series_generator\u001b[1;34m(self)\u001b[0m\n\u001b[0;32m    904\u001b[0m \u001b[39mwith\u001b[39;00m option_context(\u001b[39m\"\u001b[39m\u001b[39mmode.chained_assignment\u001b[39m\u001b[39m\"\u001b[39m, \u001b[39mNone\u001b[39;00m):\n\u001b[0;32m    905\u001b[0m     \u001b[39mfor\u001b[39;00m i, v \u001b[39min\u001b[39;00m \u001b[39menumerate\u001b[39m(series_gen):\n\u001b[0;32m    906\u001b[0m         \u001b[39m# ignore SettingWithCopy here in case the user mutates\u001b[39;00m\n\u001b[1;32m--> 907\u001b[0m         results[i] \u001b[39m=\u001b[39m \u001b[39mself\u001b[39;49m\u001b[39m.\u001b[39;49mf(v)\n\u001b[0;32m    908\u001b[0m         \u001b[39mif\u001b[39;00m \u001b[39misinstance\u001b[39m(results[i], ABCSeries):\n\u001b[0;32m    909\u001b[0m             \u001b[39m# If we have a view on v, we need to make a copy because\u001b[39;00m\n\u001b[0;32m    910\u001b[0m             \u001b[39m#  series_generator will swap out the underlying data\u001b[39;00m\n\u001b[0;32m    911\u001b[0m             results[i] \u001b[39m=\u001b[39m results[i]\u001b[39m.\u001b[39mcopy(deep\u001b[39m=\u001b[39m\u001b[39mFalse\u001b[39;00m)\n",
      "Cell \u001b[1;32mIn[17], line 4\u001b[0m, in \u001b[0;36m<lambda>\u001b[1;34m(x)\u001b[0m\n\u001b[0;32m      1\u001b[0m \u001b[39mfrom\u001b[39;00m \u001b[39mast\u001b[39;00m \u001b[39mimport\u001b[39;00m literal_eval  \u001b[39m#텍스트를 리스트 형식으로 바꾸기\u001b[39;00m\n\u001b[0;32m      2\u001b[0m \u001b[39m# We have to re-code position to be one field in a list, so we'll do that here:\u001b[39;00m\n\u001b[0;32m      3\u001b[0m \u001b[39m# The CSV encodes the [R, G, B, A] color values listed in it as a string\u001b[39;00m\n\u001b[1;32m----> 4\u001b[0m df[\u001b[39m'\u001b[39m\u001b[39mcolor\u001b[39m\u001b[39m'\u001b[39m] \u001b[39m=\u001b[39m df\u001b[39m.\u001b[39mapply(\u001b[39mlambda\u001b[39;00m x: literal_eval(x[\u001b[39m'\u001b[39;49m\u001b[39mcolor\u001b[39;49m\u001b[39m'\u001b[39;49m]), axis\u001b[39m=\u001b[39m\u001b[39m1\u001b[39m)\n",
      "File \u001b[1;32mc:\\Users\\joppu\\ana\\lib\\ast.py:110\u001b[0m, in \u001b[0;36mliteral_eval\u001b[1;34m(node_or_string)\u001b[0m\n\u001b[0;32m    108\u001b[0m                 \u001b[39mreturn\u001b[39;00m left \u001b[39m-\u001b[39m right\n\u001b[0;32m    109\u001b[0m     \u001b[39mreturn\u001b[39;00m _convert_signed_num(node)\n\u001b[1;32m--> 110\u001b[0m \u001b[39mreturn\u001b[39;00m _convert(node_or_string)\n",
      "File \u001b[1;32mc:\\Users\\joppu\\ana\\lib\\ast.py:109\u001b[0m, in \u001b[0;36mliteral_eval.<locals>._convert\u001b[1;34m(node)\u001b[0m\n\u001b[0;32m    107\u001b[0m         \u001b[39melse\u001b[39;00m:\n\u001b[0;32m    108\u001b[0m             \u001b[39mreturn\u001b[39;00m left \u001b[39m-\u001b[39m right\n\u001b[1;32m--> 109\u001b[0m \u001b[39mreturn\u001b[39;00m _convert_signed_num(node)\n",
      "File \u001b[1;32mc:\\Users\\joppu\\ana\\lib\\ast.py:83\u001b[0m, in \u001b[0;36mliteral_eval.<locals>._convert_signed_num\u001b[1;34m(node)\u001b[0m\n\u001b[0;32m     81\u001b[0m     \u001b[39melse\u001b[39;00m:\n\u001b[0;32m     82\u001b[0m         \u001b[39mreturn\u001b[39;00m \u001b[39m-\u001b[39m operand\n\u001b[1;32m---> 83\u001b[0m \u001b[39mreturn\u001b[39;00m _convert_num(node)\n",
      "File \u001b[1;32mc:\\Users\\joppu\\ana\\lib\\ast.py:74\u001b[0m, in \u001b[0;36mliteral_eval.<locals>._convert_num\u001b[1;34m(node)\u001b[0m\n\u001b[0;32m     72\u001b[0m \u001b[39mdef\u001b[39;00m \u001b[39m_convert_num\u001b[39m(node):\n\u001b[0;32m     73\u001b[0m     \u001b[39mif\u001b[39;00m \u001b[39mnot\u001b[39;00m \u001b[39misinstance\u001b[39m(node, Constant) \u001b[39mor\u001b[39;00m \u001b[39mtype\u001b[39m(node\u001b[39m.\u001b[39mvalue) \u001b[39mnot\u001b[39;00m \u001b[39min\u001b[39;00m (\u001b[39mint\u001b[39m, \u001b[39mfloat\u001b[39m, \u001b[39mcomplex\u001b[39m):\n\u001b[1;32m---> 74\u001b[0m         _raise_malformed_node(node)\n\u001b[0;32m     75\u001b[0m     \u001b[39mreturn\u001b[39;00m node\u001b[39m.\u001b[39mvalue\n",
      "File \u001b[1;32mc:\\Users\\joppu\\ana\\lib\\ast.py:71\u001b[0m, in \u001b[0;36mliteral_eval.<locals>._raise_malformed_node\u001b[1;34m(node)\u001b[0m\n\u001b[0;32m     69\u001b[0m \u001b[39mif\u001b[39;00m lno \u001b[39m:=\u001b[39m \u001b[39mgetattr\u001b[39m(node, \u001b[39m'\u001b[39m\u001b[39mlineno\u001b[39m\u001b[39m'\u001b[39m, \u001b[39mNone\u001b[39;00m):\n\u001b[0;32m     70\u001b[0m     msg \u001b[39m+\u001b[39m\u001b[39m=\u001b[39m \u001b[39mf\u001b[39m\u001b[39m'\u001b[39m\u001b[39m on line \u001b[39m\u001b[39m{\u001b[39;00mlno\u001b[39m}\u001b[39;00m\u001b[39m'\u001b[39m\n\u001b[1;32m---> 71\u001b[0m \u001b[39mraise\u001b[39;00m \u001b[39mValueError\u001b[39;00m(msg \u001b[39m+\u001b[39m \u001b[39mf\u001b[39m\u001b[39m'\u001b[39m\u001b[39m: \u001b[39m\u001b[39m{\u001b[39;00mnode\u001b[39m!r}\u001b[39;00m\u001b[39m'\u001b[39m)\n",
      "\u001b[1;31mValueError\u001b[0m: malformed node or string: [0, 146, 188, 255]"
     ]
    }
   ],
   "source": [
    "from ast import literal_eval  #텍스트를 리스트 형식으로 바꾸기\n",
    "# We have to re-code position to be one field in a list, so we'll do that here:\n",
    "# The CSV encodes the [R, G, B, A] color values listed in it as a string\n",
    "df['color'] = df.apply(lambda x: literal_eval(x['color']), axis=1)"
   ]
  },
  {
   "cell_type": "code",
   "execution_count": 19,
   "metadata": {},
   "outputs": [
    {
     "ename": "AttributeError",
     "evalue": "'list' object has no attribute 'strip'",
     "output_type": "error",
     "traceback": [
      "\u001b[1;31m---------------------------------------------------------------------------\u001b[0m",
      "\u001b[1;31mAttributeError\u001b[0m                            Traceback (most recent call last)",
      "Cell \u001b[1;32mIn[19], line 8\u001b[0m\n\u001b[0;32m      5\u001b[0m     color_values \u001b[39m=\u001b[39m [\u001b[39mint\u001b[39m(value) \u001b[39mfor\u001b[39;00m value \u001b[39min\u001b[39;00m color_list]\n\u001b[0;32m      6\u001b[0m     \u001b[39mreturn\u001b[39;00m color_values\n\u001b[1;32m----> 8\u001b[0m df[\u001b[39m'\u001b[39m\u001b[39mcolor\u001b[39m\u001b[39m'\u001b[39m] \u001b[39m=\u001b[39m df[\u001b[39m'\u001b[39;49m\u001b[39mcolor\u001b[39;49m\u001b[39m'\u001b[39;49m]\u001b[39m.\u001b[39;49mapply(parse_color_string)\n",
      "File \u001b[1;32mc:\\Users\\joppu\\ana\\lib\\site-packages\\pandas\\core\\series.py:4771\u001b[0m, in \u001b[0;36mSeries.apply\u001b[1;34m(self, func, convert_dtype, args, **kwargs)\u001b[0m\n\u001b[0;32m   4661\u001b[0m \u001b[39mdef\u001b[39;00m \u001b[39mapply\u001b[39m(\n\u001b[0;32m   4662\u001b[0m     \u001b[39mself\u001b[39m,\n\u001b[0;32m   4663\u001b[0m     func: AggFuncType,\n\u001b[1;32m   (...)\u001b[0m\n\u001b[0;32m   4666\u001b[0m     \u001b[39m*\u001b[39m\u001b[39m*\u001b[39mkwargs,\n\u001b[0;32m   4667\u001b[0m ) \u001b[39m-\u001b[39m\u001b[39m>\u001b[39m DataFrame \u001b[39m|\u001b[39m Series:\n\u001b[0;32m   4668\u001b[0m     \u001b[39m\"\"\"\u001b[39;00m\n\u001b[0;32m   4669\u001b[0m \u001b[39m    Invoke function on values of Series.\u001b[39;00m\n\u001b[0;32m   4670\u001b[0m \n\u001b[1;32m   (...)\u001b[0m\n\u001b[0;32m   4769\u001b[0m \u001b[39m    dtype: float64\u001b[39;00m\n\u001b[0;32m   4770\u001b[0m \u001b[39m    \"\"\"\u001b[39;00m\n\u001b[1;32m-> 4771\u001b[0m     \u001b[39mreturn\u001b[39;00m SeriesApply(\u001b[39mself\u001b[39;49m, func, convert_dtype, args, kwargs)\u001b[39m.\u001b[39;49mapply()\n",
      "File \u001b[1;32mc:\\Users\\joppu\\ana\\lib\\site-packages\\pandas\\core\\apply.py:1123\u001b[0m, in \u001b[0;36mSeriesApply.apply\u001b[1;34m(self)\u001b[0m\n\u001b[0;32m   1120\u001b[0m     \u001b[39mreturn\u001b[39;00m \u001b[39mself\u001b[39m\u001b[39m.\u001b[39mapply_str()\n\u001b[0;32m   1122\u001b[0m \u001b[39m# self.f is Callable\u001b[39;00m\n\u001b[1;32m-> 1123\u001b[0m \u001b[39mreturn\u001b[39;00m \u001b[39mself\u001b[39;49m\u001b[39m.\u001b[39;49mapply_standard()\n",
      "File \u001b[1;32mc:\\Users\\joppu\\ana\\lib\\site-packages\\pandas\\core\\apply.py:1174\u001b[0m, in \u001b[0;36mSeriesApply.apply_standard\u001b[1;34m(self)\u001b[0m\n\u001b[0;32m   1172\u001b[0m     \u001b[39melse\u001b[39;00m:\n\u001b[0;32m   1173\u001b[0m         values \u001b[39m=\u001b[39m obj\u001b[39m.\u001b[39mastype(\u001b[39mobject\u001b[39m)\u001b[39m.\u001b[39m_values\n\u001b[1;32m-> 1174\u001b[0m         mapped \u001b[39m=\u001b[39m lib\u001b[39m.\u001b[39;49mmap_infer(\n\u001b[0;32m   1175\u001b[0m             values,\n\u001b[0;32m   1176\u001b[0m             f,\n\u001b[0;32m   1177\u001b[0m             convert\u001b[39m=\u001b[39;49m\u001b[39mself\u001b[39;49m\u001b[39m.\u001b[39;49mconvert_dtype,\n\u001b[0;32m   1178\u001b[0m         )\n\u001b[0;32m   1180\u001b[0m \u001b[39mif\u001b[39;00m \u001b[39mlen\u001b[39m(mapped) \u001b[39mand\u001b[39;00m \u001b[39misinstance\u001b[39m(mapped[\u001b[39m0\u001b[39m], ABCSeries):\n\u001b[0;32m   1181\u001b[0m     \u001b[39m# GH#43986 Need to do list(mapped) in order to get treated as nested\u001b[39;00m\n\u001b[0;32m   1182\u001b[0m     \u001b[39m#  See also GH#25959 regarding EA support\u001b[39;00m\n\u001b[0;32m   1183\u001b[0m     \u001b[39mreturn\u001b[39;00m obj\u001b[39m.\u001b[39m_constructor_expanddim(\u001b[39mlist\u001b[39m(mapped), index\u001b[39m=\u001b[39mobj\u001b[39m.\u001b[39mindex)\n",
      "File \u001b[1;32mc:\\Users\\joppu\\ana\\lib\\site-packages\\pandas\\_libs\\lib.pyx:2924\u001b[0m, in \u001b[0;36mpandas._libs.lib.map_infer\u001b[1;34m()\u001b[0m\n",
      "Cell \u001b[1;32mIn[19], line 4\u001b[0m, in \u001b[0;36mparse_color_string\u001b[1;34m(color_string)\u001b[0m\n\u001b[0;32m      3\u001b[0m \u001b[39mdef\u001b[39;00m \u001b[39mparse_color_string\u001b[39m(color_string):\n\u001b[1;32m----> 4\u001b[0m     color_list \u001b[39m=\u001b[39m color_string\u001b[39m.\u001b[39;49mstrip(\u001b[39m'\u001b[39m\u001b[39m][\u001b[39m\u001b[39m'\u001b[39m)\u001b[39m.\u001b[39msplit(\u001b[39m'\u001b[39m\u001b[39m, \u001b[39m\u001b[39m'\u001b[39m)\n\u001b[0;32m      5\u001b[0m     color_values \u001b[39m=\u001b[39m [\u001b[39mint\u001b[39m(value) \u001b[39mfor\u001b[39;00m value \u001b[39min\u001b[39;00m color_list]\n\u001b[0;32m      6\u001b[0m     \u001b[39mreturn\u001b[39;00m color_values\n",
      "\u001b[1;31mAttributeError\u001b[0m: 'list' object has no attribute 'strip'"
     ]
    }
   ],
   "source": [
    "import ast\n",
    "\n",
    "def parse_color_string(color_string):\n",
    "    color_list = color_string.strip('][').split(', ')\n",
    "    color_values = [int(value) for value in color_list]\n",
    "    return color_values\n",
    "\n",
    "df['color'] = df['color'].apply(parse_color_string)\n"
   ]
  },
  {
   "cell_type": "code",
   "execution_count": 14,
   "metadata": {},
   "outputs": [
    {
     "data": {
      "text/html": [
       "<div>\n",
       "<style scoped>\n",
       "    .dataframe tbody tr th:only-of-type {\n",
       "        vertical-align: middle;\n",
       "    }\n",
       "\n",
       "    .dataframe tbody tr th {\n",
       "        vertical-align: top;\n",
       "    }\n",
       "\n",
       "    .dataframe thead th {\n",
       "        text-align: right;\n",
       "    }\n",
       "</style>\n",
       "<table border=\"1\" class=\"dataframe\">\n",
       "  <thead>\n",
       "    <tr style=\"text-align: right;\">\n",
       "      <th></th>\n",
       "      <th>lat</th>\n",
       "      <th>lng</th>\n",
       "      <th>osm_id</th>\n",
       "      <th>station_name</th>\n",
       "      <th>chinese_name</th>\n",
       "      <th>opening_date</th>\n",
       "      <th>color</th>\n",
       "      <th>line_name</th>\n",
       "    </tr>\n",
       "  </thead>\n",
       "  <tbody>\n",
       "    <tr>\n",
       "      <th>0</th>\n",
       "      <td>39.940249</td>\n",
       "      <td>116.456359</td>\n",
       "      <td>1351272524</td>\n",
       "      <td>Agricultural Exhibition Center</td>\n",
       "      <td>农业展览馆</td>\n",
       "      <td>2008-07-19</td>\n",
       "      <td>[0, 146, 188, 255]</td>\n",
       "      <td>Line 10</td>\n",
       "    </tr>\n",
       "    <tr>\n",
       "      <th>1</th>\n",
       "      <td>39.955570</td>\n",
       "      <td>116.388507</td>\n",
       "      <td>5057476994</td>\n",
       "      <td>Andelibeijie</td>\n",
       "      <td>安德里北街</td>\n",
       "      <td>2015-12-26</td>\n",
       "      <td>[0, 155, 119, 255]</td>\n",
       "      <td>Line 8 (North section)</td>\n",
       "    </tr>\n",
       "    <tr>\n",
       "      <th>2</th>\n",
       "      <td>39.947729</td>\n",
       "      <td>116.402067</td>\n",
       "      <td>339088654</td>\n",
       "      <td>Andingmen</td>\n",
       "      <td>安定门</td>\n",
       "      <td>1984-09-20</td>\n",
       "      <td>[0, 75, 135, 255]</td>\n",
       "      <td>Line 2</td>\n",
       "    </tr>\n",
       "    <tr>\n",
       "      <th>3</th>\n",
       "      <td>40.011026</td>\n",
       "      <td>116.263981</td>\n",
       "      <td>1362259113</td>\n",
       "      <td>Anheqiao North</td>\n",
       "      <td>安河桥北</td>\n",
       "      <td>2009-09-28</td>\n",
       "      <td>[0, 140, 149, 255]</td>\n",
       "      <td>Line 4</td>\n",
       "    </tr>\n",
       "    <tr>\n",
       "      <th>4</th>\n",
       "      <td>39.967112</td>\n",
       "      <td>116.388398</td>\n",
       "      <td>5305505996</td>\n",
       "      <td>Anhuaqiao</td>\n",
       "      <td>安华桥</td>\n",
       "      <td>2012-12-30</td>\n",
       "      <td>[0, 155, 119, 255]</td>\n",
       "      <td>Line 8 (North section)</td>\n",
       "    </tr>\n",
       "  </tbody>\n",
       "</table>\n",
       "</div>"
      ],
      "text/plain": [
       "         lat         lng      osm_id                    station_name  \\\n",
       "0  39.940249  116.456359  1351272524  Agricultural Exhibition Center   \n",
       "1  39.955570  116.388507  5057476994                    Andelibeijie   \n",
       "2  39.947729  116.402067   339088654                       Andingmen   \n",
       "3  40.011026  116.263981  1362259113                  Anheqiao North   \n",
       "4  39.967112  116.388398  5305505996                       Anhuaqiao   \n",
       "\n",
       "  chinese_name opening_date               color               line_name  \n",
       "0        农业展览馆   2008-07-19  [0, 146, 188, 255]                 Line 10  \n",
       "1        安德里北街   2015-12-26  [0, 155, 119, 255]  Line 8 (North section)  \n",
       "2          安定门   1984-09-20   [0, 75, 135, 255]                  Line 2  \n",
       "3         安河桥北   2009-09-28  [0, 140, 149, 255]                  Line 4  \n",
       "4          安华桥   2012-12-30  [0, 155, 119, 255]  Line 8 (North section)  "
      ]
     },
     "execution_count": 14,
     "metadata": {},
     "output_type": "execute_result"
    }
   ],
   "source": [
    "df.head()"
   ]
  },
  {
   "cell_type": "code",
   "execution_count": 18,
   "metadata": {},
   "outputs": [
    {
     "data": {
      "application/vnd.jupyter.widget-view+json": {
       "model_id": "1569b75b633d4b5892d669817fa82a36",
       "version_major": 2,
       "version_minor": 0
      },
      "text/plain": [
       "DeckGLWidget(carto_key=None, custom_libraries=[], google_maps_key=None, json_input='{\\n  \"initialViewState\": {…"
      ]
     },
     "metadata": {},
     "output_type": "display_data"
    }
   ],
   "source": [
    "# Use pydeck's data_utils module to fit a viewport to the central 90% of the data\n",
    "viewport = data_utils.compute_view(points=df[['lng', 'lat']], view_proportion=0.9)\n",
    "auto_zoom_map = Deck(layers=None, initial_view_state=viewport)\n",
    "auto_zoom_map.show()\n",
    "\n",
    "# auto_zoom_map.to_html('demo.html')"
   ]
  },
  {
   "cell_type": "code",
   "execution_count": 8,
   "metadata": {},
   "outputs": [
    {
     "data": {
      "application/vnd.jupyter.widget-view+json": {
       "model_id": "305b6224d1834321bbeffec8c0b1b635",
       "version_major": 2,
       "version_minor": 0
      },
      "text/plain": [
       "HTML(value='<h1>2019</h1>')"
      ]
     },
     "metadata": {},
     "output_type": "display_data"
    },
    {
     "data": {
      "application/vnd.jupyter.widget-view+json": {
       "model_id": "5363ce9cf7d64f3b975834cddab07876",
       "version_major": 2,
       "version_minor": 0
      },
      "text/plain": [
       "DeckGLWidget(carto_key=None, custom_libraries=[], google_maps_key=None, json_input='{\"initialViewState\": {\"lat…"
      ]
     },
     "metadata": {},
     "output_type": "display_data"
    }
   ],
   "source": [
    "from IPython.core.display import display\n",
    "import ipywidgets\n",
    "\n",
    "year = 2019\n",
    "\n",
    "scatterplot = Layer(\n",
    "    'ScatterplotLayer',\n",
    "    df,\n",
    "    id='scatterplot-layer',\n",
    "    get_radius=500,\n",
    "    get_fill_color='color',\n",
    "    get_position='[lng, lat]')\n",
    "r = Deck(layers=[scatterplot], initial_view_state=viewport)\n",
    "\n",
    "# Create an HTML header to display the year\n",
    "display_el = ipywidgets.HTML('<h1>{}</h1>'.format(year))\n",
    "display(display_el)\n",
    "# Show the current visualization\n",
    "r.show()\n",
    "# r.to_html('demo.html')"
   ]
  },
  {
   "cell_type": "code",
   "execution_count": 11,
   "metadata": {},
   "outputs": [],
   "source": [
    "import time\n",
    "for y in range(1971, 2020):\n",
    "    scatterplot.data = df[df['opening_date'] <= str(y)]\n",
    "    year = y\n",
    "    # Reset the header to display the year\n",
    "    display_el.value = '<h1>{}</h1>'.format(year)\n",
    "    r.update()\n",
    "    time.sleep(0.1)"
   ]
  },
  {
   "attachments": {},
   "cell_type": "markdown",
   "metadata": {},
   "source": [
    "### Using pydeck to manipulate data"
   ]
  },
  {
   "cell_type": "code",
   "execution_count": 32,
   "metadata": {},
   "outputs": [],
   "source": [
    "import pydeck as pdk\n",
    "\n",
    "DATA_URL = 'https://api.data.gov.sg/v1/transport/taxi-availability'\n",
    "COLOR_RANGE = [\n",
    "  [255, 255, 178, 25],\n",
    "  [254, 217, 118, 85],\n",
    "  [254, 178, 76, 127],\n",
    "  [253, 141, 60, 170],\n",
    "  [240, 59, 32, 212],\n",
    "  [189, 0, 38, 255]\n",
    "]"
   ]
  },
  {
   "cell_type": "code",
   "execution_count": 33,
   "metadata": {},
   "outputs": [],
   "source": [
    "import pandas as pd\n",
    "import requests\n",
    "\n",
    "json = requests.get(DATA_URL).json()\n",
    "df = pd.DataFrame(json[\"features\"][0][\"geometry\"][\"coordinates\"])\n",
    "df.columns = ['lng', 'lat']\n",
    "\n",
    "viewport = pdk.data_utils.compute_view(df[['lng', 'lat']])\n",
    "layer = pdk.Layer(\n",
    "    'ScreenGridLayer',\n",
    "    df,\n",
    "    cell_size_pixels=20,\n",
    "    color_range=COLOR_RANGE,\n",
    "    get_position='[lng, lat]',\n",
    "    pickable=True,\n",
    "    auto_highlight=True)\n",
    "r = pdk.Deck(layers=[layer], initial_view_state=viewport)"
   ]
  },
  {
   "cell_type": "code",
   "execution_count": 34,
   "metadata": {},
   "outputs": [
    {
     "data": {
      "application/vnd.jupyter.widget-view+json": {
       "model_id": "3060db3af1ca4381b25855d9d47d6fee",
       "version_major": 2,
       "version_minor": 0
      },
      "text/plain": [
       "DeckGLWidget(carto_key=None, custom_libraries=[], google_maps_key=None, json_input='{\"initialViewState\": {\"lat…"
      ]
     },
     "metadata": {},
     "output_type": "display_data"
    }
   ],
   "source": [
    "r.show()\n"
   ]
  },
  {
   "cell_type": "code",
   "execution_count": 35,
   "metadata": {},
   "outputs": [
    {
     "data": {
      "text/html": [
       "<div>\n",
       "<style scoped>\n",
       "    .dataframe tbody tr th:only-of-type {\n",
       "        vertical-align: middle;\n",
       "    }\n",
       "\n",
       "    .dataframe tbody tr th {\n",
       "        vertical-align: top;\n",
       "    }\n",
       "\n",
       "    .dataframe thead th {\n",
       "        text-align: right;\n",
       "    }\n",
       "</style>\n",
       "<table border=\"1\" class=\"dataframe\">\n",
       "  <thead>\n",
       "    <tr style=\"text-align: right;\">\n",
       "      <th></th>\n",
       "    </tr>\n",
       "  </thead>\n",
       "  <tbody>\n",
       "    <tr>\n",
       "      <th>0</th>\n",
       "    </tr>\n",
       "  </tbody>\n",
       "</table>\n",
       "</div>"
      ],
      "text/plain": [
       "Empty DataFrame\n",
       "Columns: []\n",
       "Index: [0]"
      ]
     },
     "execution_count": 35,
     "metadata": {},
     "output_type": "execute_result"
    }
   ],
   "source": [
    "pd.DataFrame([r.deck_widget.selected_data])\n"
   ]
  },
  {
   "attachments": {},
   "cell_type": "markdown",
   "metadata": {},
   "source": [
    "### Plotting massive data sets.ipynb"
   ]
  },
  {
   "cell_type": "code",
   "execution_count": 36,
   "metadata": {},
   "outputs": [
    {
     "name": "stderr",
     "output_type": "stream",
     "text": [
      "C:\\Users\\user\\anaconda3\\envs\\pydeck\\lib\\site-packages\\pandas\\core\\indexing.py:1884: SettingWithCopyWarning: \n",
      "A value is trying to be set on a copy of a slice from a DataFrame.\n",
      "Try using .loc[row_indexer,col_indexer] = value instead\n",
      "\n",
      "See the caveats in the documentation: https://pandas.pydata.org/pandas-docs/stable/user_guide/indexing.html#returning-a-view-versus-a-copy\n",
      "  self._setitem_single_column(loc, val, pi)\n"
     ]
    }
   ],
   "source": [
    "import pandas as pd\n",
    "all_lidar = pd.concat([\n",
    "    pd.read_csv('https://raw.githubusercontent.com/ajduberstein/kitti_subset/master/kitti_1.csv'),\n",
    "    pd.read_csv('https://raw.githubusercontent.com/ajduberstein/kitti_subset/master/kitti_2.csv'),\n",
    "    pd.read_csv('https://raw.githubusercontent.com/ajduberstein/kitti_subset/master/kitti_3.csv'),\n",
    "    pd.read_csv('https://raw.githubusercontent.com/ajduberstein/kitti_subset/master/kitti_4.csv'),\n",
    "])\n",
    "\n",
    "# Filter to one frame of data\n",
    "lidar = all_lidar[all_lidar['source'] == 136]\n",
    "lidar.loc[: , ['x', 'y']] = lidar[['x', 'y']] / 10000"
   ]
  },
  {
   "cell_type": "code",
   "execution_count": 37,
   "metadata": {},
   "outputs": [
    {
     "data": {
      "application/vnd.jupyter.widget-view+json": {
       "model_id": "6f51b155a7f8476cb0ad278916f127d1",
       "version_major": 2,
       "version_minor": 0
      },
      "text/plain": [
       "DeckGLWidget(carto_key=None, custom_libraries=[], google_maps_key=None, json_input='{\"initialViewState\": {\"bea…"
      ]
     },
     "metadata": {},
     "output_type": "display_data"
    }
   ],
   "source": [
    "import pydeck as pdk\n",
    "\n",
    "\n",
    "point_cloud = pdk.Layer(\n",
    "    'PointCloudLayer',\n",
    "    lidar[['x', 'y', 'z']],\n",
    "    get_position='[x, y, z * 10]',\n",
    "    get_normal=[0, 0, 1],\n",
    "    get_color=[255, 0, 100, 200],\n",
    "    pickable=True,  \n",
    "    auto_highlight=True,\n",
    "    point_size=1)\n",
    "\n",
    "\n",
    "view_state = pdk.data_utils.compute_view(lidar[['x', 'y']], 0.9)\n",
    "view_state.max_pitch = 360\n",
    "view_state.pitch = 80\n",
    "view_state.bearing = 120\n",
    "\n",
    "r = pdk.Deck(\n",
    "    point_cloud,\n",
    "    initial_view_state=view_state,\n",
    "    map_style='')\n",
    "r.show()"
   ]
  },
  {
   "cell_type": "code",
   "execution_count": 38,
   "metadata": {},
   "outputs": [
    {
     "name": "stdout",
     "output_type": "stream",
     "text": [
      "Press the stop icon to exit\n"
     ]
    },
    {
     "ename": "KeyboardInterrupt",
     "evalue": "",
     "output_type": "error",
     "traceback": [
      "\u001b[1;31m---------------------------------------------------------------------------\u001b[0m",
      "\u001b[1;31mKeyboardInterrupt\u001b[0m                         Traceback (most recent call last)",
      "\u001b[1;32m~\\AppData\\Local\\Temp/ipykernel_19316/3848653322.py\u001b[0m in \u001b[0;36m<module>\u001b[1;34m\u001b[0m\n\u001b[0;32m     11\u001b[0m     \u001b[0mr\u001b[0m\u001b[1;33m.\u001b[0m\u001b[0mlayers\u001b[0m\u001b[1;33m[\u001b[0m\u001b[1;36m0\u001b[0m\u001b[1;33m]\u001b[0m\u001b[1;33m.\u001b[0m\u001b[0mdata\u001b[0m \u001b[1;33m=\u001b[0m \u001b[0mlidar\u001b[0m\u001b[1;33m.\u001b[0m\u001b[0mto_dict\u001b[0m\u001b[1;33m(\u001b[0m\u001b[0morient\u001b[0m\u001b[1;33m=\u001b[0m\u001b[1;34m'records'\u001b[0m\u001b[1;33m)\u001b[0m\u001b[1;33m\u001b[0m\u001b[1;33m\u001b[0m\u001b[0m\n\u001b[0;32m     12\u001b[0m     \u001b[0mframe_buffer\u001b[0m\u001b[1;33m.\u001b[0m\u001b[0mrotate\u001b[0m\u001b[1;33m(\u001b[0m\u001b[1;33m)\u001b[0m\u001b[1;33m\u001b[0m\u001b[1;33m\u001b[0m\u001b[0m\n\u001b[1;32m---> 13\u001b[1;33m     \u001b[0mr\u001b[0m\u001b[1;33m.\u001b[0m\u001b[0mupdate\u001b[0m\u001b[1;33m(\u001b[0m\u001b[1;33m)\u001b[0m\u001b[1;33m\u001b[0m\u001b[1;33m\u001b[0m\u001b[0m\n\u001b[0m\u001b[0;32m     14\u001b[0m     \u001b[0mtime\u001b[0m\u001b[1;33m.\u001b[0m\u001b[0msleep\u001b[0m\u001b[1;33m(\u001b[0m\u001b[1;36m0.5\u001b[0m\u001b[1;33m)\u001b[0m\u001b[1;33m\u001b[0m\u001b[1;33m\u001b[0m\u001b[0m\n",
      "\u001b[1;32m~\\anaconda3\\envs\\pydeck\\lib\\site-packages\\pydeck\\bindings\\deck.py\u001b[0m in \u001b[0;36mupdate\u001b[1;34m(self)\u001b[0m\n\u001b[0;32m    126\u001b[0m         \u001b[0mIntended\u001b[0m \u001b[1;32mfor\u001b[0m \u001b[0muse\u001b[0m \u001b[1;32min\u001b[0m \u001b[0ma\u001b[0m \u001b[0mJupyter\u001b[0m \u001b[0menvironment\u001b[0m\u001b[1;33m.\u001b[0m\u001b[1;33m\u001b[0m\u001b[1;33m\u001b[0m\u001b[0m\n\u001b[0;32m    127\u001b[0m         \"\"\"\n\u001b[1;32m--> 128\u001b[1;33m         \u001b[0mself\u001b[0m\u001b[1;33m.\u001b[0m\u001b[0mdeck_widget\u001b[0m\u001b[1;33m.\u001b[0m\u001b[0mjson_input\u001b[0m \u001b[1;33m=\u001b[0m \u001b[0mself\u001b[0m\u001b[1;33m.\u001b[0m\u001b[0mto_json\u001b[0m\u001b[1;33m(\u001b[0m\u001b[1;33m)\u001b[0m\u001b[1;33m\u001b[0m\u001b[1;33m\u001b[0m\u001b[0m\n\u001b[0m\u001b[0;32m    129\u001b[0m         \u001b[0mhas_binary\u001b[0m \u001b[1;33m=\u001b[0m \u001b[1;32mFalse\u001b[0m\u001b[1;33m\u001b[0m\u001b[1;33m\u001b[0m\u001b[0m\n\u001b[0;32m    130\u001b[0m         \u001b[0mbinary_data_sets\u001b[0m \u001b[1;33m=\u001b[0m \u001b[1;33m[\u001b[0m\u001b[1;33m]\u001b[0m\u001b[1;33m\u001b[0m\u001b[1;33m\u001b[0m\u001b[0m\n",
      "\u001b[1;32m~\\anaconda3\\envs\\pydeck\\lib\\site-packages\\pydeck\\bindings\\json_tools.py\u001b[0m in \u001b[0;36mto_json\u001b[1;34m(self)\u001b[0m\n\u001b[0;32m     95\u001b[0m         \u001b[0mReturn\u001b[0m \u001b[0ma\u001b[0m \u001b[0mJSON\u001b[0m\u001b[1;33m-\u001b[0m\u001b[0mified\u001b[0m \u001b[0mversion\u001b[0m \u001b[0mof\u001b[0m \u001b[0mthe\u001b[0m \u001b[0mDeck\u001b[0m \u001b[0mobject\u001b[0m\u001b[1;33m.\u001b[0m\u001b[1;33m\u001b[0m\u001b[1;33m\u001b[0m\u001b[0m\n\u001b[0;32m     96\u001b[0m         \"\"\"\n\u001b[1;32m---> 97\u001b[1;33m         \u001b[1;32mreturn\u001b[0m \u001b[0mserialize\u001b[0m\u001b[1;33m(\u001b[0m\u001b[0mself\u001b[0m\u001b[1;33m)\u001b[0m\u001b[1;33m\u001b[0m\u001b[1;33m\u001b[0m\u001b[0m\n\u001b[0m",
      "\u001b[1;32m~\\anaconda3\\envs\\pydeck\\lib\\site-packages\\pydeck\\bindings\\json_tools.py\u001b[0m in \u001b[0;36mserialize\u001b[1;34m(serializable)\u001b[0m\n\u001b[0;32m     80\u001b[0m \u001b[1;32mdef\u001b[0m \u001b[0mserialize\u001b[0m\u001b[1;33m(\u001b[0m\u001b[0mserializable\u001b[0m\u001b[1;33m)\u001b[0m\u001b[1;33m:\u001b[0m\u001b[1;33m\u001b[0m\u001b[1;33m\u001b[0m\u001b[0m\n\u001b[0;32m     81\u001b[0m     \u001b[1;34m\"\"\"Takes a serializable object and JSONifies it\"\"\"\u001b[0m\u001b[1;33m\u001b[0m\u001b[1;33m\u001b[0m\u001b[0m\n\u001b[1;32m---> 82\u001b[1;33m     \u001b[1;32mreturn\u001b[0m \u001b[0mjson\u001b[0m\u001b[1;33m.\u001b[0m\u001b[0mdumps\u001b[0m\u001b[1;33m(\u001b[0m\u001b[0mserializable\u001b[0m\u001b[1;33m,\u001b[0m \u001b[0msort_keys\u001b[0m\u001b[1;33m=\u001b[0m\u001b[1;32mTrue\u001b[0m\u001b[1;33m,\u001b[0m \u001b[0mdefault\u001b[0m\u001b[1;33m=\u001b[0m\u001b[0mdefault_serialize\u001b[0m\u001b[1;33m)\u001b[0m\u001b[1;33m\u001b[0m\u001b[1;33m\u001b[0m\u001b[0m\n\u001b[0m\u001b[0;32m     83\u001b[0m \u001b[1;33m\u001b[0m\u001b[0m\n\u001b[0;32m     84\u001b[0m \u001b[1;33m\u001b[0m\u001b[0m\n",
      "\u001b[1;32m~\\anaconda3\\envs\\pydeck\\lib\\json\\__init__.py\u001b[0m in \u001b[0;36mdumps\u001b[1;34m(obj, skipkeys, ensure_ascii, check_circular, allow_nan, cls, indent, separators, default, sort_keys, **kw)\u001b[0m\n\u001b[0;32m    232\u001b[0m     \u001b[1;32mif\u001b[0m \u001b[0mcls\u001b[0m \u001b[1;32mis\u001b[0m \u001b[1;32mNone\u001b[0m\u001b[1;33m:\u001b[0m\u001b[1;33m\u001b[0m\u001b[1;33m\u001b[0m\u001b[0m\n\u001b[0;32m    233\u001b[0m         \u001b[0mcls\u001b[0m \u001b[1;33m=\u001b[0m \u001b[0mJSONEncoder\u001b[0m\u001b[1;33m\u001b[0m\u001b[1;33m\u001b[0m\u001b[0m\n\u001b[1;32m--> 234\u001b[1;33m     return cls(\n\u001b[0m\u001b[0;32m    235\u001b[0m         \u001b[0mskipkeys\u001b[0m\u001b[1;33m=\u001b[0m\u001b[0mskipkeys\u001b[0m\u001b[1;33m,\u001b[0m \u001b[0mensure_ascii\u001b[0m\u001b[1;33m=\u001b[0m\u001b[0mensure_ascii\u001b[0m\u001b[1;33m,\u001b[0m\u001b[1;33m\u001b[0m\u001b[1;33m\u001b[0m\u001b[0m\n\u001b[0;32m    236\u001b[0m         \u001b[0mcheck_circular\u001b[0m\u001b[1;33m=\u001b[0m\u001b[0mcheck_circular\u001b[0m\u001b[1;33m,\u001b[0m \u001b[0mallow_nan\u001b[0m\u001b[1;33m=\u001b[0m\u001b[0mallow_nan\u001b[0m\u001b[1;33m,\u001b[0m \u001b[0mindent\u001b[0m\u001b[1;33m=\u001b[0m\u001b[0mindent\u001b[0m\u001b[1;33m,\u001b[0m\u001b[1;33m\u001b[0m\u001b[1;33m\u001b[0m\u001b[0m\n",
      "\u001b[1;32m~\\anaconda3\\envs\\pydeck\\lib\\json\\encoder.py\u001b[0m in \u001b[0;36mencode\u001b[1;34m(self, o)\u001b[0m\n\u001b[0;32m    197\u001b[0m         \u001b[1;31m# exceptions aren't as detailed.  The list call should be roughly\u001b[0m\u001b[1;33m\u001b[0m\u001b[1;33m\u001b[0m\u001b[0m\n\u001b[0;32m    198\u001b[0m         \u001b[1;31m# equivalent to the PySequence_Fast that ''.join() would do.\u001b[0m\u001b[1;33m\u001b[0m\u001b[1;33m\u001b[0m\u001b[0m\n\u001b[1;32m--> 199\u001b[1;33m         \u001b[0mchunks\u001b[0m \u001b[1;33m=\u001b[0m \u001b[0mself\u001b[0m\u001b[1;33m.\u001b[0m\u001b[0miterencode\u001b[0m\u001b[1;33m(\u001b[0m\u001b[0mo\u001b[0m\u001b[1;33m,\u001b[0m \u001b[0m_one_shot\u001b[0m\u001b[1;33m=\u001b[0m\u001b[1;32mTrue\u001b[0m\u001b[1;33m)\u001b[0m\u001b[1;33m\u001b[0m\u001b[1;33m\u001b[0m\u001b[0m\n\u001b[0m\u001b[0;32m    200\u001b[0m         \u001b[1;32mif\u001b[0m \u001b[1;32mnot\u001b[0m \u001b[0misinstance\u001b[0m\u001b[1;33m(\u001b[0m\u001b[0mchunks\u001b[0m\u001b[1;33m,\u001b[0m \u001b[1;33m(\u001b[0m\u001b[0mlist\u001b[0m\u001b[1;33m,\u001b[0m \u001b[0mtuple\u001b[0m\u001b[1;33m)\u001b[0m\u001b[1;33m)\u001b[0m\u001b[1;33m:\u001b[0m\u001b[1;33m\u001b[0m\u001b[1;33m\u001b[0m\u001b[0m\n\u001b[0;32m    201\u001b[0m             \u001b[0mchunks\u001b[0m \u001b[1;33m=\u001b[0m \u001b[0mlist\u001b[0m\u001b[1;33m(\u001b[0m\u001b[0mchunks\u001b[0m\u001b[1;33m)\u001b[0m\u001b[1;33m\u001b[0m\u001b[1;33m\u001b[0m\u001b[0m\n",
      "\u001b[1;32m~\\anaconda3\\envs\\pydeck\\lib\\json\\encoder.py\u001b[0m in \u001b[0;36miterencode\u001b[1;34m(self, o, _one_shot)\u001b[0m\n\u001b[0;32m    255\u001b[0m                 \u001b[0mself\u001b[0m\u001b[1;33m.\u001b[0m\u001b[0mkey_separator\u001b[0m\u001b[1;33m,\u001b[0m \u001b[0mself\u001b[0m\u001b[1;33m.\u001b[0m\u001b[0mitem_separator\u001b[0m\u001b[1;33m,\u001b[0m \u001b[0mself\u001b[0m\u001b[1;33m.\u001b[0m\u001b[0msort_keys\u001b[0m\u001b[1;33m,\u001b[0m\u001b[1;33m\u001b[0m\u001b[1;33m\u001b[0m\u001b[0m\n\u001b[0;32m    256\u001b[0m                 self.skipkeys, _one_shot)\n\u001b[1;32m--> 257\u001b[1;33m         \u001b[1;32mreturn\u001b[0m \u001b[0m_iterencode\u001b[0m\u001b[1;33m(\u001b[0m\u001b[0mo\u001b[0m\u001b[1;33m,\u001b[0m \u001b[1;36m0\u001b[0m\u001b[1;33m)\u001b[0m\u001b[1;33m\u001b[0m\u001b[1;33m\u001b[0m\u001b[0m\n\u001b[0m\u001b[0;32m    258\u001b[0m \u001b[1;33m\u001b[0m\u001b[0m\n\u001b[0;32m    259\u001b[0m def _make_iterencode(markers, _default, _encoder, _indent, _floatstr,\n",
      "\u001b[1;32m~\\anaconda3\\envs\\pydeck\\lib\\site-packages\\pydeck\\bindings\\json_tools.py\u001b[0m in \u001b[0;36mdefault_serialize\u001b[1;34m(o, remap_function)\u001b[0m\n\u001b[0;32m     66\u001b[0m \u001b[1;32mdef\u001b[0m \u001b[0mdefault_serialize\u001b[0m\u001b[1;33m(\u001b[0m\u001b[0mo\u001b[0m\u001b[1;33m,\u001b[0m \u001b[0mremap_function\u001b[0m\u001b[1;33m=\u001b[0m\u001b[0mlower_camel_case_keys\u001b[0m\u001b[1;33m)\u001b[0m\u001b[1;33m:\u001b[0m\u001b[1;33m\u001b[0m\u001b[1;33m\u001b[0m\u001b[0m\n\u001b[0;32m     67\u001b[0m     \u001b[1;34m\"\"\"Default method for rendering JSON from a dictionary\"\"\"\u001b[0m\u001b[1;33m\u001b[0m\u001b[1;33m\u001b[0m\u001b[0m\n\u001b[1;32m---> 68\u001b[1;33m     \u001b[1;32mif\u001b[0m \u001b[0missubclass\u001b[0m\u001b[1;33m(\u001b[0m\u001b[0mtype\u001b[0m\u001b[1;33m(\u001b[0m\u001b[0mo\u001b[0m\u001b[1;33m)\u001b[0m\u001b[1;33m,\u001b[0m \u001b[0mPydeckType\u001b[0m\u001b[1;33m)\u001b[0m\u001b[1;33m:\u001b[0m\u001b[1;33m\u001b[0m\u001b[1;33m\u001b[0m\u001b[0m\n\u001b[0m\u001b[0;32m     69\u001b[0m         \u001b[1;32mreturn\u001b[0m \u001b[0mrepr\u001b[0m\u001b[1;33m(\u001b[0m\u001b[0mo\u001b[0m\u001b[1;33m)\u001b[0m\u001b[1;33m\u001b[0m\u001b[1;33m\u001b[0m\u001b[0m\n\u001b[0;32m     70\u001b[0m     \u001b[0mattrs\u001b[0m \u001b[1;33m=\u001b[0m \u001b[0mvars\u001b[0m\u001b[1;33m(\u001b[0m\u001b[0mo\u001b[0m\u001b[1;33m)\u001b[0m\u001b[1;33m\u001b[0m\u001b[1;33m\u001b[0m\u001b[0m\n",
      "\u001b[1;31mKeyboardInterrupt\u001b[0m: "
     ]
    }
   ],
   "source": [
    "import time\n",
    "from collections import deque\n",
    "\n",
    "# Choose a handful of frames to loop through\n",
    "frame_buffer = deque([42, 56, 81, 95])\n",
    "print('Press the stop icon to exit')\n",
    "while True:\n",
    "    current_frame = frame_buffer[0]\n",
    "    lidar = all_lidar[all_lidar['source'] == current_frame]\n",
    "    r.layers[0].get_position = '[x / 10000, y / 10000, z * 10]'\n",
    "    r.layers[0].data = lidar.to_dict(orient='records')\n",
    "    frame_buffer.rotate()\n",
    "    r.update()\n",
    "    time.sleep(0.5)"
   ]
  },
  {
   "attachments": {},
   "cell_type": "markdown",
   "metadata": {},
   "source": [
    "### Interacting with other Jupyter widgets.ipynb"
   ]
  },
  {
   "cell_type": "code",
   "execution_count": 4,
   "metadata": {},
   "outputs": [
    {
     "ename": "NameError",
     "evalue": "name 'pd' is not defined",
     "output_type": "error",
     "traceback": [
      "\u001b[1;31m---------------------------------------------------------------------------\u001b[0m",
      "\u001b[1;31mNameError\u001b[0m                                 Traceback (most recent call last)",
      "\u001b[1;32m<ipython-input-4-4a8019577ae1>\u001b[0m in \u001b[0;36m<module>\u001b[1;34m\u001b[0m\n\u001b[0;32m      1\u001b[0m \u001b[0mLIGHTS_URL\u001b[0m \u001b[1;33m=\u001b[0m \u001b[1;34m'https://raw.githubusercontent.com/ajduberstein/lights_at_night/master/chengdu_lights_at_night.csv'\u001b[0m\u001b[1;33m\u001b[0m\u001b[1;33m\u001b[0m\u001b[0m\n\u001b[1;32m----> 2\u001b[1;33m \u001b[0mdf\u001b[0m \u001b[1;33m=\u001b[0m \u001b[0mpd\u001b[0m\u001b[1;33m.\u001b[0m\u001b[0mread_csv\u001b[0m\u001b[1;33m(\u001b[0m\u001b[0mLIGHTS_URL\u001b[0m\u001b[1;33m)\u001b[0m\u001b[1;33m\u001b[0m\u001b[1;33m\u001b[0m\u001b[0m\n\u001b[0m\u001b[0;32m      3\u001b[0m \u001b[0mdf\u001b[0m\u001b[1;33m.\u001b[0m\u001b[0mhead\u001b[0m\u001b[1;33m(\u001b[0m\u001b[1;33m)\u001b[0m\u001b[1;33m\u001b[0m\u001b[1;33m\u001b[0m\u001b[0m\n",
      "\u001b[1;31mNameError\u001b[0m: name 'pd' is not defined"
     ]
    }
   ],
   "source": [
    "LIGHTS_URL = 'https://raw.githubusercontent.com/ajduberstein/lights_at_night/master/chengdu_lights_at_night.csv'\n",
    "df = pd.read_csv(LIGHTS_URL)\n",
    "df.head()"
   ]
  },
  {
   "cell_type": "code",
   "execution_count": null,
   "metadata": {},
   "outputs": [],
   "source": [
    "df['color'] = df['brightness'].apply(lambda val: [255, val * 4,  255, 255])\n",
    "df.sample(10)"
   ]
  },
  {
   "cell_type": "code",
   "execution_count": 71,
   "metadata": {},
   "outputs": [
    {
     "data": {
      "application/vnd.jupyter.widget-view+json": {
       "model_id": "e1e26ab1e8d24f408050711bf4fca0e7",
       "version_major": 2,
       "version_minor": 0
      },
      "text/plain": [
       "DeckGLWidget(json_input='{\"initialViewState\": {\"bearing\": 0, \"latitude\": 31.0, \"longitude\": 104.5, \"maxZoom\": …"
      ]
     },
     "metadata": {},
     "output_type": "display_data"
    }
   ],
   "source": [
    "plottable = df[df['year'] == 1993].to_dict(orient='records')\n",
    "\n",
    "view_state = pdk.ViewState(\n",
    "    latitude=31.0,\n",
    "    longitude=104.5,\n",
    "    zoom=8,\n",
    "    max_zoom=8,\n",
    "    min_zoom=8)\n",
    "scatterplot = pdk.Layer(\n",
    "    'HeatmapLayer',\n",
    "    data=plottable,\n",
    "    get_position='[lng, lat]',\n",
    "    get_weight='brightness',\n",
    "    opacity=0.5,\n",
    "    pickable=False,\n",
    "    get_radius=800)\n",
    "r = pdk.Deck(\n",
    "    layers=[scatterplot],\n",
    "    initial_view_state=view_state,\n",
    "    views=[pdk.View(type='MapView', controller=None)])\n",
    "r.show()"
   ]
  },
  {
   "cell_type": "code",
   "execution_count": 72,
   "metadata": {},
   "outputs": [
    {
     "data": {
      "application/vnd.jupyter.widget-view+json": {
       "model_id": "26cccc78b06543f09cab4322e467bd02",
       "version_major": 2,
       "version_minor": 0
      },
      "text/plain": [
       "IntSlider(value=1993, max=2013, min=1993, step=2)"
      ]
     },
     "metadata": {},
     "output_type": "display_data"
    }
   ],
   "source": [
    "import ipywidgets as widgets\n",
    "from IPython.display import display\n",
    "slider = widgets.IntSlider(1992, min=1993, max=2013, step=2)\n",
    "def on_change(v):\n",
    "    results = df[df['year'] == slider.value].to_dict(orient='records')\n",
    "    scatterplot.data = results\n",
    "    r.update()\n",
    "    \n",
    "slider.observe(on_change, names='value')\n",
    "display(slider)"
   ]
  },
  {
   "cell_type": "code",
   "execution_count": null,
   "metadata": {},
   "outputs": [],
   "source": [
    "tooltip = {\n",
    "   \"html\": \"<b>Elevation Value:</b> {elevationValue}\",\n",
    "   \"style\": {\n",
    "        \"backgroundColor\": \"steelblue\",\n",
    "        \"color\": \"white\"\n",
    "   }\n",
    "}"
   ]
  },
  {
   "attachments": {},
   "cell_type": "markdown",
   "metadata": {},
   "source": [
    "### Tooltip"
   ]
  },
  {
   "cell_type": "code",
   "execution_count": 55,
   "metadata": {},
   "outputs": [
    {
     "data": {
      "application/vnd.jupyter.widget-view+json": {
       "model_id": "86b24465303d4bf087445c1d6071d96d",
       "version_major": 2,
       "version_minor": 0
      },
      "text/plain": [
       "DeckGLWidget(json_input='{\"initialViewState\": {\"bearing\": -27.36, \"latitude\": 52.2323, \"longitude\": -1.415, \"m…"
      ]
     },
     "metadata": {},
     "output_type": "display_data"
    }
   ],
   "source": [
    "import pydeck as pdk\n",
    "\n",
    "layer = pdk.Layer(\n",
    "    'HexagonLayer',\n",
    "    UK_ACCIDENTS_DATA,\n",
    "    get_position='[lng, lat]',\n",
    "    auto_highlight=True,\n",
    "    elevation_scale=50,\n",
    "    pickable=True,\n",
    "    elevation_range=[0, 3000],\n",
    "    extruded=True,\n",
    "    coverage=1)\n",
    "\n",
    "# Set the viewport location\n",
    "view_state = pdk.ViewState(\n",
    "    longitude=-1.415,\n",
    "    latitude=52.2323,\n",
    "    zoom=6,\n",
    "    min_zoom=5,\n",
    "    max_zoom=15,\n",
    "    pitch=40.5,\n",
    "    bearing=-27.36)\n",
    "\n",
    "# Combined all of it and render a viewport\n",
    "r = pdk.Deck(\n",
    "    layers=[layer],\n",
    "    initial_view_state=view_state,\n",
    "    tooltip={\n",
    "        'html': '<b>Elevation Value:</b> {elevationValue}',\n",
    "        'style': {\n",
    "            'color': 'white'\n",
    "        }\n",
    "    }\n",
    ")\n",
    "r.show()"
   ]
  },
  {
   "attachments": {},
   "cell_type": "markdown",
   "metadata": {},
   "source": [
    "- 그냥 텍스트로 하기\n"
   ]
  },
  {
   "cell_type": "code",
   "execution_count": 54,
   "metadata": {},
   "outputs": [
    {
     "data": {
      "application/vnd.jupyter.widget-view+json": {
       "model_id": "7cb21c045ebb49b3b2cd86dcadd929ae",
       "version_major": 2,
       "version_minor": 0
      },
      "text/plain": [
       "DeckGLWidget(json_input='{\"initialViewState\": {\"bearing\": -27.36, \"latitude\": 52.2323, \"longitude\": -1.415, \"m…"
      ]
     },
     "metadata": {},
     "output_type": "display_data"
    }
   ],
   "source": [
    "import pydeck as pdk\n",
    "\n",
    "layer = pdk.Layer(\n",
    "    'HexagonLayer',\n",
    "    UK_ACCIDENTS_DATA,\n",
    "    get_position='[lng, lat]',\n",
    "    auto_highlight=True,\n",
    "    elevation_scale=50,\n",
    "    pickable=True,\n",
    "    elevation_range=[0, 3000],\n",
    "    extruded=True,\n",
    "    coverage=1)\n",
    "\n",
    "# Set the viewport location\n",
    "view_state = pdk.ViewState(\n",
    "    longitude=-1.415,\n",
    "    latitude=52.2323,\n",
    "    zoom=6,\n",
    "    min_zoom=5,\n",
    "    max_zoom=15,\n",
    "    pitch=40.5,\n",
    "    bearing=-27.36)\n",
    "\n",
    "# Combined all of it and render a viewport\n",
    "r = pdk.Deck(\n",
    "    layers=[layer],\n",
    "    initial_view_state=view_state,\n",
    "    tooltip = {\n",
    "    \"text\": \"Elevation: {elevationValue}\"\n",
    "    }\n",
    ")\n",
    "r.show()\n",
    "\n"
   ]
  },
  {
   "attachments": {},
   "cell_type": "markdown",
   "metadata": {},
   "source": [
    "- Tooltip을 그냥 True값만 주기\n"
   ]
  },
  {
   "cell_type": "code",
   "execution_count": 56,
   "metadata": {},
   "outputs": [
    {
     "data": {
      "application/vnd.jupyter.widget-view+json": {
       "model_id": "0c3ea9240e814cefbfa393482288e114",
       "version_major": 2,
       "version_minor": 0
      },
      "text/plain": [
       "DeckGLWidget(json_input='{\"initialViewState\": {\"bearing\": -27.36, \"latitude\": 52.2323, \"longitude\": -1.415, \"m…"
      ]
     },
     "metadata": {},
     "output_type": "display_data"
    }
   ],
   "source": [
    "import pydeck as pdk\n",
    "\n",
    "layer = pdk.Layer(\n",
    "    'HexagonLayer',\n",
    "    UK_ACCIDENTS_DATA,\n",
    "    get_position='[lng, lat]',\n",
    "    auto_highlight=True,\n",
    "    elevation_scale=50,\n",
    "    pickable=True,\n",
    "    elevation_range=[0, 3000],\n",
    "    extruded=True,\n",
    "    coverage=1)\n",
    "\n",
    "# Set the viewport location\n",
    "view_state = pdk.ViewState(\n",
    "    longitude=-1.415,\n",
    "    latitude=52.2323,\n",
    "    zoom=6,\n",
    "    min_zoom=5,\n",
    "    max_zoom=15,\n",
    "    pitch=40.5,\n",
    "    bearing=-27.36)\n",
    "\n",
    "# Combined all of it and render a viewport\n",
    "r = pdk.Deck(\n",
    "    layers=[layer],\n",
    "    initial_view_state=view_state,\n",
    "    tooltip=True\n",
    ")\n",
    "r.show()"
   ]
  },
  {
   "cell_type": "code",
   "execution_count": 57,
   "metadata": {},
   "outputs": [],
   "source": [
    "UK_ACCIDENTS_DATA = 'https://raw.githubusercontent.com/uber-common/deck.gl-data/master/examples/3d-heatmap/heatmap-data.csv'\n",
    "\n",
    "uk_data = pd.read_csv(UK_ACCIDENTS_DATA)"
   ]
  },
  {
   "cell_type": "code",
   "execution_count": 58,
   "metadata": {},
   "outputs": [
    {
     "data": {
      "text/html": [
       "<div>\n",
       "<style scoped>\n",
       "    .dataframe tbody tr th:only-of-type {\n",
       "        vertical-align: middle;\n",
       "    }\n",
       "\n",
       "    .dataframe tbody tr th {\n",
       "        vertical-align: top;\n",
       "    }\n",
       "\n",
       "    .dataframe thead th {\n",
       "        text-align: right;\n",
       "    }\n",
       "</style>\n",
       "<table border=\"1\" class=\"dataframe\">\n",
       "  <thead>\n",
       "    <tr style=\"text-align: right;\">\n",
       "      <th></th>\n",
       "      <th>lng</th>\n",
       "      <th>lat</th>\n",
       "    </tr>\n",
       "  </thead>\n",
       "  <tbody>\n",
       "    <tr>\n",
       "      <th>0</th>\n",
       "      <td>-0.198465</td>\n",
       "      <td>51.505538</td>\n",
       "    </tr>\n",
       "    <tr>\n",
       "      <th>1</th>\n",
       "      <td>-0.178838</td>\n",
       "      <td>51.491836</td>\n",
       "    </tr>\n",
       "    <tr>\n",
       "      <th>2</th>\n",
       "      <td>-0.205590</td>\n",
       "      <td>51.514910</td>\n",
       "    </tr>\n",
       "    <tr>\n",
       "      <th>3</th>\n",
       "      <td>-0.208327</td>\n",
       "      <td>51.514952</td>\n",
       "    </tr>\n",
       "    <tr>\n",
       "      <th>4</th>\n",
       "      <td>-0.206022</td>\n",
       "      <td>51.496572</td>\n",
       "    </tr>\n",
       "  </tbody>\n",
       "</table>\n",
       "</div>"
      ],
      "text/plain": [
       "        lng        lat\n",
       "0 -0.198465  51.505538\n",
       "1 -0.178838  51.491836\n",
       "2 -0.205590  51.514910\n",
       "3 -0.208327  51.514952\n",
       "4 -0.206022  51.496572"
      ]
     },
     "execution_count": 58,
     "metadata": {},
     "output_type": "execute_result"
    }
   ],
   "source": [
    "uk_data.head()"
   ]
  },
  {
   "attachments": {},
   "cell_type": "markdown",
   "metadata": {},
   "source": [
    "### 미국 택시 데이터 시각화"
   ]
  },
  {
   "cell_type": "code",
   "execution_count": 44,
   "metadata": {},
   "outputs": [],
   "source": [
    "import pandas as pd\n",
    "import pydata_google_auth\n",
    "\n",
    "SCOPES = [\n",
    "  'https://www.googleapis.com/auth/cloud-platform',\n",
    "  'https://www.googleapis.com/auth/drive',\n",
    "  'https://www.googleapis.com/auth/bigquery'\n",
    "]\n",
    "\n",
    "credentials = pydata_google_auth.get_user_credentials(\n",
    "SCOPES, auth_local_webserver=True)"
   ]
  },
  {
   "cell_type": "code",
   "execution_count": 45,
   "metadata": {},
   "outputs": [],
   "source": [
    "query = \"\"\"\n",
    "SELECT \n",
    "    *\n",
    "FROM `bigquery-public-data.new_york_taxi_trips.tlc_yellow_trips_2015` \n",
    "WHERE EXTRACT(MONTH from pickup_datetime) = 1\n",
    "LIMIT 10000\n",
    "\"\"\""
   ]
  },
  {
   "cell_type": "code",
   "execution_count": 47,
   "metadata": {},
   "outputs": [
    {
     "name": "stdout",
     "output_type": "stream",
     "text": [
      "Wall time: 6.7 s\n"
     ]
    }
   ],
   "source": [
    "%%time\n",
    "taxi_df = pd.read_gbq(query=query, dialect='standard', project_id='persuasive-zoo-147513', credentials=credentials)"
   ]
  },
  {
   "cell_type": "code",
   "execution_count": 49,
   "metadata": {},
   "outputs": [
    {
     "data": {
      "text/html": [
       "<div>\n",
       "<style scoped>\n",
       "    .dataframe tbody tr th:only-of-type {\n",
       "        vertical-align: middle;\n",
       "    }\n",
       "\n",
       "    .dataframe tbody tr th {\n",
       "        vertical-align: top;\n",
       "    }\n",
       "\n",
       "    .dataframe thead th {\n",
       "        text-align: right;\n",
       "    }\n",
       "</style>\n",
       "<table border=\"1\" class=\"dataframe\">\n",
       "  <thead>\n",
       "    <tr style=\"text-align: right;\">\n",
       "      <th></th>\n",
       "      <th>vendor_id</th>\n",
       "      <th>pickup_datetime</th>\n",
       "      <th>dropoff_datetime</th>\n",
       "      <th>passenger_count</th>\n",
       "      <th>trip_distance</th>\n",
       "      <th>pickup_longitude</th>\n",
       "      <th>pickup_latitude</th>\n",
       "      <th>rate_code</th>\n",
       "      <th>store_and_fwd_flag</th>\n",
       "      <th>dropoff_longitude</th>\n",
       "      <th>dropoff_latitude</th>\n",
       "      <th>payment_type</th>\n",
       "      <th>fare_amount</th>\n",
       "      <th>extra</th>\n",
       "      <th>mta_tax</th>\n",
       "      <th>tip_amount</th>\n",
       "      <th>tolls_amount</th>\n",
       "      <th>imp_surcharge</th>\n",
       "      <th>total_amount</th>\n",
       "    </tr>\n",
       "  </thead>\n",
       "  <tbody>\n",
       "    <tr>\n",
       "      <th>0</th>\n",
       "      <td>1</td>\n",
       "      <td>2015-01-02 16:26:22</td>\n",
       "      <td>2015-01-02 16:51:10</td>\n",
       "      <td>2</td>\n",
       "      <td>2.50</td>\n",
       "      <td>-73.993172</td>\n",
       "      <td>40.762901</td>\n",
       "      <td>&lt;NA&gt;</td>\n",
       "      <td>N</td>\n",
       "      <td>-73.962097</td>\n",
       "      <td>40.763584</td>\n",
       "      <td>1</td>\n",
       "      <td>15.7</td>\n",
       "      <td>1.0</td>\n",
       "      <td>0.5</td>\n",
       "      <td>3.50</td>\n",
       "      <td>0.0</td>\n",
       "      <td>0.0</td>\n",
       "      <td>21.00</td>\n",
       "    </tr>\n",
       "    <tr>\n",
       "      <th>1</th>\n",
       "      <td>1</td>\n",
       "      <td>2015-01-16 17:13:00</td>\n",
       "      <td>2015-01-16 17:16:10</td>\n",
       "      <td>1</td>\n",
       "      <td>0.40</td>\n",
       "      <td>-73.961601</td>\n",
       "      <td>40.771229</td>\n",
       "      <td>&lt;NA&gt;</td>\n",
       "      <td>N</td>\n",
       "      <td>-73.959419</td>\n",
       "      <td>40.775253</td>\n",
       "      <td>1</td>\n",
       "      <td>4.0</td>\n",
       "      <td>1.0</td>\n",
       "      <td>0.5</td>\n",
       "      <td>1.15</td>\n",
       "      <td>0.0</td>\n",
       "      <td>0.3</td>\n",
       "      <td>6.95</td>\n",
       "    </tr>\n",
       "    <tr>\n",
       "      <th>2</th>\n",
       "      <td>2</td>\n",
       "      <td>2015-01-24 04:25:01</td>\n",
       "      <td>2015-01-24 04:41:43</td>\n",
       "      <td>2</td>\n",
       "      <td>4.64</td>\n",
       "      <td>-74.000595</td>\n",
       "      <td>40.737167</td>\n",
       "      <td>&lt;NA&gt;</td>\n",
       "      <td>N</td>\n",
       "      <td>-73.995499</td>\n",
       "      <td>40.680763</td>\n",
       "      <td>1</td>\n",
       "      <td>16.0</td>\n",
       "      <td>0.5</td>\n",
       "      <td>0.5</td>\n",
       "      <td>19.50</td>\n",
       "      <td>0.0</td>\n",
       "      <td>0.3</td>\n",
       "      <td>36.80</td>\n",
       "    </tr>\n",
       "    <tr>\n",
       "      <th>3</th>\n",
       "      <td>2</td>\n",
       "      <td>2015-01-30 14:29:58</td>\n",
       "      <td>2015-01-30 15:27:13</td>\n",
       "      <td>1</td>\n",
       "      <td>18.39</td>\n",
       "      <td>-73.989914</td>\n",
       "      <td>40.729706</td>\n",
       "      <td>&lt;NA&gt;</td>\n",
       "      <td>N</td>\n",
       "      <td>-73.782310</td>\n",
       "      <td>40.644180</td>\n",
       "      <td>1</td>\n",
       "      <td>52.0</td>\n",
       "      <td>0.0</td>\n",
       "      <td>0.5</td>\n",
       "      <td>5.50</td>\n",
       "      <td>0.0</td>\n",
       "      <td>0.3</td>\n",
       "      <td>58.30</td>\n",
       "    </tr>\n",
       "    <tr>\n",
       "      <th>4</th>\n",
       "      <td>1</td>\n",
       "      <td>2015-01-14 21:24:13</td>\n",
       "      <td>2015-01-14 21:25:55</td>\n",
       "      <td>1</td>\n",
       "      <td>0.50</td>\n",
       "      <td>-73.954849</td>\n",
       "      <td>40.773220</td>\n",
       "      <td>&lt;NA&gt;</td>\n",
       "      <td>N</td>\n",
       "      <td>-73.959801</td>\n",
       "      <td>40.769432</td>\n",
       "      <td>1</td>\n",
       "      <td>3.5</td>\n",
       "      <td>0.5</td>\n",
       "      <td>0.5</td>\n",
       "      <td>0.96</td>\n",
       "      <td>0.0</td>\n",
       "      <td>0.3</td>\n",
       "      <td>5.76</td>\n",
       "    </tr>\n",
       "    <tr>\n",
       "      <th>...</th>\n",
       "      <td>...</td>\n",
       "      <td>...</td>\n",
       "      <td>...</td>\n",
       "      <td>...</td>\n",
       "      <td>...</td>\n",
       "      <td>...</td>\n",
       "      <td>...</td>\n",
       "      <td>...</td>\n",
       "      <td>...</td>\n",
       "      <td>...</td>\n",
       "      <td>...</td>\n",
       "      <td>...</td>\n",
       "      <td>...</td>\n",
       "      <td>...</td>\n",
       "      <td>...</td>\n",
       "      <td>...</td>\n",
       "      <td>...</td>\n",
       "      <td>...</td>\n",
       "      <td>...</td>\n",
       "    </tr>\n",
       "    <tr>\n",
       "      <th>9995</th>\n",
       "      <td>1</td>\n",
       "      <td>2015-01-24 22:49:17</td>\n",
       "      <td>2015-01-24 22:56:20</td>\n",
       "      <td>2</td>\n",
       "      <td>0.70</td>\n",
       "      <td>-74.004578</td>\n",
       "      <td>40.724056</td>\n",
       "      <td>&lt;NA&gt;</td>\n",
       "      <td>N</td>\n",
       "      <td>-74.006958</td>\n",
       "      <td>40.732971</td>\n",
       "      <td>1</td>\n",
       "      <td>6.0</td>\n",
       "      <td>0.5</td>\n",
       "      <td>0.5</td>\n",
       "      <td>1.80</td>\n",
       "      <td>0.0</td>\n",
       "      <td>0.3</td>\n",
       "      <td>9.10</td>\n",
       "    </tr>\n",
       "    <tr>\n",
       "      <th>9996</th>\n",
       "      <td>2</td>\n",
       "      <td>2015-01-21 18:20:27</td>\n",
       "      <td>2015-01-21 18:30:16</td>\n",
       "      <td>6</td>\n",
       "      <td>1.14</td>\n",
       "      <td>-74.000038</td>\n",
       "      <td>40.748291</td>\n",
       "      <td>&lt;NA&gt;</td>\n",
       "      <td>N</td>\n",
       "      <td>-73.990608</td>\n",
       "      <td>40.738071</td>\n",
       "      <td>1</td>\n",
       "      <td>8.0</td>\n",
       "      <td>1.0</td>\n",
       "      <td>0.5</td>\n",
       "      <td>1.80</td>\n",
       "      <td>0.0</td>\n",
       "      <td>0.3</td>\n",
       "      <td>11.60</td>\n",
       "    </tr>\n",
       "    <tr>\n",
       "      <th>9997</th>\n",
       "      <td>2</td>\n",
       "      <td>2015-01-09 20:35:23</td>\n",
       "      <td>2015-01-09 20:43:55</td>\n",
       "      <td>1</td>\n",
       "      <td>2.00</td>\n",
       "      <td>-73.974876</td>\n",
       "      <td>40.748661</td>\n",
       "      <td>&lt;NA&gt;</td>\n",
       "      <td>N</td>\n",
       "      <td>-73.980530</td>\n",
       "      <td>40.768021</td>\n",
       "      <td>1</td>\n",
       "      <td>8.5</td>\n",
       "      <td>0.5</td>\n",
       "      <td>0.5</td>\n",
       "      <td>1.80</td>\n",
       "      <td>0.0</td>\n",
       "      <td>0.3</td>\n",
       "      <td>11.60</td>\n",
       "    </tr>\n",
       "    <tr>\n",
       "      <th>9998</th>\n",
       "      <td>2</td>\n",
       "      <td>2015-01-31 22:01:33</td>\n",
       "      <td>2015-01-31 22:11:22</td>\n",
       "      <td>1</td>\n",
       "      <td>1.42</td>\n",
       "      <td>-73.984718</td>\n",
       "      <td>40.728447</td>\n",
       "      <td>&lt;NA&gt;</td>\n",
       "      <td>N</td>\n",
       "      <td>-73.975380</td>\n",
       "      <td>40.745564</td>\n",
       "      <td>1</td>\n",
       "      <td>8.5</td>\n",
       "      <td>0.5</td>\n",
       "      <td>0.5</td>\n",
       "      <td>1.80</td>\n",
       "      <td>0.0</td>\n",
       "      <td>0.3</td>\n",
       "      <td>11.60</td>\n",
       "    </tr>\n",
       "    <tr>\n",
       "      <th>9999</th>\n",
       "      <td>2</td>\n",
       "      <td>2015-01-13 13:40:14</td>\n",
       "      <td>2015-01-13 13:51:28</td>\n",
       "      <td>5</td>\n",
       "      <td>1.57</td>\n",
       "      <td>-73.981232</td>\n",
       "      <td>40.747498</td>\n",
       "      <td>&lt;NA&gt;</td>\n",
       "      <td>N</td>\n",
       "      <td>-73.998116</td>\n",
       "      <td>40.733883</td>\n",
       "      <td>1</td>\n",
       "      <td>9.0</td>\n",
       "      <td>0.0</td>\n",
       "      <td>0.5</td>\n",
       "      <td>1.80</td>\n",
       "      <td>0.0</td>\n",
       "      <td>0.3</td>\n",
       "      <td>11.60</td>\n",
       "    </tr>\n",
       "  </tbody>\n",
       "</table>\n",
       "<p>10000 rows × 19 columns</p>\n",
       "</div>"
      ],
      "text/plain": [
       "     vendor_id     pickup_datetime    dropoff_datetime  passenger_count  \\\n",
       "0            1 2015-01-02 16:26:22 2015-01-02 16:51:10                2   \n",
       "1            1 2015-01-16 17:13:00 2015-01-16 17:16:10                1   \n",
       "2            2 2015-01-24 04:25:01 2015-01-24 04:41:43                2   \n",
       "3            2 2015-01-30 14:29:58 2015-01-30 15:27:13                1   \n",
       "4            1 2015-01-14 21:24:13 2015-01-14 21:25:55                1   \n",
       "...        ...                 ...                 ...              ...   \n",
       "9995         1 2015-01-24 22:49:17 2015-01-24 22:56:20                2   \n",
       "9996         2 2015-01-21 18:20:27 2015-01-21 18:30:16                6   \n",
       "9997         2 2015-01-09 20:35:23 2015-01-09 20:43:55                1   \n",
       "9998         2 2015-01-31 22:01:33 2015-01-31 22:11:22                1   \n",
       "9999         2 2015-01-13 13:40:14 2015-01-13 13:51:28                5   \n",
       "\n",
       "      trip_distance  pickup_longitude  pickup_latitude  rate_code  \\\n",
       "0              2.50        -73.993172        40.762901       <NA>   \n",
       "1              0.40        -73.961601        40.771229       <NA>   \n",
       "2              4.64        -74.000595        40.737167       <NA>   \n",
       "3             18.39        -73.989914        40.729706       <NA>   \n",
       "4              0.50        -73.954849        40.773220       <NA>   \n",
       "...             ...               ...              ...        ...   \n",
       "9995           0.70        -74.004578        40.724056       <NA>   \n",
       "9996           1.14        -74.000038        40.748291       <NA>   \n",
       "9997           2.00        -73.974876        40.748661       <NA>   \n",
       "9998           1.42        -73.984718        40.728447       <NA>   \n",
       "9999           1.57        -73.981232        40.747498       <NA>   \n",
       "\n",
       "     store_and_fwd_flag  dropoff_longitude  dropoff_latitude payment_type  \\\n",
       "0                     N         -73.962097         40.763584            1   \n",
       "1                     N         -73.959419         40.775253            1   \n",
       "2                     N         -73.995499         40.680763            1   \n",
       "3                     N         -73.782310         40.644180            1   \n",
       "4                     N         -73.959801         40.769432            1   \n",
       "...                 ...                ...               ...          ...   \n",
       "9995                  N         -74.006958         40.732971            1   \n",
       "9996                  N         -73.990608         40.738071            1   \n",
       "9997                  N         -73.980530         40.768021            1   \n",
       "9998                  N         -73.975380         40.745564            1   \n",
       "9999                  N         -73.998116         40.733883            1   \n",
       "\n",
       "      fare_amount  extra  mta_tax  tip_amount  tolls_amount  imp_surcharge  \\\n",
       "0            15.7    1.0      0.5        3.50           0.0            0.0   \n",
       "1             4.0    1.0      0.5        1.15           0.0            0.3   \n",
       "2            16.0    0.5      0.5       19.50           0.0            0.3   \n",
       "3            52.0    0.0      0.5        5.50           0.0            0.3   \n",
       "4             3.5    0.5      0.5        0.96           0.0            0.3   \n",
       "...           ...    ...      ...         ...           ...            ...   \n",
       "9995          6.0    0.5      0.5        1.80           0.0            0.3   \n",
       "9996          8.0    1.0      0.5        1.80           0.0            0.3   \n",
       "9997          8.5    0.5      0.5        1.80           0.0            0.3   \n",
       "9998          8.5    0.5      0.5        1.80           0.0            0.3   \n",
       "9999          9.0    0.0      0.5        1.80           0.0            0.3   \n",
       "\n",
       "      total_amount  \n",
       "0            21.00  \n",
       "1             6.95  \n",
       "2            36.80  \n",
       "3            58.30  \n",
       "4             5.76  \n",
       "...            ...  \n",
       "9995          9.10  \n",
       "9996         11.60  \n",
       "9997         11.60  \n",
       "9998         11.60  \n",
       "9999         11.60  \n",
       "\n",
       "[10000 rows x 19 columns]"
      ]
     },
     "execution_count": 49,
     "metadata": {},
     "output_type": "execute_result"
    }
   ],
   "source": [
    "taxi_df"
   ]
  },
  {
   "attachments": {},
   "cell_type": "markdown",
   "metadata": {},
   "source": [
    "### GridLayer\n",
    "- 10만개 데이터"
   ]
  },
  {
   "cell_type": "code",
   "execution_count": 50,
   "metadata": {},
   "outputs": [
    {
     "data": {
      "application/vnd.jupyter.widget-view+json": {
       "model_id": "460e38d1c91046c0822cff36f4ce22eb",
       "version_major": 2,
       "version_minor": 0
      },
      "text/plain": [
       "DeckGLWidget(carto_key=None, custom_libraries=[], google_maps_key=None, json_input='{\"initialViewState\": {\"lat…"
      ]
     },
     "metadata": {},
     "output_type": "display_data"
    }
   ],
   "source": [
    "arc_layer = pdk.Layer(\n",
    "    'GridLayer',\n",
    "    taxi_df,\n",
    "    get_position='[pickup_longitude, pickup_latitude]',\n",
    "    pickable=True, \n",
    "    auto_highlight=True,\n",
    "    tooltip=True\n",
    ")\n",
    "\n",
    "nyc_center = [-73.9808, 40.7648] \n",
    "view_state = pdk.ViewState(longitude=nyc_center[0], latitude=nyc_center[1], zoom=9)\n",
    "\n",
    "r = pdk.Deck(layers=[arc_layer], initial_view_state=view_state)\n",
    "r.show()"
   ]
  },
  {
   "attachments": {},
   "cell_type": "markdown",
   "metadata": {},
   "source": [
    "### Arc Layer"
   ]
  },
  {
   "cell_type": "code",
   "execution_count": 51,
   "metadata": {},
   "outputs": [],
   "source": [
    "zip_code_query = \"\"\"\n",
    "WITH base_data AS \n",
    "(\n",
    "  SELECT \n",
    "    nyc_taxi.*, \n",
    "    pickup.zip_code as pickup_zip_code,\n",
    "    pickup.internal_point_lat as pickup_zip_code_lat,\n",
    "    pickup.internal_point_lon as pickup_zip_code_lon,\n",
    "    dropoff.zip_code as dropoff_zip_code,\n",
    "    dropoff.internal_point_lat as dropoff_zip_code_lat,\n",
    "    dropoff.internal_point_lon as dropoff_zip_code_lon\n",
    "  FROM (\n",
    "    SELECT *\n",
    "    FROM `bigquery-public-data.new_york_taxi_trips.tlc_yellow_trips_2015`\n",
    "    WHERE \n",
    "        EXTRACT(MONTH from pickup_datetime) = 1\n",
    "        and pickup_latitude <= 90 and pickup_latitude >= -90\n",
    "        and dropoff_latitude <= 90 and dropoff_latitude >= -90\n",
    "    ) AS nyc_taxi\n",
    "  JOIN (\n",
    "    SELECT zip_code, state_code, state_name, city, county, zip_code_geom, internal_point_lat, internal_point_lon \n",
    "    FROM `bigquery-public-data.geo_us_boundaries.zip_codes`\n",
    "    WHERE state_code='NY'\n",
    "    ) AS pickup \n",
    "  ON ST_CONTAINS(pickup.zip_code_geom, st_geogpoint(pickup_longitude, pickup_latitude))\n",
    "  JOIN (\n",
    "    SELECT zip_code, state_code, state_name, city, county, zip_code_geom, internal_point_lat, internal_point_lon \n",
    "    FROM `bigquery-public-data.geo_us_boundaries.zip_codes`\n",
    "    WHERE state_code='NY' \n",
    "    ) AS dropoff\n",
    "  ON ST_CONTAINS(dropoff.zip_code_geom, st_geogpoint(dropoff_longitude, dropoff_latitude))\n",
    "  \n",
    ")\n",
    "\n",
    "SELECT \n",
    "  *\n",
    "FROM base_data \n",
    "limit 10000\n",
    "\"\"\""
   ]
  },
  {
   "cell_type": "code",
   "execution_count": 52,
   "metadata": {},
   "outputs": [
    {
     "name": "stdout",
     "output_type": "stream",
     "text": [
      "Wall time: 36.5 s\n"
     ]
    }
   ],
   "source": [
    "%%time\n",
    "taxi_df_by_zipcode = pd.read_gbq(query=zip_code_query, dialect='standard', project_id='persuasive-zoo-147513', credentials=credentials)"
   ]
  },
  {
   "cell_type": "code",
   "execution_count": 53,
   "metadata": {},
   "outputs": [
    {
     "data": {
      "text/html": [
       "<div>\n",
       "<style scoped>\n",
       "    .dataframe tbody tr th:only-of-type {\n",
       "        vertical-align: middle;\n",
       "    }\n",
       "\n",
       "    .dataframe tbody tr th {\n",
       "        vertical-align: top;\n",
       "    }\n",
       "\n",
       "    .dataframe thead th {\n",
       "        text-align: right;\n",
       "    }\n",
       "</style>\n",
       "<table border=\"1\" class=\"dataframe\">\n",
       "  <thead>\n",
       "    <tr style=\"text-align: right;\">\n",
       "      <th></th>\n",
       "      <th>vendor_id</th>\n",
       "      <th>pickup_datetime</th>\n",
       "      <th>dropoff_datetime</th>\n",
       "      <th>passenger_count</th>\n",
       "      <th>trip_distance</th>\n",
       "      <th>pickup_longitude</th>\n",
       "      <th>pickup_latitude</th>\n",
       "      <th>rate_code</th>\n",
       "      <th>store_and_fwd_flag</th>\n",
       "      <th>dropoff_longitude</th>\n",
       "      <th>...</th>\n",
       "      <th>tip_amount</th>\n",
       "      <th>tolls_amount</th>\n",
       "      <th>imp_surcharge</th>\n",
       "      <th>total_amount</th>\n",
       "      <th>pickup_zip_code</th>\n",
       "      <th>pickup_zip_code_lat</th>\n",
       "      <th>pickup_zip_code_lon</th>\n",
       "      <th>dropoff_zip_code</th>\n",
       "      <th>dropoff_zip_code_lat</th>\n",
       "      <th>dropoff_zip_code_lon</th>\n",
       "    </tr>\n",
       "  </thead>\n",
       "  <tbody>\n",
       "    <tr>\n",
       "      <th>0</th>\n",
       "      <td>2</td>\n",
       "      <td>2015-01-20 09:57:47</td>\n",
       "      <td>2015-01-20 10:14:24</td>\n",
       "      <td>1</td>\n",
       "      <td>2.54</td>\n",
       "      <td>-74.014793</td>\n",
       "      <td>40.714111</td>\n",
       "      <td>&lt;NA&gt;</td>\n",
       "      <td>N</td>\n",
       "      <td>-73.991997</td>\n",
       "      <td>...</td>\n",
       "      <td>2.5</td>\n",
       "      <td>0.0</td>\n",
       "      <td>0.3</td>\n",
       "      <td>15.8</td>\n",
       "      <td>10280</td>\n",
       "      <td>40.709073</td>\n",
       "      <td>-74.016423</td>\n",
       "      <td>10003</td>\n",
       "      <td>40.731829</td>\n",
       "      <td>-73.989181</td>\n",
       "    </tr>\n",
       "    <tr>\n",
       "      <th>1</th>\n",
       "      <td>1</td>\n",
       "      <td>2015-01-15 04:50:46</td>\n",
       "      <td>2015-01-15 05:01:29</td>\n",
       "      <td>1</td>\n",
       "      <td>2.30</td>\n",
       "      <td>-74.015938</td>\n",
       "      <td>40.710976</td>\n",
       "      <td>&lt;NA&gt;</td>\n",
       "      <td>N</td>\n",
       "      <td>-73.996552</td>\n",
       "      <td>...</td>\n",
       "      <td>0.0</td>\n",
       "      <td>0.0</td>\n",
       "      <td>0.3</td>\n",
       "      <td>11.3</td>\n",
       "      <td>10280</td>\n",
       "      <td>40.709073</td>\n",
       "      <td>-74.016423</td>\n",
       "      <td>10011</td>\n",
       "      <td>40.742043</td>\n",
       "      <td>-74.000620</td>\n",
       "    </tr>\n",
       "    <tr>\n",
       "      <th>2</th>\n",
       "      <td>2</td>\n",
       "      <td>2015-01-22 09:31:00</td>\n",
       "      <td>2015-01-22 09:50:42</td>\n",
       "      <td>1</td>\n",
       "      <td>4.13</td>\n",
       "      <td>-73.989738</td>\n",
       "      <td>40.701981</td>\n",
       "      <td>&lt;NA&gt;</td>\n",
       "      <td>N</td>\n",
       "      <td>-74.007828</td>\n",
       "      <td>...</td>\n",
       "      <td>2.0</td>\n",
       "      <td>0.0</td>\n",
       "      <td>0.3</td>\n",
       "      <td>19.8</td>\n",
       "      <td>11201</td>\n",
       "      <td>40.693700</td>\n",
       "      <td>-73.989859</td>\n",
       "      <td>10011</td>\n",
       "      <td>40.742043</td>\n",
       "      <td>-74.000620</td>\n",
       "    </tr>\n",
       "  </tbody>\n",
       "</table>\n",
       "<p>3 rows × 25 columns</p>\n",
       "</div>"
      ],
      "text/plain": [
       "  vendor_id     pickup_datetime    dropoff_datetime  passenger_count  \\\n",
       "0         2 2015-01-20 09:57:47 2015-01-20 10:14:24                1   \n",
       "1         1 2015-01-15 04:50:46 2015-01-15 05:01:29                1   \n",
       "2         2 2015-01-22 09:31:00 2015-01-22 09:50:42                1   \n",
       "\n",
       "   trip_distance  pickup_longitude  pickup_latitude  rate_code  \\\n",
       "0           2.54        -74.014793        40.714111       <NA>   \n",
       "1           2.30        -74.015938        40.710976       <NA>   \n",
       "2           4.13        -73.989738        40.701981       <NA>   \n",
       "\n",
       "  store_and_fwd_flag  dropoff_longitude  ...  tip_amount tolls_amount  \\\n",
       "0                  N         -73.991997  ...         2.5          0.0   \n",
       "1                  N         -73.996552  ...         0.0          0.0   \n",
       "2                  N         -74.007828  ...         2.0          0.0   \n",
       "\n",
       "   imp_surcharge  total_amount  pickup_zip_code  pickup_zip_code_lat  \\\n",
       "0            0.3          15.8            10280            40.709073   \n",
       "1            0.3          11.3            10280            40.709073   \n",
       "2            0.3          19.8            11201            40.693700   \n",
       "\n",
       "   pickup_zip_code_lon  dropoff_zip_code  dropoff_zip_code_lat  \\\n",
       "0           -74.016423             10003             40.731829   \n",
       "1           -74.016423             10011             40.742043   \n",
       "2           -73.989859             10011             40.742043   \n",
       "\n",
       "  dropoff_zip_code_lon  \n",
       "0           -73.989181  \n",
       "1           -74.000620  \n",
       "2           -74.000620  \n",
       "\n",
       "[3 rows x 25 columns]"
      ]
     },
     "execution_count": 53,
     "metadata": {},
     "output_type": "execute_result"
    }
   ],
   "source": [
    "taxi_df_by_zipcode.head(3)"
   ]
  },
  {
   "cell_type": "code",
   "execution_count": 54,
   "metadata": {},
   "outputs": [
    {
     "data": {
      "application/vnd.jupyter.widget-view+json": {
       "model_id": "db1feb764ce94399924ae7b7108ff77c",
       "version_major": 2,
       "version_minor": 0
      },
      "text/plain": [
       "DeckGLWidget(carto_key=None, custom_libraries=[], google_maps_key=None, json_input='{\"initialViewState\": {\"lat…"
      ]
     },
     "metadata": {},
     "output_type": "display_data"
    }
   ],
   "source": [
    "\n",
    "arc_layer = pdk.Layer(\n",
    "    'ArcLayer',\n",
    "    taxi_df_by_zipcode,\n",
    "    get_source_position='[pickup_zip_code_lon, pickup_zip_code_lat]',\n",
    "    get_target_position='[dropoff_zip_code_lon, dropoff_zip_code_lat]',\n",
    "    get_source_color='[255, 255, 120]', \n",
    "    get_target_color='[255, 0, 0]',\n",
    "    get_widht='elevationValue',\n",
    "    pickable=True, \n",
    "    auto_highlight=True,\n",
    ")\n",
    "\n",
    "nyc_center = [-73.9808, 40.7648] \n",
    "view_state = pdk.ViewState(longitude=nyc_center[0], latitude=nyc_center[1], zoom=9)\n",
    "\n",
    "r = pdk.Deck(layers=[arc_layer], initial_view_state=view_state)\n",
    "r.show()\n"
   ]
  },
  {
   "attachments": {},
   "cell_type": "markdown",
   "metadata": {},
   "source": [
    "### Aggregate "
   ]
  },
  {
   "cell_type": "code",
   "execution_count": 55,
   "metadata": {},
   "outputs": [],
   "source": [
    "agg_query = \"\"\"\n",
    "WITH base_data AS \n",
    "(\n",
    "  SELECT \n",
    "    nyc_taxi.*, \n",
    "    pickup.zip_code as pickup_zip_code,\n",
    "    pickup.internal_point_lat as pickup_zip_code_lat,\n",
    "    pickup.internal_point_lon as pickup_zip_code_lon,\n",
    "    dropoff.zip_code as dropoff_zip_code,\n",
    "    dropoff.internal_point_lat as dropoff_zip_code_lat,\n",
    "    dropoff.internal_point_lon as dropoff_zip_code_lon\n",
    "  FROM (\n",
    "    SELECT *\n",
    "    FROM `bigquery-public-data.new_york_taxi_trips.tlc_yellow_trips_2015`\n",
    "    WHERE \n",
    "        EXTRACT(MONTH from pickup_datetime) = 1\n",
    "        and pickup_latitude <= 90 and pickup_latitude >= -90\n",
    "        and dropoff_latitude <= 90 and dropoff_latitude >= -90\n",
    "    ) AS nyc_taxi\n",
    "  JOIN (\n",
    "    SELECT zip_code, state_code, state_name, city, county, zip_code_geom, internal_point_lat, internal_point_lon \n",
    "    FROM `bigquery-public-data.geo_us_boundaries.zip_codes`\n",
    "    WHERE state_code='NY'\n",
    "    ) AS pickup \n",
    "  ON ST_CONTAINS(pickup.zip_code_geom, st_geogpoint(pickup_longitude, pickup_latitude))\n",
    "  JOIN (\n",
    "    SELECT zip_code, state_code, state_name, city, county, zip_code_geom, internal_point_lat, internal_point_lon \n",
    "    FROM `bigquery-public-data.geo_us_boundaries.zip_codes`\n",
    "    WHERE state_code='NY' \n",
    "    ) AS dropoff\n",
    "  ON ST_CONTAINS(dropoff.zip_code_geom, st_geogpoint(dropoff_longitude, dropoff_latitude))\n",
    "  \n",
    ")\n",
    "\n",
    "SELECT \n",
    "  pickup_zip_code,\n",
    "  pickup_zip_code_lat,\n",
    "  pickup_zip_code_lon,\n",
    "  dropoff_zip_code,\n",
    "  dropoff_zip_code_lat,\n",
    "  dropoff_zip_code_lon,\n",
    "  COUNT(*) AS cnt\n",
    "FROM base_data \n",
    "GROUP BY 1,2,3,4,5,6\n",
    "limit 10000\n",
    "\"\"\""
   ]
  },
  {
   "cell_type": "code",
   "execution_count": 56,
   "metadata": {},
   "outputs": [
    {
     "name": "stdout",
     "output_type": "stream",
     "text": [
      "Wall time: 15.9 s\n"
     ]
    }
   ],
   "source": [
    "%%time\n",
    "agg_df = pd.read_gbq(query=agg_query, dialect='standard', project_id='persuasive-zoo-147513', credentials=credentials)"
   ]
  },
  {
   "cell_type": "code",
   "execution_count": 57,
   "metadata": {},
   "outputs": [
    {
     "data": {
      "text/html": [
       "<div>\n",
       "<style scoped>\n",
       "    .dataframe tbody tr th:only-of-type {\n",
       "        vertical-align: middle;\n",
       "    }\n",
       "\n",
       "    .dataframe tbody tr th {\n",
       "        vertical-align: top;\n",
       "    }\n",
       "\n",
       "    .dataframe thead th {\n",
       "        text-align: right;\n",
       "    }\n",
       "</style>\n",
       "<table border=\"1\" class=\"dataframe\">\n",
       "  <thead>\n",
       "    <tr style=\"text-align: right;\">\n",
       "      <th></th>\n",
       "      <th>pickup_zip_code</th>\n",
       "      <th>pickup_zip_code_lat</th>\n",
       "      <th>pickup_zip_code_lon</th>\n",
       "      <th>dropoff_zip_code</th>\n",
       "      <th>dropoff_zip_code_lat</th>\n",
       "      <th>dropoff_zip_code_lon</th>\n",
       "      <th>cnt</th>\n",
       "    </tr>\n",
       "  </thead>\n",
       "  <tbody>\n",
       "    <tr>\n",
       "      <th>0</th>\n",
       "      <td>11693</td>\n",
       "      <td>40.590916</td>\n",
       "      <td>-73.809715</td>\n",
       "      <td>11414</td>\n",
       "      <td>40.657604</td>\n",
       "      <td>-73.844804</td>\n",
       "      <td>1</td>\n",
       "    </tr>\n",
       "    <tr>\n",
       "      <th>1</th>\n",
       "      <td>10040</td>\n",
       "      <td>40.858314</td>\n",
       "      <td>-73.930494</td>\n",
       "      <td>10040</td>\n",
       "      <td>40.858314</td>\n",
       "      <td>-73.930494</td>\n",
       "      <td>139</td>\n",
       "    </tr>\n",
       "    <tr>\n",
       "      <th>2</th>\n",
       "      <td>10473</td>\n",
       "      <td>40.818690</td>\n",
       "      <td>-73.858474</td>\n",
       "      <td>10030</td>\n",
       "      <td>40.818267</td>\n",
       "      <td>-73.942856</td>\n",
       "      <td>1</td>\n",
       "    </tr>\n",
       "    <tr>\n",
       "      <th>3</th>\n",
       "      <td>10451</td>\n",
       "      <td>40.820454</td>\n",
       "      <td>-73.925066</td>\n",
       "      <td>10031</td>\n",
       "      <td>40.825288</td>\n",
       "      <td>-73.950045</td>\n",
       "      <td>93</td>\n",
       "    </tr>\n",
       "    <tr>\n",
       "      <th>4</th>\n",
       "      <td>11209</td>\n",
       "      <td>40.621993</td>\n",
       "      <td>-74.030134</td>\n",
       "      <td>11228</td>\n",
       "      <td>40.616698</td>\n",
       "      <td>-74.013066</td>\n",
       "      <td>28</td>\n",
       "    </tr>\n",
       "  </tbody>\n",
       "</table>\n",
       "</div>"
      ],
      "text/plain": [
       "  pickup_zip_code  pickup_zip_code_lat  pickup_zip_code_lon dropoff_zip_code  \\\n",
       "0           11693            40.590916           -73.809715            11414   \n",
       "1           10040            40.858314           -73.930494            10040   \n",
       "2           10473            40.818690           -73.858474            10030   \n",
       "3           10451            40.820454           -73.925066            10031   \n",
       "4           11209            40.621993           -74.030134            11228   \n",
       "\n",
       "   dropoff_zip_code_lat  dropoff_zip_code_lon  cnt  \n",
       "0             40.657604            -73.844804    1  \n",
       "1             40.858314            -73.930494  139  \n",
       "2             40.818267            -73.942856    1  \n",
       "3             40.825288            -73.950045   93  \n",
       "4             40.616698            -74.013066   28  "
      ]
     },
     "execution_count": 57,
     "metadata": {},
     "output_type": "execute_result"
    }
   ],
   "source": [
    "agg_df.head()"
   ]
  },
  {
   "cell_type": "code",
   "execution_count": 58,
   "metadata": {},
   "outputs": [],
   "source": [
    "agg_df = agg_df.sort_values('cnt', ascending=False)"
   ]
  },
  {
   "cell_type": "code",
   "execution_count": 59,
   "metadata": {},
   "outputs": [],
   "source": [
    "agg_df = agg_df[:100]"
   ]
  },
  {
   "cell_type": "code",
   "execution_count": 60,
   "metadata": {},
   "outputs": [
    {
     "data": {
      "application/vnd.jupyter.widget-view+json": {
       "model_id": "fdda1fb58d214d9ea1bc5f5b9616677b",
       "version_major": 2,
       "version_minor": 0
      },
      "text/plain": [
       "DeckGLWidget(carto_key=None, custom_libraries=[], google_maps_key=None, json_input='{\"initialViewState\": {\"lat…"
      ]
     },
     "metadata": {},
     "output_type": "display_data"
    }
   ],
   "source": [
    "\n",
    "arc_layer = pdk.Layer(\n",
    "    'ArcLayer',\n",
    "    agg_df,\n",
    "    get_source_position='[pickup_zip_code_lon, pickup_zip_code_lat]',\n",
    "    get_target_position='[dropoff_zip_code_lon, dropoff_zip_code_lat]',\n",
    "    get_source_color='[255, 255, 120]', \n",
    "    get_target_color='[255, 0, 0]',\n",
    "    width_units='meters',\n",
    "    get_width=\"1+10*cnt/500\",\n",
    "    pickable=True, \n",
    "    auto_highlight=True,\n",
    ")\n",
    "\n",
    "nyc_center = [-73.9808, 40.7648] \n",
    "view_state = pdk.ViewState(longitude=nyc_center[0], latitude=nyc_center[1], zoom=9)\n",
    "\n",
    "r = pdk.Deck(layers=[arc_layer], initial_view_state=view_state,\n",
    "             tooltip={\n",
    "                 'html': '<b>count:</b> {cnt}',\n",
    "                 'style': {\n",
    "                     'color': 'white'\n",
    "                 }\n",
    "             }\n",
    "            )\n",
    "r.show()\n"
   ]
  },
  {
   "attachments": {},
   "cell_type": "markdown",
   "metadata": {},
   "source": [
    "### 요일별 위젯"
   ]
  },
  {
   "cell_type": "code",
   "execution_count": 61,
   "metadata": {},
   "outputs": [],
   "source": [
    "agg_query2 = \"\"\"\n",
    "WITH base_data AS \n",
    "(\n",
    "  SELECT \n",
    "    nyc_taxi.*, \n",
    "    pickup.zip_code as pickup_zip_code,\n",
    "    pickup.internal_point_lat as pickup_zip_code_lat,\n",
    "    pickup.internal_point_lon as pickup_zip_code_lon,\n",
    "    dropoff.zip_code as dropoff_zip_code,\n",
    "    dropoff.internal_point_lat as dropoff_zip_code_lat,\n",
    "    dropoff.internal_point_lon as dropoff_zip_code_lon\n",
    "  FROM (\n",
    "    SELECT *\n",
    "    FROM `bigquery-public-data.new_york_taxi_trips.tlc_yellow_trips_2015`\n",
    "    WHERE \n",
    "        EXTRACT(MONTH from pickup_datetime) = 1\n",
    "        and pickup_latitude <= 90 and pickup_latitude >= -90\n",
    "        and dropoff_latitude <= 90 and dropoff_latitude >= -90\n",
    "    LIMIT 100000\n",
    "    ) AS nyc_taxi\n",
    "  JOIN (\n",
    "    SELECT zip_code, state_code, state_name, city, county, zip_code_geom, internal_point_lat, internal_point_lon \n",
    "    FROM `bigquery-public-data.geo_us_boundaries.zip_codes`\n",
    "    WHERE state_code='NY'\n",
    "    ) AS pickup \n",
    "  ON ST_CONTAINS(pickup.zip_code_geom, st_geogpoint(pickup_longitude, pickup_latitude))\n",
    "  JOIN (\n",
    "    SELECT zip_code, state_code, state_name, city, county, zip_code_geom, internal_point_lat, internal_point_lon \n",
    "    FROM `bigquery-public-data.geo_us_boundaries.zip_codes`\n",
    "    WHERE state_code='NY' \n",
    "    ) AS dropoff\n",
    "  ON ST_CONTAINS(dropoff.zip_code_geom, st_geogpoint(dropoff_longitude, dropoff_latitude))\n",
    "  \n",
    ")\n",
    "\n",
    "SELECT \n",
    "  CAST(format_datetime('%u', pickup_datetime) AS INT64) -1 AS weekday,\n",
    "  pickup_zip_code,\n",
    "  pickup_zip_code_lat,\n",
    "  pickup_zip_code_lon,\n",
    "  dropoff_zip_code,\n",
    "  dropoff_zip_code_lat,\n",
    "  dropoff_zip_code_lon,\n",
    "  COUNT(*) AS cnt\n",
    "FROM base_data \n",
    "GROUP BY 1,2,3,4,5,6,7\n",
    "\"\"\""
   ]
  },
  {
   "cell_type": "code",
   "execution_count": 62,
   "metadata": {},
   "outputs": [
    {
     "name": "stdout",
     "output_type": "stream",
     "text": [
      "Wall time: 7.41 s\n"
     ]
    }
   ],
   "source": [
    "%%time\n",
    "agg_df2 = pd.read_gbq(query=agg_query2, dialect='standard', project_id='persuasive-zoo-147513', credentials=credentials)"
   ]
  },
  {
   "cell_type": "code",
   "execution_count": 63,
   "metadata": {},
   "outputs": [
    {
     "data": {
      "text/html": [
       "<div>\n",
       "<style scoped>\n",
       "    .dataframe tbody tr th:only-of-type {\n",
       "        vertical-align: middle;\n",
       "    }\n",
       "\n",
       "    .dataframe tbody tr th {\n",
       "        vertical-align: top;\n",
       "    }\n",
       "\n",
       "    .dataframe thead th {\n",
       "        text-align: right;\n",
       "    }\n",
       "</style>\n",
       "<table border=\"1\" class=\"dataframe\">\n",
       "  <thead>\n",
       "    <tr style=\"text-align: right;\">\n",
       "      <th></th>\n",
       "      <th>weekday</th>\n",
       "      <th>pickup_zip_code</th>\n",
       "      <th>pickup_zip_code_lat</th>\n",
       "      <th>pickup_zip_code_lon</th>\n",
       "      <th>dropoff_zip_code</th>\n",
       "      <th>dropoff_zip_code_lat</th>\n",
       "      <th>dropoff_zip_code_lon</th>\n",
       "      <th>cnt</th>\n",
       "    </tr>\n",
       "  </thead>\n",
       "  <tbody>\n",
       "    <tr>\n",
       "      <th>0</th>\n",
       "      <td>4</td>\n",
       "      <td>11214</td>\n",
       "      <td>40.599148</td>\n",
       "      <td>-73.996090</td>\n",
       "      <td>10035</td>\n",
       "      <td>40.795458</td>\n",
       "      <td>-73.929570</td>\n",
       "      <td>1</td>\n",
       "    </tr>\n",
       "    <tr>\n",
       "      <th>1</th>\n",
       "      <td>6</td>\n",
       "      <td>10171</td>\n",
       "      <td>40.755899</td>\n",
       "      <td>-73.973858</td>\n",
       "      <td>11430</td>\n",
       "      <td>40.646809</td>\n",
       "      <td>-73.786169</td>\n",
       "      <td>2</td>\n",
       "    </tr>\n",
       "    <tr>\n",
       "      <th>2</th>\n",
       "      <td>5</td>\n",
       "      <td>10461</td>\n",
       "      <td>40.847394</td>\n",
       "      <td>-73.840583</td>\n",
       "      <td>10475</td>\n",
       "      <td>40.874375</td>\n",
       "      <td>-73.823656</td>\n",
       "      <td>1</td>\n",
       "    </tr>\n",
       "    <tr>\n",
       "      <th>3</th>\n",
       "      <td>0</td>\n",
       "      <td>10172</td>\n",
       "      <td>40.755273</td>\n",
       "      <td>-73.974315</td>\n",
       "      <td>10065</td>\n",
       "      <td>40.764628</td>\n",
       "      <td>-73.963144</td>\n",
       "      <td>1</td>\n",
       "    </tr>\n",
       "    <tr>\n",
       "      <th>4</th>\n",
       "      <td>6</td>\n",
       "      <td>10162</td>\n",
       "      <td>40.769308</td>\n",
       "      <td>-73.949924</td>\n",
       "      <td>11430</td>\n",
       "      <td>40.646809</td>\n",
       "      <td>-73.786169</td>\n",
       "      <td>1</td>\n",
       "    </tr>\n",
       "  </tbody>\n",
       "</table>\n",
       "</div>"
      ],
      "text/plain": [
       "   weekday pickup_zip_code  pickup_zip_code_lat  pickup_zip_code_lon  \\\n",
       "0        4           11214            40.599148           -73.996090   \n",
       "1        6           10171            40.755899           -73.973858   \n",
       "2        5           10461            40.847394           -73.840583   \n",
       "3        0           10172            40.755273           -73.974315   \n",
       "4        6           10162            40.769308           -73.949924   \n",
       "\n",
       "  dropoff_zip_code  dropoff_zip_code_lat  dropoff_zip_code_lon  cnt  \n",
       "0            10035             40.795458            -73.929570    1  \n",
       "1            11430             40.646809            -73.786169    2  \n",
       "2            10475             40.874375            -73.823656    1  \n",
       "3            10065             40.764628            -73.963144    1  \n",
       "4            11430             40.646809            -73.786169    1  "
      ]
     },
     "execution_count": 63,
     "metadata": {},
     "output_type": "execute_result"
    }
   ],
   "source": [
    "agg_df2.head()"
   ]
  },
  {
   "cell_type": "code",
   "execution_count": 64,
   "metadata": {},
   "outputs": [],
   "source": [
    "default_data = agg_df2[agg_df2['weekday'] == 0].to_dict(orient='records')"
   ]
  },
  {
   "cell_type": "code",
   "execution_count": 65,
   "metadata": {},
   "outputs": [
    {
     "data": {
      "application/vnd.jupyter.widget-view+json": {
       "model_id": "0dcc93bc4da3421bbd899d81ef00c890",
       "version_major": 2,
       "version_minor": 0
      },
      "text/plain": [
       "DeckGLWidget(carto_key=None, custom_libraries=[], google_maps_key=None, json_input='{\"initialViewState\": {\"lat…"
      ]
     },
     "metadata": {},
     "output_type": "display_data"
    }
   ],
   "source": [
    "arc_layer = pdk.Layer(\n",
    "    'ArcLayer',\n",
    "    default_data,\n",
    "    get_source_position='[pickup_zip_code_lon, pickup_zip_code_lat]',\n",
    "    get_target_position='[dropoff_zip_code_lon, dropoff_zip_code_lat]',\n",
    "    get_source_color='[255, 255, 120]', \n",
    "    get_target_color='[255, 0, 0]',\n",
    "    width_units='meters',\n",
    "    get_width=\"1+10*cnt/500\",\n",
    "    pickable=True, \n",
    "    auto_highlight=True,\n",
    ")\n",
    "\n",
    "nyc_center = [-73.9808, 40.7648] \n",
    "view_state = pdk.ViewState(longitude=nyc_center[0], latitude=nyc_center[1], zoom=9)\n",
    "\n",
    "r = pdk.Deck(layers=[arc_layer], initial_view_state=view_state,\n",
    "             tooltip={\n",
    "                 'html': '<b>count:</b> {cnt}',\n",
    "                 'style': {\n",
    "                     'color': 'white'\n",
    "                 }\n",
    "             }\n",
    "            )\n",
    "r.show()\n"
   ]
  },
  {
   "cell_type": "code",
   "execution_count": 67,
   "metadata": {},
   "outputs": [
    {
     "data": {
      "application/vnd.jupyter.widget-view+json": {
       "model_id": "3fbbbd2407434c94920407739b94c6fa",
       "version_major": 2,
       "version_minor": 0
      },
      "text/plain": [
       "IntSlider(value=0, max=6)"
      ]
     },
     "metadata": {},
     "output_type": "display_data"
    }
   ],
   "source": [
    "# Widget 슬라이더 생성\n",
    "import ipywidgets as widgets\n",
    "from IPython.display import display\n",
    "slider = widgets.IntSlider(0, min=0, max=6, step=1)\n",
    "\n",
    "# Widget에서 사용할 함수 정의 \n",
    "def on_change(v):\n",
    "    results = agg_df2[agg_df2['weekday'] == slider.value].to_dict(orient='records')\n",
    "    arc_layer.data = results\n",
    "    r.update()\n",
    "\n",
    "# Deck과 슬라이더 연결\n",
    "slider.observe(on_change, names='value')\n",
    "display(slider)"
   ]
  },
  {
   "cell_type": "code",
   "execution_count": null,
   "metadata": {},
   "outputs": [],
   "source": []
  }
 ],
 "metadata": {
  "kernelspec": {
   "display_name": "Python 3 (ipykernel)",
   "language": "python",
   "name": "python3"
  },
  "language_info": {
   "codemirror_mode": {
    "name": "ipython",
    "version": 3
   },
   "file_extension": ".py",
   "mimetype": "text/x-python",
   "name": "python",
   "nbconvert_exporter": "python",
   "pygments_lexer": "ipython3",
   "version": "3.10.9"
  },
  "varInspector": {
   "cols": {
    "lenName": 16,
    "lenType": 16,
    "lenVar": 40
   },
   "kernels_config": {
    "python": {
     "delete_cmd_postfix": "",
     "delete_cmd_prefix": "del ",
     "library": "var_list.py",
     "varRefreshCmd": "print(var_dic_list())"
    },
    "r": {
     "delete_cmd_postfix": ") ",
     "delete_cmd_prefix": "rm(",
     "library": "var_list.r",
     "varRefreshCmd": "cat(var_dic_list()) "
    }
   },
   "types_to_exclude": [
    "module",
    "function",
    "builtin_function_or_method",
    "instance",
    "_Feature"
   ],
   "window_display": false
  }
 },
 "nbformat": 4,
 "nbformat_minor": 4
}
