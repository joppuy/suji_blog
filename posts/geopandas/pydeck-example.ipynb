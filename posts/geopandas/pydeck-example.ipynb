{
 "cells": [
  {
   "attachments": {},
   "cell_type": "markdown",
   "metadata": {},
   "source": [
    "### Install"
   ]
  },
  {
   "attachments": {},
   "cell_type": "markdown",
   "metadata": {},
   "source": [
    "pydeck 설치 가이드 - https://deckgl.readthedocs.io/en/latest/installation.html  \n",
    "강의자료 출처 - https://zzsza.github.io/data/2019/11/24/pydeck/"
   ]
  },
  {
   "cell_type": "raw",
   "metadata": {},
   "source": [
    "!pip install pydeck"
   ]
  },
  {
   "cell_type": "code",
   "execution_count": 1,
   "metadata": {},
   "outputs": [
    {
     "name": "stderr",
     "output_type": "stream",
     "text": [
      "Installing C:\\Users\\joppu\\ana\\lib\\site-packages\\pydeck\\nbextension/static -> pydeck\n",
      "Symlinking: C:\\Users\\joppu\\ana\\share\\jupyter\\nbextensions\\pydeck -> C:\\Users\\joppu\\ana\\lib\\site-packages\\pydeck\\nbextension\\static\n",
      "- Validating: problems found:\n",
      "   X  require: C:\\Users\\joppu\\ana\\share\\jupyter\\nbextensions\\pydeck/extensionRequires.js\n",
      "  ok section: notebook\n",
      "Full spec: {'section': 'notebook', 'src': 'nbextension/static', 'dest': 'pydeck', 'require': 'pydeck/extensionRequires'}\n",
      "\n",
      "    To initialize this nbextension in the browser every time the notebook (or other app) loads:\n",
      "    \n",
      "          jupyter nbextension enable pydeck --py --sys-prefix\n",
      "    \n",
      "Enabling notebook extension pydeck/extensionRequires...\n",
      "      - Validating: problems found:\n",
      "        - require?  X pydeck/extensionRequires\n"
     ]
    }
   ],
   "source": [
    "!jupyter nbextension install --sys-prefix --symlink --overwrite --py pydeck\n",
    "!jupyter nbextension enable --sys-prefix --py pydeck"
   ]
  },
  {
   "cell_type": "code",
   "execution_count": 2,
   "metadata": {},
   "outputs": [],
   "source": [
    "# MAPBOX_API_KEY=\"pk.eyJ1Ijoic3BlYXI1MzA2IiwiYSI6ImNremN5Z2FrOTI0ZGgycm45Mzh3dDV6OWQifQ.kXGWHPRjnVAEHgVgLzXn2g\""
   ]
  },
  {
   "attachments": {},
   "cell_type": "markdown",
   "metadata": {},
   "source": [
    "### 공식 홈페이지 예시"
   ]
  },
  {
   "cell_type": "code",
   "execution_count": 3,
   "metadata": {},
   "outputs": [
    {
     "data": {
      "text/html": [
       "<div>\n",
       "<style scoped>\n",
       "    .dataframe tbody tr th:only-of-type {\n",
       "        vertical-align: middle;\n",
       "    }\n",
       "\n",
       "    .dataframe tbody tr th {\n",
       "        vertical-align: top;\n",
       "    }\n",
       "\n",
       "    .dataframe thead th {\n",
       "        text-align: right;\n",
       "    }\n",
       "</style>\n",
       "<table border=\"1\" class=\"dataframe\">\n",
       "  <thead>\n",
       "    <tr style=\"text-align: right;\">\n",
       "      <th></th>\n",
       "      <th>lng</th>\n",
       "      <th>lat</th>\n",
       "    </tr>\n",
       "  </thead>\n",
       "  <tbody>\n",
       "    <tr>\n",
       "      <th>0</th>\n",
       "      <td>-0.198465</td>\n",
       "      <td>51.505538</td>\n",
       "    </tr>\n",
       "    <tr>\n",
       "      <th>1</th>\n",
       "      <td>-0.178838</td>\n",
       "      <td>51.491836</td>\n",
       "    </tr>\n",
       "    <tr>\n",
       "      <th>2</th>\n",
       "      <td>-0.205590</td>\n",
       "      <td>51.514910</td>\n",
       "    </tr>\n",
       "    <tr>\n",
       "      <th>3</th>\n",
       "      <td>-0.208327</td>\n",
       "      <td>51.514952</td>\n",
       "    </tr>\n",
       "    <tr>\n",
       "      <th>4</th>\n",
       "      <td>-0.206022</td>\n",
       "      <td>51.496572</td>\n",
       "    </tr>\n",
       "  </tbody>\n",
       "</table>\n",
       "</div>"
      ],
      "text/plain": [
       "        lng        lat\n",
       "0 -0.198465  51.505538\n",
       "1 -0.178838  51.491836\n",
       "2 -0.205590  51.514910\n",
       "3 -0.208327  51.514952\n",
       "4 -0.206022  51.496572"
      ]
     },
     "execution_count": 3,
     "metadata": {},
     "output_type": "execute_result"
    }
   ],
   "source": [
    "import pandas as pd\n",
    "import pydeck\n",
    "\n",
    "UK_ACCIDENTS_DATA = 'https://raw.githubusercontent.com/uber-common/deck.gl-data/master/examples/3d-heatmap/heatmap-data.csv'\n",
    "\n",
    "pd.read_csv(UK_ACCIDENTS_DATA).head()\n",
    "#아래의 데이터는 포인트 데이터 라고한다."
   ]
  },
  {
   "cell_type": "code",
   "execution_count": 4,
   "metadata": {},
   "outputs": [
    {
     "data": {
      "text/plain": [
       "'https://raw.githubusercontent.com/uber-common/deck.gl-data/master/examples/3d-heatmap/heatmap-data.csv'"
      ]
     },
     "execution_count": 4,
     "metadata": {},
     "output_type": "execute_result"
    }
   ],
   "source": [
    "UK_ACCIDENTS_DATA"
   ]
  },
  {
   "cell_type": "code",
   "execution_count": 5,
   "metadata": {},
   "outputs": [
    {
     "data": {
      "application/vnd.jupyter.widget-view+json": {
       "model_id": "0e92137fba0140c696494170c3e125c1",
       "version_major": 2,
       "version_minor": 0
      },
      "text/plain": [
       "DeckGLWidget(carto_key=None, custom_libraries=[], google_maps_key=None, json_input='{\\n  \"initialViewState\": {…"
      ]
     },
     "metadata": {},
     "output_type": "display_data"
    }
   ],
   "source": [
    "## 영국의 교통사고의 위치를 나타내줌  ## 시각화는 poligon 데이터로 맵핑이 됨 \n",
    "layer = pydeck.Layer(\n",
    "    'HexagonLayer',  # HexagonLayer를 생성하는 레이어 타입\n",
    "    UK_ACCIDENTS_DATA,  # 교통사고 데이터\n",
    "    get_position='[lng,lat]',  # 위치 정보를 가져오는 열 지정\n",
    "    auto_highlight=True,  # 마우스 오버시 자동으로 강조 표시 활성화\n",
    "    elevation_scale=50,  # 육각형의 높이 스케일\n",
    "    pickable=True,  # 육각형 선택 가능\n",
    "    elevation_range=[0, 3000],  # 육각형의 높이 범위\n",
    "    extruded=True,  # 입체적으로 육각형 표현\n",
    "    coverage=0.3)  # 육각형의 범위 조정\n",
    "\n",
    "view_state = pydeck.ViewState(\n",
    "    longitude=-1.415,  # 초기 중심 위치의 경도\n",
    "    latitude=52.2323,  # 초기 중심 위치의 위도\n",
    "    zoom=6,  # 초기 줌 레벨\n",
    "    min_zoom=5,  # 최소 줌 레벨\n",
    "    max_zoom=15,  # 최대 줌 레벨\n",
    "    pitch=40.5,  # 뷰포트의 기울기\n",
    "    bearing=-27.36)  # 뷰포트의 방향\n",
    "\n",
    "r = pydeck.Deck(layers=[layer], initial_view_state=view_state)  # 레이어와 뷰포트 설정으로 Deck 생성\n",
    "r.show()  # 맵을 보여줌\n",
    "# r.to_html('demo.html')  # 맵을 HTML 파일로 내보냄 (현재 주석 처리되어 있음)\n",
    "\n",
    "##텍사곤 자체를 크게 키우는 방법을 알고싶다.HexagonLayer의 크기를 높이는 방법"
   ]
  },
  {
   "cell_type": "code",
   "execution_count": 6,
   "metadata": {},
   "outputs": [],
   "source": [
    "layer.elevation_range = [0, 500]\n",
    "\n",
    "r.update()"
   ]
  },
  {
   "cell_type": "code",
   "execution_count": 7,
   "metadata": {},
   "outputs": [],
   "source": [
    "import pydeck as pdk"
   ]
  },
  {
   "cell_type": "code",
   "execution_count": 8,
   "metadata": {},
   "outputs": [
    {
     "name": "stdout",
     "output_type": "stream",
     "text": [
      "\u001b[1;31mInit signature:\u001b[0m\n",
      "\u001b[0mpdk\u001b[0m\u001b[1;33m.\u001b[0m\u001b[0mDeck\u001b[0m\u001b[1;33m(\u001b[0m\u001b[1;33m\n",
      "\u001b[0m    \u001b[0mlayers\u001b[0m\u001b[1;33m=\u001b[0m\u001b[1;32mNone\u001b[0m\u001b[1;33m,\u001b[0m\u001b[1;33m\n",
      "\u001b[0m    \u001b[0mviews\u001b[0m\u001b[1;33m=\u001b[0m\u001b[1;33m[\u001b[0m\u001b[1;33m{\u001b[0m\u001b[1;33m\n",
      "\u001b[0m  \u001b[1;34m\"@@type\"\u001b[0m\u001b[1;33m:\u001b[0m \u001b[1;34m\"MapView\"\u001b[0m\u001b[1;33m,\u001b[0m\u001b[1;33m\n",
      "\u001b[0m  \u001b[1;34m\"controller\"\u001b[0m\u001b[1;33m:\u001b[0m \u001b[0mtrue\u001b[0m\u001b[1;33m\n",
      "\u001b[0m\u001b[1;33m}\u001b[0m\u001b[1;33m]\u001b[0m\u001b[1;33m,\u001b[0m\u001b[1;33m\n",
      "\u001b[0m    \u001b[0mmap_style\u001b[0m\u001b[1;33m=\u001b[0m\u001b[1;34m'dark'\u001b[0m\u001b[1;33m,\u001b[0m\u001b[1;33m\n",
      "\u001b[0m    \u001b[0mapi_keys\u001b[0m\u001b[1;33m=\u001b[0m\u001b[1;32mNone\u001b[0m\u001b[1;33m,\u001b[0m\u001b[1;33m\n",
      "\u001b[0m    \u001b[0minitial_view_state\u001b[0m\u001b[1;33m=\u001b[0m\u001b[1;33m{\u001b[0m\u001b[1;33m\n",
      "\u001b[0m  \u001b[1;34m\"latitude\"\u001b[0m\u001b[1;33m:\u001b[0m \u001b[1;36m0\u001b[0m\u001b[1;33m,\u001b[0m\u001b[1;33m\n",
      "\u001b[0m  \u001b[1;34m\"longitude\"\u001b[0m\u001b[1;33m:\u001b[0m \u001b[1;36m0\u001b[0m\u001b[1;33m,\u001b[0m\u001b[1;33m\n",
      "\u001b[0m  \u001b[1;34m\"zoom\"\u001b[0m\u001b[1;33m:\u001b[0m \u001b[1;36m1\u001b[0m\u001b[1;33m\n",
      "\u001b[0m\u001b[1;33m}\u001b[0m\u001b[1;33m,\u001b[0m\u001b[1;33m\n",
      "\u001b[0m    \u001b[0mwidth\u001b[0m\u001b[1;33m=\u001b[0m\u001b[1;34m'100%'\u001b[0m\u001b[1;33m,\u001b[0m\u001b[1;33m\n",
      "\u001b[0m    \u001b[0mheight\u001b[0m\u001b[1;33m=\u001b[0m\u001b[1;36m500\u001b[0m\u001b[1;33m,\u001b[0m\u001b[1;33m\n",
      "\u001b[0m    \u001b[0mtooltip\u001b[0m\u001b[1;33m=\u001b[0m\u001b[1;32mTrue\u001b[0m\u001b[1;33m,\u001b[0m\u001b[1;33m\n",
      "\u001b[0m    \u001b[0mdescription\u001b[0m\u001b[1;33m=\u001b[0m\u001b[1;32mNone\u001b[0m\u001b[1;33m,\u001b[0m\u001b[1;33m\n",
      "\u001b[0m    \u001b[0meffects\u001b[0m\u001b[1;33m=\u001b[0m\u001b[1;32mNone\u001b[0m\u001b[1;33m,\u001b[0m\u001b[1;33m\n",
      "\u001b[0m    \u001b[0mmap_provider\u001b[0m\u001b[1;33m=\u001b[0m\u001b[1;34m'carto'\u001b[0m\u001b[1;33m,\u001b[0m\u001b[1;33m\n",
      "\u001b[0m    \u001b[0mparameters\u001b[0m\u001b[1;33m=\u001b[0m\u001b[1;32mNone\u001b[0m\u001b[1;33m,\u001b[0m\u001b[1;33m\n",
      "\u001b[0m\u001b[1;33m)\u001b[0m\u001b[1;33m\u001b[0m\u001b[1;33m\u001b[0m\u001b[0m\n",
      "\u001b[1;31mDocstring:\u001b[0m      <no docstring>\n",
      "\u001b[1;31mInit docstring:\u001b[0m\n",
      "This is the renderer and configuration for a deck.gl visualization, similar to the\n",
      "`Deck <https://deck.gl/docs/api-reference/core/deck>`_ class from deck.gl.\n",
      "Pass `Deck` a Mapbox API token to display a basemap; see the notes below.\n",
      "\n",
      "Parameters\n",
      "----------\n",
      "\n",
      "layers : pydeck.Layer or list of pydeck.Layer, default None\n",
      "    List of :class:`pydeck.bindings.layer.Layer` layers to render.\n",
      "views : list of pydeck.View, default ``[pydeck.View(type=\"MapView\", controller=True)]``\n",
      "    List of :class:`pydeck.bindings.view.View` objects to render.\n",
      "api_keys : dict, default None\n",
      "    Dictionary of geospatial API service providers, where the keys are ``mapbox``, ``google_maps``, or ``carto``\n",
      "    and the values are the API key. Defaults to None if not set. Any of the environment variables\n",
      "    ``MAPBOX_API_KEY``, ``GOOGLE_MAPS_API_KEY``, and ``CARTO_API_KEY`` can be set instead of hardcoding the key here.\n",
      "map_provider : str, default 'carto'\n",
      "    If multiple API keys are set (e.g., both Mapbox and Google Maps), inform pydeck which basemap provider to prefer.\n",
      "    Values can be ``carto``, ``mapbox`` or ``google_maps``\n",
      "map_style : str or dict, default 'dark'\n",
      "    One of 'light', 'dark', 'road', 'satellite', 'dark_no_labels', and 'light_no_labels', a URI for a basemap\n",
      "    style, which varies by provider, or a dict that follows the Mapbox style `specification <https://docs.mapbox.com/mapbox-gl-js/style-spec/>`.\n",
      "    The default is Carto's Dark Matter map. For Mapbox examples, see  Mapbox's `gallery <https://www.mapbox.com/gallery/>`.\n",
      "    If not using a basemap, set ``map_provider=None``.\n",
      "initial_view_state : pydeck.ViewState, default ``pydeck.ViewState(latitude=0, longitude=0, zoom=1)``\n",
      "    Initial camera angle relative to the map, defaults to a fully zoomed out 0, 0-centered map\n",
      "    To compute a viewport from data, see :func:`pydeck.data_utils.viewport_helpers.compute_view`\n",
      "height : int, default 500\n",
      "    Height of Jupyter notebook cell, in pixels.\n",
      "width : int` or string, default '100%'\n",
      "    Width of visualization, in pixels (if a number) or as a CSS value string.\n",
      "tooltip : bool or dict of {str: str}, default True\n",
      "    If ``True``/``False``, toggles a default tooltip on visualization hover.\n",
      "    Layers must have ``pickable=True`` set in order to display a tooltip.\n",
      "    For more advanced usage, the user can pass a dict to configure more custom tooltip features.\n",
      "    Further documentation is `here <tooltip.html>`_.\n",
      "\n",
      ".. _Deck:\n",
      "    https://deck.gl/docs/api-reference/core/deck\n",
      ".. _gallery:\n",
      "    https://www.mapbox.com/gallery/\n",
      "\u001b[1;31mFile:\u001b[0m           c:\\users\\joppu\\ana\\lib\\site-packages\\pydeck\\bindings\\deck.py\n",
      "\u001b[1;31mType:\u001b[0m           type\n",
      "\u001b[1;31mSubclasses:\u001b[0m     "
     ]
    }
   ],
   "source": [
    "pdk.Deck?"
   ]
  },
  {
   "attachments": {},
   "cell_type": "markdown",
   "metadata": {},
   "source": [
    "### Scatter Plots"
   ]
  },
  {
   "cell_type": "code",
   "execution_count": 9,
   "metadata": {},
   "outputs": [
    {
     "data": {
      "text/html": [
       "<div>\n",
       "<style scoped>\n",
       "    .dataframe tbody tr th:only-of-type {\n",
       "        vertical-align: middle;\n",
       "    }\n",
       "\n",
       "    .dataframe tbody tr th {\n",
       "        vertical-align: top;\n",
       "    }\n",
       "\n",
       "    .dataframe thead th {\n",
       "        text-align: right;\n",
       "    }\n",
       "</style>\n",
       "<table border=\"1\" class=\"dataframe\">\n",
       "  <thead>\n",
       "    <tr style=\"text-align: right;\">\n",
       "      <th></th>\n",
       "      <th>lat</th>\n",
       "      <th>lng</th>\n",
       "      <th>osm_id</th>\n",
       "      <th>station_name</th>\n",
       "      <th>chinese_name</th>\n",
       "      <th>opening_date</th>\n",
       "      <th>color</th>\n",
       "      <th>line_name</th>\n",
       "    </tr>\n",
       "  </thead>\n",
       "  <tbody>\n",
       "    <tr>\n",
       "      <th>0</th>\n",
       "      <td>39.940249</td>\n",
       "      <td>116.456359</td>\n",
       "      <td>1351272524</td>\n",
       "      <td>Agricultural Exhibition Center</td>\n",
       "      <td>农业展览馆</td>\n",
       "      <td>2008-07-19</td>\n",
       "      <td>[0, 146, 188, 255]</td>\n",
       "      <td>Line 10</td>\n",
       "    </tr>\n",
       "    <tr>\n",
       "      <th>1</th>\n",
       "      <td>39.955570</td>\n",
       "      <td>116.388507</td>\n",
       "      <td>5057476994</td>\n",
       "      <td>Andelibeijie</td>\n",
       "      <td>安德里北街</td>\n",
       "      <td>2015-12-26</td>\n",
       "      <td>[0, 155, 119, 255]</td>\n",
       "      <td>Line 8 (North section)</td>\n",
       "    </tr>\n",
       "    <tr>\n",
       "      <th>2</th>\n",
       "      <td>39.947729</td>\n",
       "      <td>116.402067</td>\n",
       "      <td>339088654</td>\n",
       "      <td>Andingmen</td>\n",
       "      <td>安定门</td>\n",
       "      <td>1984-09-20</td>\n",
       "      <td>[0, 75, 135, 255]</td>\n",
       "      <td>Line 2</td>\n",
       "    </tr>\n",
       "    <tr>\n",
       "      <th>3</th>\n",
       "      <td>40.011026</td>\n",
       "      <td>116.263981</td>\n",
       "      <td>1362259113</td>\n",
       "      <td>Anheqiao North</td>\n",
       "      <td>安河桥北</td>\n",
       "      <td>2009-09-28</td>\n",
       "      <td>[0, 140, 149, 255]</td>\n",
       "      <td>Line 4</td>\n",
       "    </tr>\n",
       "    <tr>\n",
       "      <th>4</th>\n",
       "      <td>39.967112</td>\n",
       "      <td>116.388398</td>\n",
       "      <td>5305505996</td>\n",
       "      <td>Anhuaqiao</td>\n",
       "      <td>安华桥</td>\n",
       "      <td>2012-12-30</td>\n",
       "      <td>[0, 155, 119, 255]</td>\n",
       "      <td>Line 8 (North section)</td>\n",
       "    </tr>\n",
       "  </tbody>\n",
       "</table>\n",
       "</div>"
      ],
      "text/plain": [
       "         lat         lng      osm_id                    station_name  \\\n",
       "0  39.940249  116.456359  1351272524  Agricultural Exhibition Center   \n",
       "1  39.955570  116.388507  5057476994                    Andelibeijie   \n",
       "2  39.947729  116.402067   339088654                       Andingmen   \n",
       "3  40.011026  116.263981  1362259113                  Anheqiao North   \n",
       "4  39.967112  116.388398  5305505996                       Anhuaqiao   \n",
       "\n",
       "  chinese_name opening_date               color               line_name  \n",
       "0        农业展览馆   2008-07-19  [0, 146, 188, 255]                 Line 10  \n",
       "1        安德里北街   2015-12-26  [0, 155, 119, 255]  Line 8 (North section)  \n",
       "2          安定门   1984-09-20   [0, 75, 135, 255]                  Line 2  \n",
       "3         安河桥北   2009-09-28  [0, 140, 149, 255]                  Line 4  \n",
       "4          安华桥   2012-12-30  [0, 155, 119, 255]  Line 8 (North section)  "
      ]
     },
     "execution_count": 9,
     "metadata": {},
     "output_type": "execute_result"
    }
   ],
   "source": [
    "import pandas as pd\n",
    "from pydeck import (\n",
    "    data_utils,\n",
    "    Deck,\n",
    "    Layer\n",
    ")\n",
    "\n",
    "# First, let's use Pandas to download our data\n",
    "URL = 'https://raw.githubusercontent.com/ajduberstein/data_sets/master/beijing_subway_station.csv'\n",
    "df = pd.read_csv(URL)\n",
    "df.head()\n",
    "# 위경도가 존재\n",
    "#컬러[rbg맨뒤에는 투명도를 나타낸다.]"
   ]
  },
  {
   "cell_type": "code",
   "execution_count": 10,
   "metadata": {},
   "outputs": [],
   "source": [
    "from ast import literal_eval  #텍스트를 리스트 형식으로 바꾸기\n",
    "# We have to re-code position to be one field in a list, so we'll do that here:\n",
    "# The CSV encodes the [R, G, B, A] color values listed in it as a string\n",
    "df['color'] = df.apply(lambda x: literal_eval(x['color']), axis=1)"
   ]
  },
  {
   "cell_type": "code",
   "execution_count": 11,
   "metadata": {},
   "outputs": [
    {
     "ename": "AttributeError",
     "evalue": "'list' object has no attribute 'strip'",
     "output_type": "error",
     "traceback": [
      "\u001b[1;31m---------------------------------------------------------------------------\u001b[0m",
      "\u001b[1;31mAttributeError\u001b[0m                            Traceback (most recent call last)",
      "Cell \u001b[1;32mIn[11], line 8\u001b[0m\n\u001b[0;32m      5\u001b[0m     color_values \u001b[39m=\u001b[39m [\u001b[39mint\u001b[39m(value) \u001b[39mfor\u001b[39;00m value \u001b[39min\u001b[39;00m color_list]\n\u001b[0;32m      6\u001b[0m     \u001b[39mreturn\u001b[39;00m color_values\n\u001b[1;32m----> 8\u001b[0m df[\u001b[39m'\u001b[39m\u001b[39mcolor\u001b[39m\u001b[39m'\u001b[39m] \u001b[39m=\u001b[39m df[\u001b[39m'\u001b[39;49m\u001b[39mcolor\u001b[39;49m\u001b[39m'\u001b[39;49m]\u001b[39m.\u001b[39;49mapply(parse_color_string)\n",
      "File \u001b[1;32mc:\\Users\\joppu\\ana\\lib\\site-packages\\pandas\\core\\series.py:4771\u001b[0m, in \u001b[0;36mSeries.apply\u001b[1;34m(self, func, convert_dtype, args, **kwargs)\u001b[0m\n\u001b[0;32m   4661\u001b[0m \u001b[39mdef\u001b[39;00m \u001b[39mapply\u001b[39m(\n\u001b[0;32m   4662\u001b[0m     \u001b[39mself\u001b[39m,\n\u001b[0;32m   4663\u001b[0m     func: AggFuncType,\n\u001b[1;32m   (...)\u001b[0m\n\u001b[0;32m   4666\u001b[0m     \u001b[39m*\u001b[39m\u001b[39m*\u001b[39mkwargs,\n\u001b[0;32m   4667\u001b[0m ) \u001b[39m-\u001b[39m\u001b[39m>\u001b[39m DataFrame \u001b[39m|\u001b[39m Series:\n\u001b[0;32m   4668\u001b[0m     \u001b[39m\"\"\"\u001b[39;00m\n\u001b[0;32m   4669\u001b[0m \u001b[39m    Invoke function on values of Series.\u001b[39;00m\n\u001b[0;32m   4670\u001b[0m \n\u001b[1;32m   (...)\u001b[0m\n\u001b[0;32m   4769\u001b[0m \u001b[39m    dtype: float64\u001b[39;00m\n\u001b[0;32m   4770\u001b[0m \u001b[39m    \"\"\"\u001b[39;00m\n\u001b[1;32m-> 4771\u001b[0m     \u001b[39mreturn\u001b[39;00m SeriesApply(\u001b[39mself\u001b[39;49m, func, convert_dtype, args, kwargs)\u001b[39m.\u001b[39;49mapply()\n",
      "File \u001b[1;32mc:\\Users\\joppu\\ana\\lib\\site-packages\\pandas\\core\\apply.py:1123\u001b[0m, in \u001b[0;36mSeriesApply.apply\u001b[1;34m(self)\u001b[0m\n\u001b[0;32m   1120\u001b[0m     \u001b[39mreturn\u001b[39;00m \u001b[39mself\u001b[39m\u001b[39m.\u001b[39mapply_str()\n\u001b[0;32m   1122\u001b[0m \u001b[39m# self.f is Callable\u001b[39;00m\n\u001b[1;32m-> 1123\u001b[0m \u001b[39mreturn\u001b[39;00m \u001b[39mself\u001b[39;49m\u001b[39m.\u001b[39;49mapply_standard()\n",
      "File \u001b[1;32mc:\\Users\\joppu\\ana\\lib\\site-packages\\pandas\\core\\apply.py:1174\u001b[0m, in \u001b[0;36mSeriesApply.apply_standard\u001b[1;34m(self)\u001b[0m\n\u001b[0;32m   1172\u001b[0m     \u001b[39melse\u001b[39;00m:\n\u001b[0;32m   1173\u001b[0m         values \u001b[39m=\u001b[39m obj\u001b[39m.\u001b[39mastype(\u001b[39mobject\u001b[39m)\u001b[39m.\u001b[39m_values\n\u001b[1;32m-> 1174\u001b[0m         mapped \u001b[39m=\u001b[39m lib\u001b[39m.\u001b[39;49mmap_infer(\n\u001b[0;32m   1175\u001b[0m             values,\n\u001b[0;32m   1176\u001b[0m             f,\n\u001b[0;32m   1177\u001b[0m             convert\u001b[39m=\u001b[39;49m\u001b[39mself\u001b[39;49m\u001b[39m.\u001b[39;49mconvert_dtype,\n\u001b[0;32m   1178\u001b[0m         )\n\u001b[0;32m   1180\u001b[0m \u001b[39mif\u001b[39;00m \u001b[39mlen\u001b[39m(mapped) \u001b[39mand\u001b[39;00m \u001b[39misinstance\u001b[39m(mapped[\u001b[39m0\u001b[39m], ABCSeries):\n\u001b[0;32m   1181\u001b[0m     \u001b[39m# GH#43986 Need to do list(mapped) in order to get treated as nested\u001b[39;00m\n\u001b[0;32m   1182\u001b[0m     \u001b[39m#  See also GH#25959 regarding EA support\u001b[39;00m\n\u001b[0;32m   1183\u001b[0m     \u001b[39mreturn\u001b[39;00m obj\u001b[39m.\u001b[39m_constructor_expanddim(\u001b[39mlist\u001b[39m(mapped), index\u001b[39m=\u001b[39mobj\u001b[39m.\u001b[39mindex)\n",
      "File \u001b[1;32mc:\\Users\\joppu\\ana\\lib\\site-packages\\pandas\\_libs\\lib.pyx:2924\u001b[0m, in \u001b[0;36mpandas._libs.lib.map_infer\u001b[1;34m()\u001b[0m\n",
      "Cell \u001b[1;32mIn[11], line 4\u001b[0m, in \u001b[0;36mparse_color_string\u001b[1;34m(color_string)\u001b[0m\n\u001b[0;32m      3\u001b[0m \u001b[39mdef\u001b[39;00m \u001b[39mparse_color_string\u001b[39m(color_string):\n\u001b[1;32m----> 4\u001b[0m     color_list \u001b[39m=\u001b[39m color_string\u001b[39m.\u001b[39;49mstrip(\u001b[39m'\u001b[39m\u001b[39m][\u001b[39m\u001b[39m'\u001b[39m)\u001b[39m.\u001b[39msplit(\u001b[39m'\u001b[39m\u001b[39m, \u001b[39m\u001b[39m'\u001b[39m)\n\u001b[0;32m      5\u001b[0m     color_values \u001b[39m=\u001b[39m [\u001b[39mint\u001b[39m(value) \u001b[39mfor\u001b[39;00m value \u001b[39min\u001b[39;00m color_list]\n\u001b[0;32m      6\u001b[0m     \u001b[39mreturn\u001b[39;00m color_values\n",
      "\u001b[1;31mAttributeError\u001b[0m: 'list' object has no attribute 'strip'"
     ]
    }
   ],
   "source": [
    "import ast\n",
    "\n",
    "def parse_color_string(color_string):\n",
    "    color_list = color_string.strip('][').split(', ')\n",
    "    color_values = [int(value) for value in color_list]\n",
    "    return color_values\n",
    "\n",
    "df['color'] = df['color'].apply(parse_color_string)\n"
   ]
  },
  {
   "cell_type": "code",
   "execution_count": 14,
   "metadata": {},
   "outputs": [
    {
     "data": {
      "text/html": [
       "<div>\n",
       "<style scoped>\n",
       "    .dataframe tbody tr th:only-of-type {\n",
       "        vertical-align: middle;\n",
       "    }\n",
       "\n",
       "    .dataframe tbody tr th {\n",
       "        vertical-align: top;\n",
       "    }\n",
       "\n",
       "    .dataframe thead th {\n",
       "        text-align: right;\n",
       "    }\n",
       "</style>\n",
       "<table border=\"1\" class=\"dataframe\">\n",
       "  <thead>\n",
       "    <tr style=\"text-align: right;\">\n",
       "      <th></th>\n",
       "      <th>year</th>\n",
       "      <th>lng</th>\n",
       "      <th>lat</th>\n",
       "      <th>brightness</th>\n",
       "      <th>color</th>\n",
       "    </tr>\n",
       "  </thead>\n",
       "  <tbody>\n",
       "    <tr>\n",
       "      <th>0</th>\n",
       "      <td>1993</td>\n",
       "      <td>104.575</td>\n",
       "      <td>31.808</td>\n",
       "      <td>4</td>\n",
       "      <td>[255, 16, 255, 255]</td>\n",
       "    </tr>\n",
       "    <tr>\n",
       "      <th>1</th>\n",
       "      <td>1993</td>\n",
       "      <td>104.583</td>\n",
       "      <td>31.808</td>\n",
       "      <td>4</td>\n",
       "      <td>[255, 16, 255, 255]</td>\n",
       "    </tr>\n",
       "    <tr>\n",
       "      <th>2</th>\n",
       "      <td>1993</td>\n",
       "      <td>104.592</td>\n",
       "      <td>31.808</td>\n",
       "      <td>4</td>\n",
       "      <td>[255, 16, 255, 255]</td>\n",
       "    </tr>\n",
       "    <tr>\n",
       "      <th>3</th>\n",
       "      <td>1993</td>\n",
       "      <td>104.600</td>\n",
       "      <td>31.808</td>\n",
       "      <td>4</td>\n",
       "      <td>[255, 16, 255, 255]</td>\n",
       "    </tr>\n",
       "    <tr>\n",
       "      <th>4</th>\n",
       "      <td>1993</td>\n",
       "      <td>104.675</td>\n",
       "      <td>31.808</td>\n",
       "      <td>4</td>\n",
       "      <td>[255, 16, 255, 255]</td>\n",
       "    </tr>\n",
       "  </tbody>\n",
       "</table>\n",
       "</div>"
      ],
      "text/plain": [
       "   year      lng     lat  brightness                color\n",
       "0  1993  104.575  31.808           4  [255, 16, 255, 255]\n",
       "1  1993  104.583  31.808           4  [255, 16, 255, 255]\n",
       "2  1993  104.592  31.808           4  [255, 16, 255, 255]\n",
       "3  1993  104.600  31.808           4  [255, 16, 255, 255]\n",
       "4  1993  104.675  31.808           4  [255, 16, 255, 255]"
      ]
     },
     "execution_count": 14,
     "metadata": {},
     "output_type": "execute_result"
    }
   ],
   "source": [
    "df.head()"
   ]
  },
  {
   "cell_type": "code",
   "execution_count": 15,
   "metadata": {},
   "outputs": [
    {
     "data": {
      "application/vnd.jupyter.widget-view+json": {
       "model_id": "a55c669f80ab4c9bae1cc6e925111b63",
       "version_major": 2,
       "version_minor": 0
      },
      "text/plain": [
       "DeckGLWidget(carto_key=None, custom_libraries=[], google_maps_key=None, json_input='{\\n  \"initialViewState\": {…"
      ]
     },
     "metadata": {},
     "output_type": "display_data"
    }
   ],
   "source": [
    "# Use pydeck's data_utils module to fit a viewport to the central 90% of the data\n",
    "viewport = data_utils.compute_view(points=df[['lng', 'lat']], view_proportion=0.9)\n",
    "auto_zoom_map = Deck(layers=None, initial_view_state=viewport)\n",
    "auto_zoom_map.show()\n",
    "\n",
    "# auto_zoom_map.to_html('demo.html')"
   ]
  },
  {
   "cell_type": "code",
   "execution_count": 16,
   "metadata": {},
   "outputs": [
    {
     "name": "stderr",
     "output_type": "stream",
     "text": [
      "C:\\Users\\joppu\\AppData\\Local\\Temp\\ipykernel_4324\\1358459236.py:1: DeprecationWarning: Importing display from IPython.core.display is deprecated since IPython 7.14, please import from IPython display\n",
      "  from IPython.core.display import display\n"
     ]
    },
    {
     "data": {
      "application/vnd.jupyter.widget-view+json": {
       "model_id": "edb67f57488845bc801abaf6ed9fb908",
       "version_major": 2,
       "version_minor": 0
      },
      "text/plain": [
       "HTML(value='<h1>2019</h1>')"
      ]
     },
     "metadata": {},
     "output_type": "display_data"
    },
    {
     "data": {
      "application/vnd.jupyter.widget-view+json": {
       "model_id": "0769282d330e425389ef3ab4dd4b3838",
       "version_major": 2,
       "version_minor": 0
      },
      "text/plain": [
       "DeckGLWidget(carto_key=None, custom_libraries=[], google_maps_key=None, json_input='{\\n  \"initialViewState\": {…"
      ]
     },
     "metadata": {},
     "output_type": "display_data"
    }
   ],
   "source": [
    "from IPython.core.display import display\n",
    "import ipywidgets\n",
    "\n",
    "year = 2019\n",
    "\n",
    "scatterplot = Layer(\n",
    "    'ScatterplotLayer',\n",
    "    df,\n",
    "    id='scatterplot-layer',\n",
    "    get_radius=500,\n",
    "    get_fill_color='color',\n",
    "    get_position='[lng, lat]')\n",
    "r = Deck(layers=[scatterplot], initial_view_state=viewport)\n",
    "\n",
    "# Create an HTML header to display the year\n",
    "display_el = ipywidgets.HTML('<h1>{}</h1>'.format(year))\n",
    "display(display_el)\n",
    "# Show the current visualization\n",
    "r.show()\n",
    "# r.to_html('demo.html')"
   ]
  },
  {
   "cell_type": "code",
   "execution_count": null,
   "metadata": {},
   "outputs": [],
   "source": [
    "import time\n",
    "for y in range(1971, 2020):\n",
    "    scatterplot.data = df[df['opening_date'] <= str(y)]\n",
    "    year = y\n",
    "    # Reset the header to display the year\n",
    "    display_el.value = '<h1>{}</h1>'.format(year)\n",
    "    r.update()\n",
    "    time.sleep(0.1)"
   ]
  },
  {
   "attachments": {},
   "cell_type": "markdown",
   "metadata": {},
   "source": [
    "### Using pydeck to manipulate data"
   ]
  },
  {
   "cell_type": "code",
   "execution_count": null,
   "metadata": {},
   "outputs": [],
   "source": [
    "import pydeck as pdk\n",
    "\n",
    "DATA_URL = 'https://api.data.gov.sg/v1/transport/taxi-availability'\n",
    "COLOR_RANGE = [\n",
    "  [255, 255, 178, 25],\n",
    "  [254, 217, 118, 85],\n",
    "  [254, 178, 76, 127],\n",
    "  [253, 141, 60, 170],\n",
    "  [240, 59, 32, 212],\n",
    "  [189, 0, 38, 255]\n",
    "]"
   ]
  },
  {
   "cell_type": "code",
   "execution_count": null,
   "metadata": {},
   "outputs": [],
   "source": [
    "import pandas as pd\n",
    "import requests\n",
    "\n",
    "json = requests.get(DATA_URL).json()\n",
    "df = pd.DataFrame(json[\"features\"][0][\"geometry\"][\"coordinates\"])\n",
    "df.columns = ['lng', 'lat']\n",
    "\n",
    "viewport = pdk.data_utils.compute_view(df[['lng', 'lat']])\n",
    "layer = pdk.Layer(\n",
    "    'ScreenGridLayer',\n",
    "    df,\n",
    "    cell_size_pixels=20,\n",
    "    color_range=COLOR_RANGE,\n",
    "    get_position='[lng, lat]',\n",
    "    pickable=True,\n",
    "    auto_highlight=True)\n",
    "r = pdk.Deck(layers=[layer], initial_view_state=viewport)"
   ]
  },
  {
   "cell_type": "code",
   "execution_count": null,
   "metadata": {},
   "outputs": [],
   "source": [
    "r.show()\n"
   ]
  },
  {
   "cell_type": "code",
   "execution_count": null,
   "metadata": {},
   "outputs": [],
   "source": [
    "pd.DataFrame([r.deck_widget.selected_data])\n"
   ]
  },
  {
   "attachments": {},
   "cell_type": "markdown",
   "metadata": {},
   "source": [
    "### Plotting massive data sets.ipynb"
   ]
  },
  {
   "cell_type": "code",
   "execution_count": null,
   "metadata": {},
   "outputs": [],
   "source": [
    "import pandas as pd\n",
    "all_lidar = pd.concat([\n",
    "    pd.read_csv('https://raw.githubusercontent.com/ajduberstein/kitti_subset/master/kitti_1.csv'),\n",
    "    pd.read_csv('https://raw.githubusercontent.com/ajduberstein/kitti_subset/master/kitti_2.csv'),\n",
    "    pd.read_csv('https://raw.githubusercontent.com/ajduberstein/kitti_subset/master/kitti_3.csv'),\n",
    "    pd.read_csv('https://raw.githubusercontent.com/ajduberstein/kitti_subset/master/kitti_4.csv'),\n",
    "])\n",
    "\n",
    "# Filter to one frame of data\n",
    "lidar = all_lidar[all_lidar['source'] == 136]\n",
    "lidar.loc[: , ['x', 'y']] = lidar[['x', 'y']] / 10000"
   ]
  },
  {
   "cell_type": "code",
   "execution_count": null,
   "metadata": {},
   "outputs": [],
   "source": [
    "import pydeck as pdk\n",
    "\n",
    "\n",
    "point_cloud = pdk.Layer(\n",
    "    'PointCloudLayer',\n",
    "    lidar[['x', 'y', 'z']],\n",
    "    get_position='[x, y, z * 10]',\n",
    "    get_normal=[0, 0, 1],\n",
    "    get_color=[255, 0, 100, 200],\n",
    "    pickable=True,  \n",
    "    auto_highlight=True,\n",
    "    point_size=1)\n",
    "\n",
    "\n",
    "view_state = pdk.data_utils.compute_view(lidar[['x', 'y']], 0.9)\n",
    "view_state.max_pitch = 360\n",
    "view_state.pitch = 80\n",
    "view_state.bearing = 120\n",
    "\n",
    "r = pdk.Deck(\n",
    "    point_cloud,\n",
    "    initial_view_state=view_state,\n",
    "    map_style='')\n",
    "r.show()"
   ]
  },
  {
   "cell_type": "code",
   "execution_count": null,
   "metadata": {},
   "outputs": [],
   "source": [
    "import time\n",
    "from collections import deque\n",
    "\n",
    "# Choose a handful of frames to loop through\n",
    "frame_buffer = deque([42, 56, 81, 95])\n",
    "print('Press the stop icon to exit')\n",
    "while True:\n",
    "    current_frame = frame_buffer[0]\n",
    "    lidar = all_lidar[all_lidar['source'] == current_frame]\n",
    "    r.layers[0].get_position = '[x / 10000, y / 10000, z * 10]'\n",
    "    r.layers[0].data = lidar.to_dict(orient='records')\n",
    "    frame_buffer.rotate()\n",
    "    r.update()\n",
    "    time.sleep(0.5)"
   ]
  },
  {
   "attachments": {},
   "cell_type": "markdown",
   "metadata": {},
   "source": [
    "### Interacting with other Jupyter widgets.ipynb"
   ]
  },
  {
   "cell_type": "code",
   "execution_count": 12,
   "metadata": {},
   "outputs": [
    {
     "data": {
      "text/html": [
       "<div>\n",
       "<style scoped>\n",
       "    .dataframe tbody tr th:only-of-type {\n",
       "        vertical-align: middle;\n",
       "    }\n",
       "\n",
       "    .dataframe tbody tr th {\n",
       "        vertical-align: top;\n",
       "    }\n",
       "\n",
       "    .dataframe thead th {\n",
       "        text-align: right;\n",
       "    }\n",
       "</style>\n",
       "<table border=\"1\" class=\"dataframe\">\n",
       "  <thead>\n",
       "    <tr style=\"text-align: right;\">\n",
       "      <th></th>\n",
       "      <th>year</th>\n",
       "      <th>lng</th>\n",
       "      <th>lat</th>\n",
       "      <th>brightness</th>\n",
       "    </tr>\n",
       "  </thead>\n",
       "  <tbody>\n",
       "    <tr>\n",
       "      <th>0</th>\n",
       "      <td>1993</td>\n",
       "      <td>104.575</td>\n",
       "      <td>31.808</td>\n",
       "      <td>4</td>\n",
       "    </tr>\n",
       "    <tr>\n",
       "      <th>1</th>\n",
       "      <td>1993</td>\n",
       "      <td>104.583</td>\n",
       "      <td>31.808</td>\n",
       "      <td>4</td>\n",
       "    </tr>\n",
       "    <tr>\n",
       "      <th>2</th>\n",
       "      <td>1993</td>\n",
       "      <td>104.592</td>\n",
       "      <td>31.808</td>\n",
       "      <td>4</td>\n",
       "    </tr>\n",
       "    <tr>\n",
       "      <th>3</th>\n",
       "      <td>1993</td>\n",
       "      <td>104.600</td>\n",
       "      <td>31.808</td>\n",
       "      <td>4</td>\n",
       "    </tr>\n",
       "    <tr>\n",
       "      <th>4</th>\n",
       "      <td>1993</td>\n",
       "      <td>104.675</td>\n",
       "      <td>31.808</td>\n",
       "      <td>4</td>\n",
       "    </tr>\n",
       "  </tbody>\n",
       "</table>\n",
       "</div>"
      ],
      "text/plain": [
       "   year      lng     lat  brightness\n",
       "0  1993  104.575  31.808           4\n",
       "1  1993  104.583  31.808           4\n",
       "2  1993  104.592  31.808           4\n",
       "3  1993  104.600  31.808           4\n",
       "4  1993  104.675  31.808           4"
      ]
     },
     "execution_count": 12,
     "metadata": {},
     "output_type": "execute_result"
    }
   ],
   "source": [
    "LIGHTS_URL = 'https://raw.githubusercontent.com/ajduberstein/lights_at_night/master/chengdu_lights_at_night.csv'\n",
    "df = pd.read_csv(LIGHTS_URL)\n",
    "df.head()"
   ]
  },
  {
   "cell_type": "code",
   "execution_count": 13,
   "metadata": {},
   "outputs": [
    {
     "data": {
      "text/html": [
       "<div>\n",
       "<style scoped>\n",
       "    .dataframe tbody tr th:only-of-type {\n",
       "        vertical-align: middle;\n",
       "    }\n",
       "\n",
       "    .dataframe tbody tr th {\n",
       "        vertical-align: top;\n",
       "    }\n",
       "\n",
       "    .dataframe thead th {\n",
       "        text-align: right;\n",
       "    }\n",
       "</style>\n",
       "<table border=\"1\" class=\"dataframe\">\n",
       "  <thead>\n",
       "    <tr style=\"text-align: right;\">\n",
       "      <th></th>\n",
       "      <th>year</th>\n",
       "      <th>lng</th>\n",
       "      <th>lat</th>\n",
       "      <th>brightness</th>\n",
       "      <th>color</th>\n",
       "    </tr>\n",
       "  </thead>\n",
       "  <tbody>\n",
       "    <tr>\n",
       "      <th>137735</th>\n",
       "      <td>2003</td>\n",
       "      <td>103.983</td>\n",
       "      <td>30.292</td>\n",
       "      <td>3</td>\n",
       "      <td>[255, 12, 255, 255]</td>\n",
       "    </tr>\n",
       "    <tr>\n",
       "      <th>126239</th>\n",
       "      <td>2003</td>\n",
       "      <td>105.442</td>\n",
       "      <td>30.917</td>\n",
       "      <td>3</td>\n",
       "      <td>[255, 12, 255, 255]</td>\n",
       "    </tr>\n",
       "    <tr>\n",
       "      <th>142560</th>\n",
       "      <td>2003</td>\n",
       "      <td>103.875</td>\n",
       "      <td>29.942</td>\n",
       "      <td>3</td>\n",
       "      <td>[255, 12, 255, 255]</td>\n",
       "    </tr>\n",
       "    <tr>\n",
       "      <th>228590</th>\n",
       "      <td>2011</td>\n",
       "      <td>104.600</td>\n",
       "      <td>31.042</td>\n",
       "      <td>5</td>\n",
       "      <td>[255, 20, 255, 255]</td>\n",
       "    </tr>\n",
       "    <tr>\n",
       "      <th>30461</th>\n",
       "      <td>1997</td>\n",
       "      <td>103.375</td>\n",
       "      <td>30.275</td>\n",
       "      <td>5</td>\n",
       "      <td>[255, 20, 255, 255]</td>\n",
       "    </tr>\n",
       "    <tr>\n",
       "      <th>181576</th>\n",
       "      <td>2007</td>\n",
       "      <td>104.658</td>\n",
       "      <td>31.733</td>\n",
       "      <td>5</td>\n",
       "      <td>[255, 20, 255, 255]</td>\n",
       "    </tr>\n",
       "    <tr>\n",
       "      <th>159357</th>\n",
       "      <td>2013</td>\n",
       "      <td>103.550</td>\n",
       "      <td>30.908</td>\n",
       "      <td>8</td>\n",
       "      <td>[255, 32, 255, 255]</td>\n",
       "    </tr>\n",
       "    <tr>\n",
       "      <th>309549</th>\n",
       "      <td>1999</td>\n",
       "      <td>104.058</td>\n",
       "      <td>30.658</td>\n",
       "      <td>62</td>\n",
       "      <td>[255, 248, 255, 255]</td>\n",
       "    </tr>\n",
       "    <tr>\n",
       "      <th>103716</th>\n",
       "      <td>2001</td>\n",
       "      <td>103.692</td>\n",
       "      <td>30.508</td>\n",
       "      <td>4</td>\n",
       "      <td>[255, 16, 255, 255]</td>\n",
       "    </tr>\n",
       "    <tr>\n",
       "      <th>190436</th>\n",
       "      <td>2007</td>\n",
       "      <td>103.792</td>\n",
       "      <td>31.050</td>\n",
       "      <td>4</td>\n",
       "      <td>[255, 16, 255, 255]</td>\n",
       "    </tr>\n",
       "  </tbody>\n",
       "</table>\n",
       "</div>"
      ],
      "text/plain": [
       "        year      lng     lat  brightness                 color\n",
       "137735  2003  103.983  30.292           3   [255, 12, 255, 255]\n",
       "126239  2003  105.442  30.917           3   [255, 12, 255, 255]\n",
       "142560  2003  103.875  29.942           3   [255, 12, 255, 255]\n",
       "228590  2011  104.600  31.042           5   [255, 20, 255, 255]\n",
       "30461   1997  103.375  30.275           5   [255, 20, 255, 255]\n",
       "181576  2007  104.658  31.733           5   [255, 20, 255, 255]\n",
       "159357  2013  103.550  30.908           8   [255, 32, 255, 255]\n",
       "309549  1999  104.058  30.658          62  [255, 248, 255, 255]\n",
       "103716  2001  103.692  30.508           4   [255, 16, 255, 255]\n",
       "190436  2007  103.792  31.050           4   [255, 16, 255, 255]"
      ]
     },
     "execution_count": 13,
     "metadata": {},
     "output_type": "execute_result"
    }
   ],
   "source": [
    "df['color'] = df['brightness'].apply(lambda val: [255, val * 4,  255, 255])\n",
    "df.sample(10)\n",
    "###rgb가 전부 255일 때는 흰색을 띠고있고 전부 0일때는 검정색을 띈다"
   ]
  },
  {
   "cell_type": "code",
   "execution_count": 17,
   "metadata": {},
   "outputs": [
    {
     "data": {
      "application/vnd.jupyter.widget-view+json": {
       "model_id": "867a5fa6f672410d8b86232141d2940c",
       "version_major": 2,
       "version_minor": 0
      },
      "text/plain": [
       "DeckGLWidget(carto_key=None, custom_libraries=[], google_maps_key=None, json_input='{\\n  \"initialViewState\": {…"
      ]
     },
     "metadata": {},
     "output_type": "display_data"
    }
   ],
   "source": [
    "plottable = df[df['year'] == 1993].to_dict(orient='records')\n",
    "\n",
    "view_state = pdk.ViewState(\n",
    "    latitude=31.0,\n",
    "    longitude=104.5,\n",
    "    zoom=8,\n",
    "    max_zoom=8,\n",
    "    min_zoom=8)\n",
    "scatterplot = pdk.Layer(\n",
    "    'HeatmapLayer',\n",
    "    data=plottable,\n",
    "    get_position='[lng, lat]',\n",
    "    get_weight='brightness',\n",
    "    opacity=0.5,\n",
    "    pickable=False,\n",
    "    get_radius=800)\n",
    "r = pdk.Deck(\n",
    "    layers=[scatterplot],\n",
    "    initial_view_state=view_state,\n",
    "    views=[pdk.View(type='MapView', controller=None)])\n",
    "r.show()"
   ]
  },
  {
   "cell_type": "code",
   "execution_count": 18,
   "metadata": {},
   "outputs": [
    {
     "data": {
      "application/vnd.jupyter.widget-view+json": {
       "model_id": "c8ce8c93ad8f470d8ba15ac7fe7b4092",
       "version_major": 2,
       "version_minor": 0
      },
      "text/plain": [
       "IntSlider(value=1993, max=2013, min=1993, step=2)"
      ]
     },
     "metadata": {},
     "output_type": "display_data"
    }
   ],
   "source": [
    "import ipywidgets as widgets\n",
    "from IPython.display import display\n",
    "slider = widgets.IntSlider(1992, min=1993, max=2013, step=2)\n",
    "def on_change(v):\n",
    "    results = df[df['year'] == slider.value].to_dict(orient='records')\n",
    "    scatterplot.data = results\n",
    "    r.update()\n",
    "    \n",
    "slider.observe(on_change, names='value')\n",
    "display(slider)\n",
    "\n",
    "#아래의 조절하는 것을 바꾸면 변형되는 건 알 수있다\n",
    "#그리고 점점 년도가 올라갈 수록 더욱 밣아지면서 도시가 발전하고있다는 것을 알수 있다.\n"
   ]
  },
  {
   "cell_type": "code",
   "execution_count": 19,
   "metadata": {},
   "outputs": [],
   "source": [
    "tooltip = {\n",
    "   \"html\": \"<b>Elevation Value:</b> {elevationValue}\",\n",
    "   \"style\": {\n",
    "        \"backgroundColor\": \"steelblue\",\n",
    "        \"color\": \"white\"\n",
    "   }\n",
    "}"
   ]
  },
  {
   "attachments": {},
   "cell_type": "markdown",
   "metadata": {},
   "source": [
    "### Tooltip"
   ]
  },
  {
   "cell_type": "code",
   "execution_count": 20,
   "metadata": {},
   "outputs": [
    {
     "data": {
      "application/vnd.jupyter.widget-view+json": {
       "model_id": "1916ade61883408589246d4b5d945dd1",
       "version_major": 2,
       "version_minor": 0
      },
      "text/plain": [
       "DeckGLWidget(carto_key=None, custom_libraries=[], google_maps_key=None, json_input='{\\n  \"initialViewState\": {…"
      ]
     },
     "metadata": {},
     "output_type": "display_data"
    }
   ],
   "source": [
    "#그래프를 나왔을때 그 그래프 마다 띄고있는 값을 나타내는 것을 말한다.\n",
    "import pydeck as pdk\n",
    "\n",
    "layer = pdk.Layer(\n",
    "    'HexagonLayer',\n",
    "    UK_ACCIDENTS_DATA,\n",
    "    get_position='[lng, lat]',\n",
    "    auto_highlight=True,\n",
    "    elevation_scale=50,\n",
    "    pickable=True,\n",
    "    elevation_range=[0, 3000],\n",
    "    extruded=True,\n",
    "    coverage=1,\n",
    "    )\n",
    "\n",
    "# Set the viewport location\n",
    "view_state = pdk.ViewState(\n",
    "    longitude=-1.415,\n",
    "    latitude=52.2323,\n",
    "    zoom=6,\n",
    "    min_zoom=5,\n",
    "    max_zoom=15,\n",
    "    pitch=40.5,\n",
    "    bearing=-27.36)\n",
    "\n",
    "# Combined all of it and render a viewport\n",
    "r = pdk.Deck(\n",
    "    layers=[layer],\n",
    "    initial_view_state=view_state,\n",
    "    tooltip={\n",
    "        'html': '<b>Elevation Value:</b> {elevationValue}',###텍스트의 색깔을 변경이 가능하게 한다.\n",
    "        'style': {                         #텍스트를 나타나게 하는 함수\n",
    "            'color': 'white'\n",
    "        }\n",
    "    }\n",
    ")\n",
    "r.show()"
   ]
  },
  {
   "attachments": {},
   "cell_type": "markdown",
   "metadata": {},
   "source": [
    "- 그냥 텍스트로 하기\n"
   ]
  },
  {
   "cell_type": "code",
   "execution_count": 21,
   "metadata": {},
   "outputs": [
    {
     "data": {
      "application/vnd.jupyter.widget-view+json": {
       "model_id": "8aad6d4a83f7436fa0a24a8fc08b09c1",
       "version_major": 2,
       "version_minor": 0
      },
      "text/plain": [
       "DeckGLWidget(carto_key=None, custom_libraries=[], google_maps_key=None, json_input='{\\n  \"initialViewState\": {…"
      ]
     },
     "metadata": {},
     "output_type": "display_data"
    }
   ],
   "source": [
    "import pydeck as pdk\n",
    "\n",
    "layer = pdk.Layer(\n",
    "    'HexagonLayer',\n",
    "    UK_ACCIDENTS_DATA,\n",
    "    get_position='[lng, lat]',\n",
    "    auto_highlight=True,\n",
    "    elevation_scale=50,\n",
    "    pickable=True,\n",
    "    elevation_range=[0, 3000],\n",
    "    extruded=True,\n",
    "    coverage=1)\n",
    "\n",
    "# Set the viewport location\n",
    "view_state = pdk.ViewState(\n",
    "    longitude=-1.415,\n",
    "    latitude=52.2323,\n",
    "    zoom=6,\n",
    "    min_zoom=5,\n",
    "    max_zoom=15,\n",
    "    pitch=40.5,\n",
    "    bearing=-27.36)\n",
    "\n",
    "# Combined all of it and render a viewport\n",
    "r = pdk.Deck(\n",
    "    layers=[layer],\n",
    "    initial_view_state=view_state,\n",
    "    tooltip = {\n",
    "    \"text\": \"Elevation: {elevationValue}\"\n",
    "    }     #html과 text의 차이를 알아야 한다.\n",
    "    \n",
    ")\n",
    "r.show()\n",
    "\n"
   ]
  },
  {
   "attachments": {},
   "cell_type": "markdown",
   "metadata": {},
   "source": [
    "- Tooltip을 그냥 True값만 주기\n"
   ]
  },
  {
   "cell_type": "code",
   "execution_count": null,
   "metadata": {},
   "outputs": [],
   "source": [
    "import pydeck as pdk\n",
    "\n",
    "layer = pdk.Layer(\n",
    "    'HexagonLayer',\n",
    "    UK_ACCIDENTS_DATA,\n",
    "    get_position='[lng, lat]',\n",
    "    auto_highlight=True,\n",
    "    elevation_scale=50,\n",
    "    pickable=True,\n",
    "    elevation_range=[0, 3000],\n",
    "    extruded=True,\n",
    "    coverage=1)\n",
    "\n",
    "# Set the viewport location\n",
    "view_state = pdk.ViewState(\n",
    "    longitude=-1.415,\n",
    "    latitude=52.2323,\n",
    "    zoom=6,\n",
    "    min_zoom=5,\n",
    "    max_zoom=15,\n",
    "    pitch=40.5,\n",
    "    bearing=-27.36)\n",
    "\n",
    "# Combined all of it and render a viewport\n",
    "r = pdk.Deck(\n",
    "    layers=[layer],\n",
    "    initial_view_state=view_state,\n",
    "    tooltip=True\n",
    ")\n",
    "r.show()"
   ]
  },
  {
   "cell_type": "code",
   "execution_count": null,
   "metadata": {},
   "outputs": [],
   "source": [
    "UK_ACCIDENTS_DATA = 'https://raw.githubusercontent.com/uber-common/deck.gl-data/master/examples/3d-heatmap/heatmap-data.csv'\n",
    "\n",
    "uk_data = pd.read_csv(UK_ACCIDENTS_DATA)"
   ]
  },
  {
   "cell_type": "code",
   "execution_count": null,
   "metadata": {},
   "outputs": [],
   "source": [
    "uk_data.head()"
   ]
  },
  {
   "attachments": {},
   "cell_type": "markdown",
   "metadata": {},
   "source": [
    "### 미국 택시 데이터 시각화"
   ]
  },
  {
   "cell_type": "code",
   "execution_count": 27,
   "metadata": {},
   "outputs": [
    {
     "name": "stdout",
     "output_type": "stream",
     "text": [
      "Collecting pandas-gbq\n",
      "  Downloading pandas_gbq-0.19.2-py2.py3-none-any.whl (25 kB)\n",
      "Collecting google-auth-oauthlib>=0.7.0\n",
      "  Downloading google_auth_oauthlib-1.0.0-py2.py3-none-any.whl (18 kB)\n",
      "Collecting google-cloud-bigquery-storage<3.0.0dev,>=2.16.2\n",
      "  Downloading google_cloud_bigquery_storage-2.19.1-py2.py3-none-any.whl (190 kB)\n",
      "     -------------------------------------- 190.1/190.1 kB 1.2 MB/s eta 0:00:00\n",
      "Collecting db-dtypes<2.0.0,>=1.0.4\n",
      "  Downloading db_dtypes-1.1.1-py2.py3-none-any.whl (14 kB)\n",
      "Collecting google-auth>=2.13.0\n",
      "  Downloading google_auth-2.18.1-py2.py3-none-any.whl (178 kB)\n",
      "     -------------------------------------- 178.9/178.9 kB 2.1 MB/s eta 0:00:00\n",
      "Collecting google-cloud-bigquery!=2.4.*,<4.0.0dev,>=3.3.5\n",
      "  Downloading google_cloud_bigquery-3.10.0-py2.py3-none-any.whl (218 kB)\n",
      "     -------------------------------------- 218.4/218.4 kB 2.2 MB/s eta 0:00:00\n",
      "Collecting pydata-google-auth>=1.5.0\n",
      "  Downloading pydata_google_auth-1.8.0-py2.py3-none-any.whl (14 kB)\n",
      "Requirement already satisfied: setuptools in c:\\users\\joppu\\ana\\lib\\site-packages (from pandas-gbq) (65.6.3)\n",
      "Collecting pyarrow>=3.0.0\n",
      "  Downloading pyarrow-12.0.0-cp310-cp310-win_amd64.whl (21.5 MB)\n",
      "     ---------------------------------------- 21.5/21.5 MB 8.4 MB/s eta 0:00:00\n",
      "Requirement already satisfied: pandas>=1.1.4 in c:\\users\\joppu\\ana\\lib\\site-packages (from pandas-gbq) (1.5.3)\n",
      "Requirement already satisfied: numpy>=1.16.6 in c:\\users\\joppu\\ana\\lib\\site-packages (from pandas-gbq) (1.23.5)\n",
      "Collecting google-api-core<3.0.0dev,>=2.10.2\n",
      "  Downloading google_api_core-2.11.0-py3-none-any.whl (120 kB)\n",
      "     -------------------------------------- 120.3/120.3 kB 6.9 MB/s eta 0:00:00\n",
      "Requirement already satisfied: packaging>=17.0 in c:\\users\\joppu\\ana\\lib\\site-packages (from db-dtypes<2.0.0,>=1.0.4->pandas-gbq) (22.0)\n",
      "Collecting protobuf!=3.20.0,!=3.20.1,!=4.21.0,!=4.21.1,!=4.21.2,!=4.21.3,!=4.21.4,!=4.21.5,<5.0.0dev,>=3.19.5\n",
      "  Downloading protobuf-4.23.1-cp310-abi3-win_amd64.whl (422 kB)\n",
      "     -------------------------------------- 422.5/422.5 kB 6.6 MB/s eta 0:00:00\n",
      "Collecting googleapis-common-protos<2.0dev,>=1.56.2\n",
      "  Downloading googleapis_common_protos-1.59.0-py2.py3-none-any.whl (223 kB)\n",
      "     ------------------------------------- 223.6/223.6 kB 13.3 MB/s eta 0:00:00\n",
      "Requirement already satisfied: requests<3.0.0dev,>=2.18.0 in c:\\users\\joppu\\ana\\lib\\site-packages (from google-api-core<3.0.0dev,>=2.10.2->pandas-gbq) (2.28.1)\n",
      "Requirement already satisfied: urllib3<2.0 in c:\\users\\joppu\\ana\\lib\\site-packages (from google-auth>=2.13.0->pandas-gbq) (1.26.14)\n",
      "Requirement already satisfied: pyasn1-modules>=0.2.1 in c:\\users\\joppu\\ana\\lib\\site-packages (from google-auth>=2.13.0->pandas-gbq) (0.2.8)\n",
      "Collecting cachetools<6.0,>=2.0.0\n",
      "  Downloading cachetools-5.3.0-py3-none-any.whl (9.3 kB)\n",
      "Collecting rsa<5,>=3.1.4\n",
      "  Downloading rsa-4.9-py3-none-any.whl (34 kB)\n",
      "Requirement already satisfied: six>=1.9.0 in c:\\users\\joppu\\ana\\lib\\site-packages (from google-auth>=2.13.0->pandas-gbq) (1.16.0)\n",
      "Collecting requests-oauthlib>=0.7.0\n",
      "  Downloading requests_oauthlib-1.3.1-py2.py3-none-any.whl (23 kB)\n",
      "Collecting google-cloud-core<3.0.0dev,>=1.6.0\n",
      "  Downloading google_cloud_core-2.3.2-py2.py3-none-any.whl (29 kB)\n",
      "Collecting grpcio<2.0dev,>=1.47.0\n",
      "  Downloading grpcio-1.54.2-cp310-cp310-win_amd64.whl (4.1 MB)\n",
      "     ---------------------------------------- 4.1/4.1 MB 4.0 MB/s eta 0:00:00\n",
      "Collecting proto-plus<2.0.0dev,>=1.15.0\n",
      "  Downloading proto_plus-1.22.2-py3-none-any.whl (47 kB)\n",
      "     ---------------------------------------- 47.9/47.9 kB 2.5 MB/s eta 0:00:00\n",
      "Requirement already satisfied: python-dateutil<3.0dev,>=2.7.2 in c:\\users\\joppu\\ana\\lib\\site-packages (from google-cloud-bigquery!=2.4.*,<4.0.0dev,>=3.3.5->pandas-gbq) (2.8.2)\n",
      "Collecting google-resumable-media<3.0dev,>=0.6.0\n",
      "  Downloading google_resumable_media-2.5.0-py2.py3-none-any.whl (77 kB)\n",
      "     ---------------------------------------- 77.7/77.7 kB 2.2 MB/s eta 0:00:00\n",
      "Requirement already satisfied: pytz>=2020.1 in c:\\users\\joppu\\ana\\lib\\site-packages (from pandas>=1.1.4->pandas-gbq) (2022.7)\n",
      "Collecting grpcio-status<2.0dev,>=1.33.2\n",
      "  Downloading grpcio_status-1.54.2-py3-none-any.whl (5.1 kB)\n",
      "Collecting google-crc32c<2.0dev,>=1.0\n",
      "  Downloading google_crc32c-1.5.0-cp310-cp310-win_amd64.whl (27 kB)\n",
      "Requirement already satisfied: pyasn1<0.5.0,>=0.4.6 in c:\\users\\joppu\\ana\\lib\\site-packages (from pyasn1-modules>=0.2.1->google-auth>=2.13.0->pandas-gbq) (0.4.8)\n",
      "Requirement already satisfied: certifi>=2017.4.17 in c:\\users\\joppu\\ana\\lib\\site-packages (from requests<3.0.0dev,>=2.18.0->google-api-core<3.0.0dev,>=2.10.2->pandas-gbq) (2022.12.7)\n",
      "Requirement already satisfied: charset-normalizer<3,>=2 in c:\\users\\joppu\\ana\\lib\\site-packages (from requests<3.0.0dev,>=2.18.0->google-api-core<3.0.0dev,>=2.10.2->pandas-gbq) (2.0.4)\n",
      "Requirement already satisfied: idna<4,>=2.5 in c:\\users\\joppu\\ana\\lib\\site-packages (from requests<3.0.0dev,>=2.18.0->google-api-core<3.0.0dev,>=2.10.2->pandas-gbq) (3.4)\n",
      "Collecting oauthlib>=3.0.0\n",
      "  Downloading oauthlib-3.2.2-py3-none-any.whl (151 kB)\n",
      "     -------------------------------------- 151.7/151.7 kB 9.4 MB/s eta 0:00:00\n",
      "Installing collected packages: rsa, pyarrow, protobuf, oauthlib, grpcio, google-crc32c, cachetools, requests-oauthlib, proto-plus, googleapis-common-protos, google-resumable-media, google-auth, grpcio-status, google-auth-oauthlib, google-api-core, db-dtypes, pydata-google-auth, google-cloud-core, google-cloud-bigquery-storage, google-cloud-bigquery, pandas-gbq\n",
      "Successfully installed cachetools-5.3.0 db-dtypes-1.1.1 google-api-core-2.11.0 google-auth-2.18.1 google-auth-oauthlib-1.0.0 google-cloud-bigquery-3.10.0 google-cloud-bigquery-storage-2.19.1 google-cloud-core-2.3.2 google-crc32c-1.5.0 google-resumable-media-2.5.0 googleapis-common-protos-1.59.0 grpcio-1.54.2 grpcio-status-1.54.2 oauthlib-3.2.2 pandas-gbq-0.19.2 proto-plus-1.22.2 protobuf-4.23.1 pyarrow-12.0.0 pydata-google-auth-1.8.0 requests-oauthlib-1.3.1 rsa-4.9\n",
      "Requirement already satisfied: pydata_google_auth in c:\\users\\joppu\\ana\\lib\\site-packages (1.8.0)\n",
      "Requirement already satisfied: google-auth<3.0dev,>=1.25.0 in c:\\users\\joppu\\ana\\lib\\site-packages (from pydata_google_auth) (2.18.1)\n",
      "Requirement already satisfied: google-auth-oauthlib>=0.4.0 in c:\\users\\joppu\\ana\\lib\\site-packages (from pydata_google_auth) (1.0.0)\n",
      "Requirement already satisfied: setuptools in c:\\users\\joppu\\ana\\lib\\site-packages (from pydata_google_auth) (65.6.3)\n",
      "Requirement already satisfied: cachetools<6.0,>=2.0.0 in c:\\users\\joppu\\ana\\lib\\site-packages (from google-auth<3.0dev,>=1.25.0->pydata_google_auth) (5.3.0)\n",
      "Requirement already satisfied: urllib3<2.0 in c:\\users\\joppu\\ana\\lib\\site-packages (from google-auth<3.0dev,>=1.25.0->pydata_google_auth) (1.26.14)\n",
      "Requirement already satisfied: rsa<5,>=3.1.4 in c:\\users\\joppu\\ana\\lib\\site-packages (from google-auth<3.0dev,>=1.25.0->pydata_google_auth) (4.9)\n",
      "Requirement already satisfied: six>=1.9.0 in c:\\users\\joppu\\ana\\lib\\site-packages (from google-auth<3.0dev,>=1.25.0->pydata_google_auth) (1.16.0)\n",
      "Requirement already satisfied: pyasn1-modules>=0.2.1 in c:\\users\\joppu\\ana\\lib\\site-packages (from google-auth<3.0dev,>=1.25.0->pydata_google_auth) (0.2.8)\n",
      "Requirement already satisfied: requests-oauthlib>=0.7.0 in c:\\users\\joppu\\ana\\lib\\site-packages (from google-auth-oauthlib>=0.4.0->pydata_google_auth) (1.3.1)\n",
      "Requirement already satisfied: pyasn1<0.5.0,>=0.4.6 in c:\\users\\joppu\\ana\\lib\\site-packages (from pyasn1-modules>=0.2.1->google-auth<3.0dev,>=1.25.0->pydata_google_auth) (0.4.8)\n",
      "Requirement already satisfied: oauthlib>=3.0.0 in c:\\users\\joppu\\ana\\lib\\site-packages (from requests-oauthlib>=0.7.0->google-auth-oauthlib>=0.4.0->pydata_google_auth) (3.2.2)\n",
      "Requirement already satisfied: requests>=2.0.0 in c:\\users\\joppu\\ana\\lib\\site-packages (from requests-oauthlib>=0.7.0->google-auth-oauthlib>=0.4.0->pydata_google_auth) (2.28.1)\n",
      "Requirement already satisfied: charset-normalizer<3,>=2 in c:\\users\\joppu\\ana\\lib\\site-packages (from requests>=2.0.0->requests-oauthlib>=0.7.0->google-auth-oauthlib>=0.4.0->pydata_google_auth) (2.0.4)\n",
      "Requirement already satisfied: idna<4,>=2.5 in c:\\users\\joppu\\ana\\lib\\site-packages (from requests>=2.0.0->requests-oauthlib>=0.7.0->google-auth-oauthlib>=0.4.0->pydata_google_auth) (3.4)\n",
      "Requirement already satisfied: certifi>=2017.4.17 in c:\\users\\joppu\\ana\\lib\\site-packages (from requests>=2.0.0->requests-oauthlib>=0.7.0->google-auth-oauthlib>=0.4.0->pydata_google_auth) (2022.12.7)\n"
     ]
    }
   ],
   "source": [
    "!pip install pandas-gbq -U\n",
    "!pip install pydata_google_auth"
   ]
  },
  {
   "cell_type": "code",
   "execution_count": 28,
   "metadata": {},
   "outputs": [
    {
     "name": "stdout",
     "output_type": "stream",
     "text": [
      "Please visit this URL to authorize this application: https://accounts.google.com/o/oauth2/auth?response_type=code&client_id=262006177488-3425ks60hkk80fssi9vpohv88g6q1iqd.apps.googleusercontent.com&redirect_uri=http%3A%2F%2Flocalhost%3A8080%2F&scope=https%3A%2F%2Fwww.googleapis.com%2Fauth%2Fcloud-platform+https%3A%2F%2Fwww.googleapis.com%2Fauth%2Fdrive+https%3A%2F%2Fwww.googleapis.com%2Fauth%2Fbigquery&state=6F8HY0IvELLLXdAUOu6Fr5PsphE0Mz&access_type=offline\n"
     ]
    }
   ],
   "source": [
    "\n",
    "import pandas as pd\n",
    "import pydata_google_auth\n",
    "\n",
    "SCOPES = [\n",
    "  'https://www.googleapis.com/auth/cloud-platform',\n",
    "  'https://www.googleapis.com/auth/drive',\n",
    "  'https://www.googleapis.com/auth/bigquery'\n",
    "]\n",
    "\n",
    "credentials = pydata_google_auth.get_user_credentials(\n",
    "SCOPES, auth_local_webserver=True)"
   ]
  },
  {
   "cell_type": "code",
   "execution_count": 29,
   "metadata": {},
   "outputs": [],
   "source": [
    "query = \"\"\"\n",
    "SELECT \n",
    "    *\n",
    "FROM `bigquery-public-data.new_york_taxi_trips.tlc_yellow_trips_2015` \n",
    "WHERE EXTRACT(MONTH from pickup_datetime) = 1\n",
    "LIMIT 10000\n",
    "\"\"\""
   ]
  },
  {
   "cell_type": "code",
   "execution_count": 32,
   "metadata": {},
   "outputs": [
    {
     "ename": "NameError",
     "evalue": "name 'taxi_df' is not defined",
     "output_type": "error",
     "traceback": [
      "\u001b[1;31m---------------------------------------------------------------------------\u001b[0m",
      "\u001b[1;31mNameError\u001b[0m                                 Traceback (most recent call last)",
      "Cell \u001b[1;32mIn[32], line 1\u001b[0m\n\u001b[1;32m----> 1\u001b[0m taxi_df\u001b[39m.\u001b[39mcolumns\n",
      "\u001b[1;31mNameError\u001b[0m: name 'taxi_df' is not defined"
     ]
    }
   ],
   "source": [
    "taxi_df.columns"
   ]
  },
  {
   "cell_type": "code",
   "execution_count": 33,
   "metadata": {},
   "outputs": [
    {
     "ename": "GenericGBQException",
     "evalue": "Reason: 403 POST https://bigquery.googleapis.com/bigquery/v2/projects/persuasive-zoo-147513/jobs?prettyPrint=false: Access Denied: Project persuasive-zoo-147513: User does not have bigquery.jobs.create permission in project persuasive-zoo-147513.\n\nLocation: None\nJob ID: 4b5f1169-4381-44a0-9e9f-56edd0f23861\n",
     "output_type": "error",
     "traceback": [
      "\u001b[1;31m---------------------------------------------------------------------------\u001b[0m",
      "\u001b[1;31mForbidden\u001b[0m                                 Traceback (most recent call last)",
      "File \u001b[1;32mc:\\Users\\joppu\\ana\\lib\\site-packages\\pandas_gbq\\gbq.py:479\u001b[0m, in \u001b[0;36mGbqConnector.run_query\u001b[1;34m(self, query, max_results, progress_bar_type, **kwargs)\u001b[0m\n\u001b[0;32m    478\u001b[0m logger\u001b[39m.\u001b[39mdebug(\u001b[39m\"\u001b[39m\u001b[39mRequesting query... \u001b[39m\u001b[39m\"\u001b[39m)\n\u001b[1;32m--> 479\u001b[0m query_reply \u001b[39m=\u001b[39m \u001b[39mself\u001b[39;49m\u001b[39m.\u001b[39;49mclient\u001b[39m.\u001b[39;49mquery(\n\u001b[0;32m    480\u001b[0m     query,\n\u001b[0;32m    481\u001b[0m     job_config\u001b[39m=\u001b[39;49mbigquery\u001b[39m.\u001b[39;49mQueryJobConfig\u001b[39m.\u001b[39;49mfrom_api_repr(job_config),\n\u001b[0;32m    482\u001b[0m     location\u001b[39m=\u001b[39;49m\u001b[39mself\u001b[39;49m\u001b[39m.\u001b[39;49mlocation,\n\u001b[0;32m    483\u001b[0m     project\u001b[39m=\u001b[39;49m\u001b[39mself\u001b[39;49m\u001b[39m.\u001b[39;49mproject_id,\n\u001b[0;32m    484\u001b[0m )\n\u001b[0;32m    485\u001b[0m logger\u001b[39m.\u001b[39mdebug(\u001b[39m\"\u001b[39m\u001b[39mQuery running...\u001b[39m\u001b[39m\"\u001b[39m)\n",
      "File \u001b[1;32mc:\\Users\\joppu\\ana\\lib\\site-packages\\google\\cloud\\bigquery\\client.py:3403\u001b[0m, in \u001b[0;36mClient.query\u001b[1;34m(self, query, job_config, job_id, job_id_prefix, location, project, retry, timeout, job_retry, api_method)\u001b[0m\n\u001b[0;32m   3402\u001b[0m \u001b[39melif\u001b[39;00m api_method \u001b[39m==\u001b[39m enums\u001b[39m.\u001b[39mQueryApiMethod\u001b[39m.\u001b[39mINSERT:\n\u001b[1;32m-> 3403\u001b[0m     \u001b[39mreturn\u001b[39;00m _job_helpers\u001b[39m.\u001b[39;49mquery_jobs_insert(\n\u001b[0;32m   3404\u001b[0m         \u001b[39mself\u001b[39;49m,\n\u001b[0;32m   3405\u001b[0m         query,\n\u001b[0;32m   3406\u001b[0m         job_config,\n\u001b[0;32m   3407\u001b[0m         job_id,\n\u001b[0;32m   3408\u001b[0m         job_id_prefix,\n\u001b[0;32m   3409\u001b[0m         location,\n\u001b[0;32m   3410\u001b[0m         project,\n\u001b[0;32m   3411\u001b[0m         retry,\n\u001b[0;32m   3412\u001b[0m         timeout,\n\u001b[0;32m   3413\u001b[0m         job_retry,\n\u001b[0;32m   3414\u001b[0m     )\n\u001b[0;32m   3415\u001b[0m \u001b[39melse\u001b[39;00m:\n",
      "File \u001b[1;32mc:\\Users\\joppu\\ana\\lib\\site-packages\\google\\cloud\\bigquery\\_job_helpers.py:114\u001b[0m, in \u001b[0;36mquery_jobs_insert\u001b[1;34m(client, query, job_config, job_id, job_id_prefix, location, project, retry, timeout, job_retry)\u001b[0m\n\u001b[0;32m    112\u001b[0m         \u001b[39mreturn\u001b[39;00m query_job\n\u001b[1;32m--> 114\u001b[0m future \u001b[39m=\u001b[39m do_query()\n\u001b[0;32m    115\u001b[0m \u001b[39m# The future might be in a failed state now, but if it's\u001b[39;00m\n\u001b[0;32m    116\u001b[0m \u001b[39m# unrecoverable, we'll find out when we ask for it's result, at which\u001b[39;00m\n\u001b[0;32m    117\u001b[0m \u001b[39m# point, we may retry.\u001b[39;00m\n",
      "File \u001b[1;32mc:\\Users\\joppu\\ana\\lib\\site-packages\\google\\cloud\\bigquery\\_job_helpers.py:91\u001b[0m, in \u001b[0;36mquery_jobs_insert.<locals>.do_query\u001b[1;34m()\u001b[0m\n\u001b[0;32m     90\u001b[0m \u001b[39mtry\u001b[39;00m:\n\u001b[1;32m---> 91\u001b[0m     query_job\u001b[39m.\u001b[39;49m_begin(retry\u001b[39m=\u001b[39;49mretry, timeout\u001b[39m=\u001b[39;49mtimeout)\n\u001b[0;32m     92\u001b[0m \u001b[39mexcept\u001b[39;00m core_exceptions\u001b[39m.\u001b[39mConflict \u001b[39mas\u001b[39;00m create_exc:\n\u001b[0;32m     93\u001b[0m     \u001b[39m# The thought is if someone is providing their own job IDs and they get\u001b[39;00m\n\u001b[0;32m     94\u001b[0m     \u001b[39m# their job ID generation wrong, this could end up returning results for\u001b[39;00m\n\u001b[0;32m     95\u001b[0m     \u001b[39m# the wrong query. We thus only try to recover if job ID was not given.\u001b[39;00m\n",
      "File \u001b[1;32mc:\\Users\\joppu\\ana\\lib\\site-packages\\google\\cloud\\bigquery\\job\\query.py:1310\u001b[0m, in \u001b[0;36mQueryJob._begin\u001b[1;34m(self, client, retry, timeout)\u001b[0m\n\u001b[0;32m   1309\u001b[0m \u001b[39mtry\u001b[39;00m:\n\u001b[1;32m-> 1310\u001b[0m     \u001b[39msuper\u001b[39;49m(QueryJob, \u001b[39mself\u001b[39;49m)\u001b[39m.\u001b[39;49m_begin(client\u001b[39m=\u001b[39;49mclient, retry\u001b[39m=\u001b[39;49mretry, timeout\u001b[39m=\u001b[39;49mtimeout)\n\u001b[0;32m   1311\u001b[0m \u001b[39mexcept\u001b[39;00m exceptions\u001b[39m.\u001b[39mGoogleAPICallError \u001b[39mas\u001b[39;00m exc:\n",
      "File \u001b[1;32mc:\\Users\\joppu\\ana\\lib\\site-packages\\google\\cloud\\bigquery\\job\\base.py:693\u001b[0m, in \u001b[0;36m_AsyncJob._begin\u001b[1;34m(self, client, retry, timeout)\u001b[0m\n\u001b[0;32m    692\u001b[0m span_attributes \u001b[39m=\u001b[39m {\u001b[39m\"\u001b[39m\u001b[39mpath\u001b[39m\u001b[39m\"\u001b[39m: path}\n\u001b[1;32m--> 693\u001b[0m api_response \u001b[39m=\u001b[39m client\u001b[39m.\u001b[39;49m_call_api(\n\u001b[0;32m    694\u001b[0m     retry,\n\u001b[0;32m    695\u001b[0m     span_name\u001b[39m=\u001b[39;49m\u001b[39m\"\u001b[39;49m\u001b[39mBigQuery.job.begin\u001b[39;49m\u001b[39m\"\u001b[39;49m,\n\u001b[0;32m    696\u001b[0m     span_attributes\u001b[39m=\u001b[39;49mspan_attributes,\n\u001b[0;32m    697\u001b[0m     job_ref\u001b[39m=\u001b[39;49m\u001b[39mself\u001b[39;49m,\n\u001b[0;32m    698\u001b[0m     method\u001b[39m=\u001b[39;49m\u001b[39m\"\u001b[39;49m\u001b[39mPOST\u001b[39;49m\u001b[39m\"\u001b[39;49m,\n\u001b[0;32m    699\u001b[0m     path\u001b[39m=\u001b[39;49mpath,\n\u001b[0;32m    700\u001b[0m     data\u001b[39m=\u001b[39;49m\u001b[39mself\u001b[39;49m\u001b[39m.\u001b[39;49mto_api_repr(),\n\u001b[0;32m    701\u001b[0m     timeout\u001b[39m=\u001b[39;49mtimeout,\n\u001b[0;32m    702\u001b[0m )\n\u001b[0;32m    703\u001b[0m \u001b[39mself\u001b[39m\u001b[39m.\u001b[39m_set_properties(api_response)\n",
      "File \u001b[1;32mc:\\Users\\joppu\\ana\\lib\\site-packages\\google\\cloud\\bigquery\\client.py:813\u001b[0m, in \u001b[0;36mClient._call_api\u001b[1;34m(self, retry, span_name, span_attributes, job_ref, headers, **kwargs)\u001b[0m\n\u001b[0;32m    810\u001b[0m     \u001b[39mwith\u001b[39;00m create_span(\n\u001b[0;32m    811\u001b[0m         name\u001b[39m=\u001b[39mspan_name, attributes\u001b[39m=\u001b[39mspan_attributes, client\u001b[39m=\u001b[39m\u001b[39mself\u001b[39m, job_ref\u001b[39m=\u001b[39mjob_ref\n\u001b[0;32m    812\u001b[0m     ):\n\u001b[1;32m--> 813\u001b[0m         \u001b[39mreturn\u001b[39;00m call()\n\u001b[0;32m    815\u001b[0m \u001b[39mreturn\u001b[39;00m call()\n",
      "File \u001b[1;32mc:\\Users\\joppu\\ana\\lib\\site-packages\\google\\api_core\\retry.py:349\u001b[0m, in \u001b[0;36mRetry.__call__.<locals>.retry_wrapped_func\u001b[1;34m(*args, **kwargs)\u001b[0m\n\u001b[0;32m    346\u001b[0m sleep_generator \u001b[39m=\u001b[39m exponential_sleep_generator(\n\u001b[0;32m    347\u001b[0m     \u001b[39mself\u001b[39m\u001b[39m.\u001b[39m_initial, \u001b[39mself\u001b[39m\u001b[39m.\u001b[39m_maximum, multiplier\u001b[39m=\u001b[39m\u001b[39mself\u001b[39m\u001b[39m.\u001b[39m_multiplier\n\u001b[0;32m    348\u001b[0m )\n\u001b[1;32m--> 349\u001b[0m \u001b[39mreturn\u001b[39;00m retry_target(\n\u001b[0;32m    350\u001b[0m     target,\n\u001b[0;32m    351\u001b[0m     \u001b[39mself\u001b[39;49m\u001b[39m.\u001b[39;49m_predicate,\n\u001b[0;32m    352\u001b[0m     sleep_generator,\n\u001b[0;32m    353\u001b[0m     \u001b[39mself\u001b[39;49m\u001b[39m.\u001b[39;49m_timeout,\n\u001b[0;32m    354\u001b[0m     on_error\u001b[39m=\u001b[39;49mon_error,\n\u001b[0;32m    355\u001b[0m )\n",
      "File \u001b[1;32mc:\\Users\\joppu\\ana\\lib\\site-packages\\google\\api_core\\retry.py:191\u001b[0m, in \u001b[0;36mretry_target\u001b[1;34m(target, predicate, sleep_generator, timeout, on_error, **kwargs)\u001b[0m\n\u001b[0;32m    190\u001b[0m \u001b[39mtry\u001b[39;00m:\n\u001b[1;32m--> 191\u001b[0m     \u001b[39mreturn\u001b[39;00m target()\n\u001b[0;32m    193\u001b[0m \u001b[39m# pylint: disable=broad-except\u001b[39;00m\n\u001b[0;32m    194\u001b[0m \u001b[39m# This function explicitly must deal with broad exceptions.\u001b[39;00m\n",
      "File \u001b[1;32mc:\\Users\\joppu\\ana\\lib\\site-packages\\google\\cloud\\_http\\__init__.py:494\u001b[0m, in \u001b[0;36mJSONConnection.api_request\u001b[1;34m(self, method, path, query_params, data, content_type, headers, api_base_url, api_version, expect_json, _target_object, timeout, extra_api_info)\u001b[0m\n\u001b[0;32m    493\u001b[0m \u001b[39mif\u001b[39;00m \u001b[39mnot\u001b[39;00m \u001b[39m200\u001b[39m \u001b[39m<\u001b[39m\u001b[39m=\u001b[39m response\u001b[39m.\u001b[39mstatus_code \u001b[39m<\u001b[39m \u001b[39m300\u001b[39m:\n\u001b[1;32m--> 494\u001b[0m     \u001b[39mraise\u001b[39;00m exceptions\u001b[39m.\u001b[39mfrom_http_response(response)\n\u001b[0;32m    496\u001b[0m \u001b[39mif\u001b[39;00m expect_json \u001b[39mand\u001b[39;00m response\u001b[39m.\u001b[39mcontent:\n",
      "\u001b[1;31mForbidden\u001b[0m: 403 POST https://bigquery.googleapis.com/bigquery/v2/projects/persuasive-zoo-147513/jobs?prettyPrint=false: Access Denied: Project persuasive-zoo-147513: User does not have bigquery.jobs.create permission in project persuasive-zoo-147513.\n\nLocation: None\nJob ID: 4b5f1169-4381-44a0-9e9f-56edd0f23861\n",
      "\nThe above exception was the direct cause of the following exception:\n",
      "\u001b[1;31mGenericGBQException\u001b[0m                       Traceback (most recent call last)",
      "Cell \u001b[1;32mIn[33], line 2\u001b[0m\n\u001b[0;32m      1\u001b[0m \u001b[39m#%%time\u001b[39;00m\n\u001b[1;32m----> 2\u001b[0m taxi_df \u001b[39m=\u001b[39m pd\u001b[39m.\u001b[39;49mread_gbq(query\u001b[39m=\u001b[39;49mquery, dialect\u001b[39m=\u001b[39;49m\u001b[39m'\u001b[39;49m\u001b[39mstandard\u001b[39;49m\u001b[39m'\u001b[39;49m, project_id\u001b[39m=\u001b[39;49m\u001b[39m'\u001b[39;49m\u001b[39mpersuasive-zoo-147513\u001b[39;49m\u001b[39m'\u001b[39;49m, credentials\u001b[39m=\u001b[39;49mcredentials)\n",
      "File \u001b[1;32mc:\\Users\\joppu\\ana\\lib\\site-packages\\pandas\\io\\gbq.py:189\u001b[0m, in \u001b[0;36mread_gbq\u001b[1;34m(query, project_id, index_col, col_order, reauth, auth_local_webserver, dialect, location, configuration, credentials, use_bqstorage_api, max_results, progress_bar_type)\u001b[0m\n\u001b[0;32m    186\u001b[0m kwargs[\u001b[39m\"\u001b[39m\u001b[39mprogress_bar_type\u001b[39m\u001b[39m\"\u001b[39m] \u001b[39m=\u001b[39m progress_bar_type\n\u001b[0;32m    187\u001b[0m \u001b[39m# END: new kwargs\u001b[39;00m\n\u001b[1;32m--> 189\u001b[0m \u001b[39mreturn\u001b[39;00m pandas_gbq\u001b[39m.\u001b[39mread_gbq(\n\u001b[0;32m    190\u001b[0m     query,\n\u001b[0;32m    191\u001b[0m     project_id\u001b[39m=\u001b[39mproject_id,\n\u001b[0;32m    192\u001b[0m     index_col\u001b[39m=\u001b[39mindex_col,\n\u001b[0;32m    193\u001b[0m     col_order\u001b[39m=\u001b[39mcol_order,\n\u001b[0;32m    194\u001b[0m     reauth\u001b[39m=\u001b[39mreauth,\n\u001b[0;32m    195\u001b[0m     auth_local_webserver\u001b[39m=\u001b[39mauth_local_webserver,\n\u001b[0;32m    196\u001b[0m     dialect\u001b[39m=\u001b[39mdialect,\n\u001b[0;32m    197\u001b[0m     location\u001b[39m=\u001b[39mlocation,\n\u001b[0;32m    198\u001b[0m     configuration\u001b[39m=\u001b[39mconfiguration,\n\u001b[0;32m    199\u001b[0m     credentials\u001b[39m=\u001b[39mcredentials,\n\u001b[0;32m    200\u001b[0m     \u001b[39m*\u001b[39m\u001b[39m*\u001b[39mkwargs,\n\u001b[0;32m    201\u001b[0m )\n",
      "File \u001b[1;32mc:\\Users\\joppu\\ana\\lib\\site-packages\\pandas_gbq\\gbq.py:943\u001b[0m, in \u001b[0;36mread_gbq\u001b[1;34m(query_or_table, project_id, index_col, col_order, reauth, auth_local_webserver, dialect, location, configuration, credentials, use_bqstorage_api, max_results, verbose, private_key, progress_bar_type, dtypes, auth_redirect_uri, client_id, client_secret)\u001b[0m\n\u001b[0;32m    928\u001b[0m connector \u001b[39m=\u001b[39m GbqConnector(\n\u001b[0;32m    929\u001b[0m     project_id,\n\u001b[0;32m    930\u001b[0m     reauth\u001b[39m=\u001b[39mreauth,\n\u001b[1;32m   (...)\u001b[0m\n\u001b[0;32m    939\u001b[0m     client_secret\u001b[39m=\u001b[39mclient_secret,\n\u001b[0;32m    940\u001b[0m )\n\u001b[0;32m    942\u001b[0m \u001b[39mif\u001b[39;00m _is_query(query_or_table):\n\u001b[1;32m--> 943\u001b[0m     final_df \u001b[39m=\u001b[39m connector\u001b[39m.\u001b[39;49mrun_query(\n\u001b[0;32m    944\u001b[0m         query_or_table,\n\u001b[0;32m    945\u001b[0m         configuration\u001b[39m=\u001b[39;49mconfiguration,\n\u001b[0;32m    946\u001b[0m         max_results\u001b[39m=\u001b[39;49mmax_results,\n\u001b[0;32m    947\u001b[0m         progress_bar_type\u001b[39m=\u001b[39;49mprogress_bar_type,\n\u001b[0;32m    948\u001b[0m         dtypes\u001b[39m=\u001b[39;49mdtypes,\n\u001b[0;32m    949\u001b[0m     )\n\u001b[0;32m    950\u001b[0m \u001b[39melse\u001b[39;00m:\n\u001b[0;32m    951\u001b[0m     final_df \u001b[39m=\u001b[39m connector\u001b[39m.\u001b[39mdownload_table(\n\u001b[0;32m    952\u001b[0m         query_or_table,\n\u001b[0;32m    953\u001b[0m         max_results\u001b[39m=\u001b[39mmax_results,\n\u001b[0;32m    954\u001b[0m         progress_bar_type\u001b[39m=\u001b[39mprogress_bar_type,\n\u001b[0;32m    955\u001b[0m         dtypes\u001b[39m=\u001b[39mdtypes,\n\u001b[0;32m    956\u001b[0m     )\n",
      "File \u001b[1;32mc:\\Users\\joppu\\ana\\lib\\site-packages\\pandas_gbq\\gbq.py:495\u001b[0m, in \u001b[0;36mGbqConnector.run_query\u001b[1;34m(self, query, max_results, progress_bar_type, **kwargs)\u001b[0m\n\u001b[0;32m    490\u001b[0m         \u001b[39mraise\u001b[39;00m AccessDenied(\n\u001b[0;32m    491\u001b[0m             \u001b[39m\"\u001b[39m\u001b[39mThe credentials have been revoked or expired, \u001b[39m\u001b[39m\"\u001b[39m\n\u001b[0;32m    492\u001b[0m             \u001b[39m\"\u001b[39m\u001b[39mplease re-run the application to re-authorize\u001b[39m\u001b[39m\"\u001b[39m\n\u001b[0;32m    493\u001b[0m         )\n\u001b[0;32m    494\u001b[0m \u001b[39mexcept\u001b[39;00m \u001b[39mself\u001b[39m\u001b[39m.\u001b[39mhttp_error \u001b[39mas\u001b[39;00m ex:\n\u001b[1;32m--> 495\u001b[0m     \u001b[39mself\u001b[39;49m\u001b[39m.\u001b[39;49mprocess_http_error(ex)\n\u001b[0;32m    497\u001b[0m job_id \u001b[39m=\u001b[39m query_reply\u001b[39m.\u001b[39mjob_id\n\u001b[0;32m    498\u001b[0m logger\u001b[39m.\u001b[39mdebug(\u001b[39m\"\u001b[39m\u001b[39mJob ID: \u001b[39m\u001b[39m%s\u001b[39;00m\u001b[39m\"\u001b[39m \u001b[39m%\u001b[39m job_id)\n",
      "File \u001b[1;32mc:\\Users\\joppu\\ana\\lib\\site-packages\\pandas_gbq\\gbq.py:396\u001b[0m, in \u001b[0;36mGbqConnector.process_http_error\u001b[1;34m(ex)\u001b[0m\n\u001b[0;32m    394\u001b[0m     \u001b[39mraise\u001b[39;00m TableCreationError(\u001b[39mf\u001b[39m\u001b[39m\"\u001b[39m\u001b[39mReason: \u001b[39m\u001b[39m{\u001b[39;00merror_message\u001b[39m}\u001b[39;00m\u001b[39m\"\u001b[39m)\n\u001b[0;32m    395\u001b[0m \u001b[39melse\u001b[39;00m:\n\u001b[1;32m--> 396\u001b[0m     \u001b[39mraise\u001b[39;00m GenericGBQException(\u001b[39m\"\u001b[39m\u001b[39mReason: \u001b[39m\u001b[39m{0}\u001b[39;00m\u001b[39m\"\u001b[39m\u001b[39m.\u001b[39mformat(ex)) \u001b[39mfrom\u001b[39;00m \u001b[39mex\u001b[39;00m\n",
      "\u001b[1;31mGenericGBQException\u001b[0m: Reason: 403 POST https://bigquery.googleapis.com/bigquery/v2/projects/persuasive-zoo-147513/jobs?prettyPrint=false: Access Denied: Project persuasive-zoo-147513: User does not have bigquery.jobs.create permission in project persuasive-zoo-147513.\n\nLocation: None\nJob ID: 4b5f1169-4381-44a0-9e9f-56edd0f23861\n"
     ]
    }
   ],
   "source": [
    "#%%time\n",
    "taxi_df = pd.read_gbq(query=query, dialect='standard', project_id='persuasive-zoo-147513', credentials=credentials)"
   ]
  },
  {
   "cell_type": "code",
   "execution_count": null,
   "metadata": {},
   "outputs": [],
   "source": [
    "taxi_df"
   ]
  },
  {
   "attachments": {},
   "cell_type": "markdown",
   "metadata": {},
   "source": [
    "### GridLayer\n",
    "- 10만개 데이터"
   ]
  },
  {
   "cell_type": "code",
   "execution_count": null,
   "metadata": {},
   "outputs": [],
   "source": [
    "arc_layer = pdk.Layer(\n",
    "    'GridLayer',\n",
    "    taxi_df,\n",
    "    get_position='[pickup_longitude, pickup_latitude]',\n",
    "    pickable=True, \n",
    "    auto_highlight=True,\n",
    "    tooltip=True\n",
    ")\n",
    "\n",
    "nyc_center = [-73.9808, 40.7648] \n",
    "view_state = pdk.ViewState(longitude=nyc_center[0], latitude=nyc_center[1], zoom=9)\n",
    "\n",
    "r = pdk.Deck(layers=[arc_layer], initial_view_state=view_state)\n",
    "r.show()"
   ]
  },
  {
   "attachments": {},
   "cell_type": "markdown",
   "metadata": {},
   "source": [
    "### Arc Layer"
   ]
  },
  {
   "cell_type": "code",
   "execution_count": null,
   "metadata": {},
   "outputs": [],
   "source": [
    "zip_code_query = \"\"\"\n",
    "WITH base_data AS \n",
    "(\n",
    "  SELECT \n",
    "    nyc_taxi.*, \n",
    "    pickup.zip_code as pickup_zip_code,\n",
    "    pickup.internal_point_lat as pickup_zip_code_lat,\n",
    "    pickup.internal_point_lon as pickup_zip_code_lon,\n",
    "    dropoff.zip_code as dropoff_zip_code,\n",
    "    dropoff.internal_point_lat as dropoff_zip_code_lat,\n",
    "    dropoff.internal_point_lon as dropoff_zip_code_lon\n",
    "  FROM (\n",
    "    SELECT *\n",
    "    FROM `bigquery-public-data.new_york_taxi_trips.tlc_yellow_trips_2015`\n",
    "    WHERE \n",
    "        EXTRACT(MONTH from pickup_datetime) = 1\n",
    "        and pickup_latitude <= 90 and pickup_latitude >= -90\n",
    "        and dropoff_latitude <= 90 and dropoff_latitude >= -90\n",
    "    ) AS nyc_taxi\n",
    "  JOIN (\n",
    "    SELECT zip_code, state_code, state_name, city, county, zip_code_geom, internal_point_lat, internal_point_lon \n",
    "    FROM `bigquery-public-data.geo_us_boundaries.zip_codes`\n",
    "    WHERE state_code='NY'\n",
    "    ) AS pickup \n",
    "  ON ST_CONTAINS(pickup.zip_code_geom, st_geogpoint(pickup_longitude, pickup_latitude))\n",
    "  JOIN (\n",
    "    SELECT zip_code, state_code, state_name, city, county, zip_code_geom, internal_point_lat, internal_point_lon \n",
    "    FROM `bigquery-public-data.geo_us_boundaries.zip_codes`\n",
    "    WHERE state_code='NY' \n",
    "    ) AS dropoff\n",
    "  ON ST_CONTAINS(dropoff.zip_code_geom, st_geogpoint(dropoff_longitude, dropoff_latitude))\n",
    "  \n",
    ")\n",
    "\n",
    "SELECT \n",
    "  *\n",
    "FROM base_data \n",
    "limit 10000\n",
    "\"\"\""
   ]
  },
  {
   "cell_type": "code",
   "execution_count": null,
   "metadata": {},
   "outputs": [],
   "source": [
    "%%time\n",
    "taxi_df_by_zipcode = pd.read_gbq(query=zip_code_query, dialect='standard', project_id='persuasive-zoo-147513', credentials=credentials)"
   ]
  },
  {
   "cell_type": "code",
   "execution_count": null,
   "metadata": {},
   "outputs": [],
   "source": [
    "taxi_df_by_zipcode.head(3)"
   ]
  },
  {
   "cell_type": "code",
   "execution_count": null,
   "metadata": {},
   "outputs": [],
   "source": [
    "\n",
    "arc_layer = pdk.Layer(\n",
    "    'ArcLayer',\n",
    "    taxi_df_by_zipcode,\n",
    "    get_source_position='[pickup_zip_code_lon, pickup_zip_code_lat]',\n",
    "    get_target_position='[dropoff_zip_code_lon, dropoff_zip_code_lat]',\n",
    "    get_source_color='[255, 255, 120]', \n",
    "    get_target_color='[255, 0, 0]',\n",
    "    get_widht='elevationValue',\n",
    "    pickable=True, \n",
    "    auto_highlight=True,\n",
    ")\n",
    "\n",
    "nyc_center = [-73.9808, 40.7648] \n",
    "view_state = pdk.ViewState(longitude=nyc_center[0], latitude=nyc_center[1], zoom=9)\n",
    "\n",
    "r = pdk.Deck(layers=[arc_layer], initial_view_state=view_state)\n",
    "r.show()\n"
   ]
  },
  {
   "attachments": {},
   "cell_type": "markdown",
   "metadata": {},
   "source": [
    "### Aggregate "
   ]
  },
  {
   "cell_type": "code",
   "execution_count": null,
   "metadata": {},
   "outputs": [],
   "source": [
    "agg_query = \"\"\"\n",
    "WITH base_data AS \n",
    "(\n",
    "  SELECT \n",
    "    nyc_taxi.*, \n",
    "    pickup.zip_code as pickup_zip_code,\n",
    "    pickup.internal_point_lat as pickup_zip_code_lat,\n",
    "    pickup.internal_point_lon as pickup_zip_code_lon,\n",
    "    dropoff.zip_code as dropoff_zip_code,\n",
    "    dropoff.internal_point_lat as dropoff_zip_code_lat,\n",
    "    dropoff.internal_point_lon as dropoff_zip_code_lon\n",
    "  FROM (\n",
    "    SELECT *\n",
    "    FROM `bigquery-public-data.new_york_taxi_trips.tlc_yellow_trips_2015`\n",
    "    WHERE \n",
    "        EXTRACT(MONTH from pickup_datetime) = 1\n",
    "        and pickup_latitude <= 90 and pickup_latitude >= -90\n",
    "        and dropoff_latitude <= 90 and dropoff_latitude >= -90\n",
    "    ) AS nyc_taxi\n",
    "  JOIN (\n",
    "    SELECT zip_code, state_code, state_name, city, county, zip_code_geom, internal_point_lat, internal_point_lon \n",
    "    FROM `bigquery-public-data.geo_us_boundaries.zip_codes`\n",
    "    WHERE state_code='NY'\n",
    "    ) AS pickup \n",
    "  ON ST_CONTAINS(pickup.zip_code_geom, st_geogpoint(pickup_longitude, pickup_latitude))\n",
    "  JOIN (\n",
    "    SELECT zip_code, state_code, state_name, city, county, zip_code_geom, internal_point_lat, internal_point_lon \n",
    "    FROM `bigquery-public-data.geo_us_boundaries.zip_codes`\n",
    "    WHERE state_code='NY' \n",
    "    ) AS dropoff\n",
    "  ON ST_CONTAINS(dropoff.zip_code_geom, st_geogpoint(dropoff_longitude, dropoff_latitude))\n",
    "  \n",
    ")\n",
    "\n",
    "SELECT \n",
    "  pickup_zip_code,\n",
    "  pickup_zip_code_lat,\n",
    "  pickup_zip_code_lon,\n",
    "  dropoff_zip_code,\n",
    "  dropoff_zip_code_lat,\n",
    "  dropoff_zip_code_lon,\n",
    "  COUNT(*) AS cnt\n",
    "FROM base_data \n",
    "GROUP BY 1,2,3,4,5,6\n",
    "limit 10000\n",
    "\"\"\""
   ]
  },
  {
   "cell_type": "code",
   "execution_count": null,
   "metadata": {},
   "outputs": [],
   "source": [
    "%%time\n",
    "agg_df = pd.read_gbq(query=agg_query, dialect='standard', project_id='persuasive-zoo-147513', credentials=credentials)"
   ]
  },
  {
   "cell_type": "code",
   "execution_count": null,
   "metadata": {},
   "outputs": [],
   "source": [
    "agg_df.head()"
   ]
  },
  {
   "cell_type": "code",
   "execution_count": null,
   "metadata": {},
   "outputs": [],
   "source": [
    "agg_df = agg_df.sort_values('cnt', ascending=False)"
   ]
  },
  {
   "cell_type": "code",
   "execution_count": null,
   "metadata": {},
   "outputs": [],
   "source": [
    "agg_df = agg_df[:100]"
   ]
  },
  {
   "cell_type": "code",
   "execution_count": null,
   "metadata": {},
   "outputs": [],
   "source": [
    "\n",
    "arc_layer = pdk.Layer(\n",
    "    'ArcLayer',\n",
    "    agg_df,\n",
    "    get_source_position='[pickup_zip_code_lon, pickup_zip_code_lat]',\n",
    "    get_target_position='[dropoff_zip_code_lon, dropoff_zip_code_lat]',\n",
    "    get_source_color='[255, 255, 120]', \n",
    "    get_target_color='[255, 0, 0]',\n",
    "    width_units='meters',\n",
    "    get_width=\"1+10*cnt/500\",\n",
    "    pickable=True, \n",
    "    auto_highlight=True,\n",
    ")\n",
    "\n",
    "nyc_center = [-73.9808, 40.7648] \n",
    "view_state = pdk.ViewState(longitude=nyc_center[0], latitude=nyc_center[1], zoom=9)\n",
    "\n",
    "r = pdk.Deck(layers=[arc_layer], initial_view_state=view_state,\n",
    "             tooltip={\n",
    "                 'html': '<b>count:</b> {cnt}',\n",
    "                 'style': {\n",
    "                     'color': 'white'\n",
    "                 }\n",
    "             }\n",
    "            )\n",
    "r.show()\n"
   ]
  },
  {
   "attachments": {},
   "cell_type": "markdown",
   "metadata": {},
   "source": [
    "### 요일별 위젯"
   ]
  },
  {
   "cell_type": "code",
   "execution_count": null,
   "metadata": {},
   "outputs": [],
   "source": [
    "agg_query2 = \"\"\"\n",
    "WITH base_data AS \n",
    "(\n",
    "  SELECT \n",
    "    nyc_taxi.*, \n",
    "    pickup.zip_code as pickup_zip_code,\n",
    "    pickup.internal_point_lat as pickup_zip_code_lat,\n",
    "    pickup.internal_point_lon as pickup_zip_code_lon,\n",
    "    dropoff.zip_code as dropoff_zip_code,\n",
    "    dropoff.internal_point_lat as dropoff_zip_code_lat,\n",
    "    dropoff.internal_point_lon as dropoff_zip_code_lon\n",
    "  FROM (\n",
    "    SELECT *\n",
    "    FROM `bigquery-public-data.new_york_taxi_trips.tlc_yellow_trips_2015`\n",
    "    WHERE \n",
    "        EXTRACT(MONTH from pickup_datetime) = 1\n",
    "        and pickup_latitude <= 90 and pickup_latitude >= -90\n",
    "        and dropoff_latitude <= 90 and dropoff_latitude >= -90\n",
    "    LIMIT 100000\n",
    "    ) AS nyc_taxi\n",
    "  JOIN (\n",
    "    SELECT zip_code, state_code, state_name, city, county, zip_code_geom, internal_point_lat, internal_point_lon \n",
    "    FROM `bigquery-public-data.geo_us_boundaries.zip_codes`\n",
    "    WHERE state_code='NY'\n",
    "    ) AS pickup \n",
    "  ON ST_CONTAINS(pickup.zip_code_geom, st_geogpoint(pickup_longitude, pickup_latitude))\n",
    "  JOIN (\n",
    "    SELECT zip_code, state_code, state_name, city, county, zip_code_geom, internal_point_lat, internal_point_lon \n",
    "    FROM `bigquery-public-data.geo_us_boundaries.zip_codes`\n",
    "    WHERE state_code='NY' \n",
    "    ) AS dropoff\n",
    "  ON ST_CONTAINS(dropoff.zip_code_geom, st_geogpoint(dropoff_longitude, dropoff_latitude))\n",
    "  \n",
    ")\n",
    "\n",
    "SELECT \n",
    "  CAST(format_datetime('%u', pickup_datetime) AS INT64) -1 AS weekday,\n",
    "  pickup_zip_code,\n",
    "  pickup_zip_code_lat,\n",
    "  pickup_zip_code_lon,\n",
    "  dropoff_zip_code,\n",
    "  dropoff_zip_code_lat,\n",
    "  dropoff_zip_code_lon,\n",
    "  COUNT(*) AS cnt\n",
    "FROM base_data \n",
    "GROUP BY 1,2,3,4,5,6,7\n",
    "\"\"\""
   ]
  },
  {
   "cell_type": "code",
   "execution_count": null,
   "metadata": {},
   "outputs": [],
   "source": [
    "%%time\n",
    "agg_df2 = pd.read_gbq(query=agg_query2, dialect='standard', project_id='persuasive-zoo-147513', credentials=credentials)"
   ]
  },
  {
   "cell_type": "code",
   "execution_count": null,
   "metadata": {},
   "outputs": [],
   "source": [
    "agg_df2.head()"
   ]
  },
  {
   "cell_type": "code",
   "execution_count": null,
   "metadata": {},
   "outputs": [],
   "source": [
    "default_data = agg_df2[agg_df2['weekday'] == 0].to_dict(orient='records')"
   ]
  },
  {
   "cell_type": "code",
   "execution_count": null,
   "metadata": {},
   "outputs": [],
   "source": [
    "arc_layer = pdk.Layer(\n",
    "    'ArcLayer',\n",
    "    default_data,\n",
    "    get_source_position='[pickup_zip_code_lon, pickup_zip_code_lat]',\n",
    "    get_target_position='[dropoff_zip_code_lon, dropoff_zip_code_lat]',\n",
    "    get_source_color='[255, 255, 120]', \n",
    "    get_target_color='[255, 0, 0]',\n",
    "    width_units='meters',\n",
    "    get_width=\"1+10*cnt/500\",\n",
    "    pickable=True, \n",
    "    auto_highlight=True,\n",
    ")\n",
    "\n",
    "nyc_center = [-73.9808, 40.7648] \n",
    "view_state = pdk.ViewState(longitude=nyc_center[0], latitude=nyc_center[1], zoom=9)\n",
    "\n",
    "r = pdk.Deck(layers=[arc_layer], initial_view_state=view_state,\n",
    "             tooltip={\n",
    "                 'html': '<b>count:</b> {cnt}',\n",
    "                 'style': {\n",
    "                     'color': 'white'\n",
    "                 }\n",
    "             }\n",
    "            )\n",
    "r.show()\n"
   ]
  },
  {
   "cell_type": "code",
   "execution_count": null,
   "metadata": {},
   "outputs": [],
   "source": [
    "# Widget 슬라이더 생성\n",
    "import ipywidgets as widgets\n",
    "from IPython.display import display\n",
    "slider = widgets.IntSlider(0, min=0, max=6, step=1)\n",
    "\n",
    "# Widget에서 사용할 함수 정의 \n",
    "def on_change(v):\n",
    "    results = agg_df2[agg_df2['weekday'] == slider.value].to_dict(orient='records')\n",
    "    arc_layer.data = results\n",
    "    r.update()\n",
    "\n",
    "# Deck과 슬라이더 연결\n",
    "slider.observe(on_change, names='value')\n",
    "display(slider)"
   ]
  },
  {
   "cell_type": "code",
   "execution_count": null,
   "metadata": {},
   "outputs": [],
   "source": []
  }
 ],
 "metadata": {
  "kernelspec": {
   "display_name": "Python 3 (ipykernel)",
   "language": "python",
   "name": "python3"
  },
  "language_info": {
   "codemirror_mode": {
    "name": "ipython",
    "version": 3
   },
   "file_extension": ".py",
   "mimetype": "text/x-python",
   "name": "python",
   "nbconvert_exporter": "python",
   "pygments_lexer": "ipython3",
   "version": "3.10.9"
  },
  "varInspector": {
   "cols": {
    "lenName": 16,
    "lenType": 16,
    "lenVar": 40
   },
   "kernels_config": {
    "python": {
     "delete_cmd_postfix": "",
     "delete_cmd_prefix": "del ",
     "library": "var_list.py",
     "varRefreshCmd": "print(var_dic_list())"
    },
    "r": {
     "delete_cmd_postfix": ") ",
     "delete_cmd_prefix": "rm(",
     "library": "var_list.r",
     "varRefreshCmd": "cat(var_dic_list()) "
    }
   },
   "types_to_exclude": [
    "module",
    "function",
    "builtin_function_or_method",
    "instance",
    "_Feature"
   ],
   "window_display": false
  }
 },
 "nbformat": 4,
 "nbformat_minor": 4
}
