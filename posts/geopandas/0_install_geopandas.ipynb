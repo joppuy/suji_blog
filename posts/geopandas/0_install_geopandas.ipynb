{
 "cells": [
  {
   "cell_type": "markdown",
   "metadata": {},
   "source": [
    "## 자료 출처\n",
    "\n",
    "DHL님의 블로그 - https://thlee33.medium.com/windows-10%EC%97%90%EC%84%9C-geopandas-%EC%84%A4%EC%B9%98%ED%95%98%EA%B8%B0-2021-07-f07efea9294a"
   ]
  },
  {
   "cell_type": "markdown",
   "metadata": {},
   "source": [
    "## 기본 환경\n",
    "\n",
    "Anaconda - Python: 3.8.10\n",
    "윈도우 10, 64bit"
   ]
  },
  {
   "cell_type": "code",
   "execution_count": 1,
   "metadata": {},
   "outputs": [
    {
     "data": {
      "text/plain": [
       "'c:\\\\Users\\\\joppu\\\\anaconda3\\\\python.exe'"
      ]
     },
     "execution_count": 1,
     "metadata": {},
     "output_type": "execute_result"
    }
   ],
   "source": [
    "import sys\n",
    "sys.executable"
   ]
  },
  {
   "cell_type": "code",
   "execution_count": 2,
   "metadata": {},
   "outputs": [
    {
     "data": {
      "text/plain": [
       "'3.10.9 | packaged by Anaconda, Inc. | (main, Mar  1 2023, 18:18:15) [MSC v.1916 64 bit (AMD64)]'"
      ]
     },
     "execution_count": 2,
     "metadata": {},
     "output_type": "execute_result"
    }
   ],
   "source": [
    "sys.version"
   ]
  },
  {
   "cell_type": "markdown",
   "metadata": {},
   "source": [
    "## 패키지 다운로드\n",
    "\n",
    "더 아래의 pip 설치 구문에 있는 패키지별 버전을 참조하여\n",
    "아래의 사이트에서 각 패키지 설치 파일(.whl)을 다운로드 받습니다.\n",
    "\n",
    "https://www.lfd.uci.edu/~gohlke/pythonlibs/#shapely  \n",
    "https://www.lfd.uci.edu/~gohlke/pythonlibs/#gdal  \n",
    "https://www.lfd.uci.edu/~gohlke/pythonlibs/#fiona  \n",
    "https://pypi.org/project/geopandas/#files"
   ]
  },
  {
   "cell_type": "markdown",
   "metadata": {},
   "source": [
    "## 설치\n",
    "\n",
    "아나콘다 프롬프트를 관리자 권한으로 실행합니다.  \n",
    "VSCode로 진행하시는 분은 VSCode 실행을 관리자권한으로 해야 합니다.  \n",
    "현재 경로를 확인하고 이를 감안하여 적정 경로에 설치 파일을 이동해놓습니다.  \n",
    "저는 강의자료가 있는 곳에 geopandas를 폴더를 만들고 이 폴더 안에 설치 파일들을 옮겨놓음  \n",
    "\n",
    "아래의 설치/업데이트 구문을 한줄씩 실행합니다.  \n",
    "먼저, pip와 numpy를 업그레이드 합니다.  "
   ]
  },
  {
   "cell_type": "code",
   "execution_count": 3,
   "metadata": {},
   "outputs": [
    {
     "name": "stderr",
     "output_type": "stream",
     "text": [
      "ERROR: Invalid requirement: '—'\n",
      "ERROR: Invalid requirement: '—'\n"
     ]
    }
   ],
   "source": [
    "!python -m pip install — upgrade pip\n",
    "!pip install — upgrade numpy"
   ]
  },
  {
   "cell_type": "markdown",
   "metadata": {},
   "source": [
    "그 다음 아래 패키지를 순차적으로 설치합니다"
   ]
  },
  {
   "cell_type": "code",
   "execution_count": 4,
   "metadata": {},
   "outputs": [
    {
     "name": "stderr",
     "output_type": "stream",
     "text": [
      "'pip3.10'��(��) ���� �Ǵ� �ܺ� ����, ������ �� �ִ� ���α׷�, �Ǵ�\n",
      "��ġ ������ �ƴմϴ�.\n"
     ]
    },
    {
     "name": "stdout",
     "output_type": "stream",
     "text": [
      "Processing c:\\users\\joppu\\onedrive\\문서\\data minning\\suji_blog\\geopandas\\geopandas\\shapely-1.8.2-cp310-cp310-win_amd64.whl\n"
     ]
    },
    {
     "name": "stderr",
     "output_type": "stream",
     "text": [
      "WARNING: Requirement 'geopandas/shapely-1.8.2-cp310-cp310-win_amd64.whl' looks like a filename, but the file does not exist\n",
      "ERROR: Could not install packages due to an OSError: [Errno 2] No such file or directory: 'C:\\\\Users\\\\joppu\\\\OneDrive\\\\문서\\\\data minning\\\\suji_blog\\\\geopandas\\\\geopandas\\\\shapely-1.8.2-cp310-cp310-win_amd64.whl'\n",
      "\n"
     ]
    },
    {
     "name": "stdout",
     "output_type": "stream",
     "text": [
      "Processing c:\\users\\joppu\\onedrive\\문서\\data minning\\suji_blog\\geopandas\\geopandas\\gdal-3.4.3-cp310-cp310-win_amd64.whl\n"
     ]
    },
    {
     "name": "stderr",
     "output_type": "stream",
     "text": [
      "WARNING: Requirement 'geopandas/GDAL-3.4.3-cp310-cp310-win_amd64.whl' looks like a filename, but the file does not exist\n",
      "ERROR: Could not install packages due to an OSError: [Errno 2] No such file or directory: 'C:\\\\Users\\\\joppu\\\\OneDrive\\\\문서\\\\data minning\\\\suji_blog\\\\geopandas\\\\geopandas\\\\GDAL-3.4.3-cp310-cp310-win_amd64.whl'\n",
      "\n"
     ]
    },
    {
     "name": "stdout",
     "output_type": "stream",
     "text": [
      "Processing c:\\users\\joppu\\onedrive\\문서\\data minning\\suji_blog\\geopandas\\geopandas\\fiona-1.8.21-cp310-cp310-win_amd64.whl\n"
     ]
    },
    {
     "name": "stderr",
     "output_type": "stream",
     "text": [
      "WARNING: Requirement 'geopandas/Fiona-1.8.21-cp310-cp310-win_amd64.whl' looks like a filename, but the file does not exist\n",
      "ERROR: Could not install packages due to an OSError: [Errno 2] No such file or directory: 'C:\\\\Users\\\\joppu\\\\OneDrive\\\\문서\\\\data minning\\\\suji_blog\\\\geopandas\\\\geopandas\\\\Fiona-1.8.21-cp310-cp310-win_amd64.whl'\n",
      "\n"
     ]
    },
    {
     "name": "stdout",
     "output_type": "stream",
     "text": [
      "Processing c:\\users\\joppu\\onedrive\\문서\\data minning\\suji_blog\\geopandas\\geopandas\\geopandas-0.12.2-py3-none-any.whl\n"
     ]
    },
    {
     "name": "stderr",
     "output_type": "stream",
     "text": [
      "WARNING: Requirement 'geopandas/geopandas-0.12.2-py3-none-any.whl' looks like a filename, but the file does not exist\n",
      "ERROR: Could not install packages due to an OSError: [Errno 2] No such file or directory: 'C:\\\\Users\\\\joppu\\\\OneDrive\\\\문서\\\\data minning\\\\suji_blog\\\\geopandas\\\\geopandas\\\\geopandas-0.12.2-py3-none-any.whl'\n",
      "\n"
     ]
    }
   ],
   "source": [
    "!pip3.10 install pyproj \n",
    "!pip install geopandas/shapely-1.8.2-cp310-cp310-win_amd64.whl\n",
    "!pip install geopandas/GDAL-3.4.3-cp310-cp310-win_amd64.whl\n",
    "!pip install geopandas/Fiona-1.8.21-cp310-cp310-win_amd64.whl\n",
    "!pip install geopandas/geopandas-0.12.2-py3-none-any.whl"
   ]
  },
  {
   "cell_type": "markdown",
   "metadata": {},
   "source": [
    "실행이 잘 되는지 확인"
   ]
  },
  {
   "cell_type": "code",
   "execution_count": 2,
   "metadata": {},
   "outputs": [],
   "source": [
    "import geopandas as gpd"
   ]
  },
  {
   "cell_type": "code",
   "execution_count": null,
   "metadata": {},
   "outputs": [],
   "source": []
  }
 ],
 "metadata": {
  "interpreter": {
   "hash": "6f75069263133be733bb13a39f52f84e466286b0fc81a54523ae8c6273fbc591"
  },
  "kernelspec": {
   "display_name": "Python 3",
   "language": "python",
   "name": "python3"
  },
  "language_info": {
   "codemirror_mode": {
    "name": "ipython",
    "version": 3
   },
   "file_extension": ".py",
   "mimetype": "text/x-python",
   "name": "python",
   "nbconvert_exporter": "python",
   "pygments_lexer": "ipython3",
   "version": "3.10.9"
  }
 },
 "nbformat": 4,
 "nbformat_minor": 4
}
